{
 "cells": [
  {
   "cell_type": "markdown",
   "id": "53a43c59-de1f-410c-95d9-acce2892d8ca",
   "metadata": {
    "colab_type": "text",
    "editable": true,
    "id": "TJfNUgelLKKI",
    "slideshow": {
     "slide_type": ""
    },
    "tags": []
   },
   "source": [
    "# Capstone Project: Neuroblastoma gene expression data analysis\n",
    "## Advanced Python for Life Sciences @ Physalia courses (Summer 2025)\n",
    "### Marco Chierici, Fondazione Bruno Kessler - Data Science For Health"
   ]
  },
  {
   "cell_type": "markdown",
   "id": "8a939f3d-d64e-4e1c-8f61-25acbcd58e1d",
   "metadata": {},
   "source": [
    "## Objective\n",
    "\n",
    "In this project, you will go through the analytical steps of a typical data science workflow in Python on a real-world dataset of biological relevance. The full dataset consists of gene expression values of a cohort of 498 neuroblastoma patients with associated clinical data: see the [publication](https://www.ncbi.nlm.nih.gov/pubmed/26109056) for more detailed information.\n",
    "\n",
    "The dataset is publicly available through NCBI's Gene Expression Omnibus (GEO) with accession number [GSE49711](https://www.ncbi.nlm.nih.gov/geo/query/acc.cgi?acc=GSE49711).\n",
    "\n",
    "You main goal is to investigate the relationship between gene expression and the survival status of neuroblastoma patients."
   ]
  },
  {
   "cell_type": "markdown",
   "id": "de7a1cfd-1b31-42ea-8441-2aea6ef257a9",
   "metadata": {},
   "source": [
    "<img src=\"zhang_cover.png\" width=\"65%\" />"
   ]
  },
  {
   "attachments": {},
   "cell_type": "markdown",
   "id": "e9b41dc2-1ebd-4b48-8123-eab8db5b21b1",
   "metadata": {},
   "source": [
    "## Overview\n",
    "\n",
    "The clinical information includes a number of variables that can be used as targets (\"endpoints\") in order to study the relationship between gene expression and these outcomes. Such endpoints include the \"overall survival\" (whether the patient was alive at the end of the follow-up), an extreme disease outcome (favorable vs. unfavorable), and the neuroblastoma risk stratification by the Children’s Oncology Group (high vs. low).\n",
    "\n",
    "Additional clinical information include the status of the MYCN proto-oncogene genomic amplification and the tumor stage.\n",
    "\n",
    "The staging is defined by the International Neuroblastoma Staging System and ranges from spontaneous regression (stage 4S) to gradual maturation (stages 1 − 2) to aggressive and often fatal ganglioneuroma (stages 3 − 4).\n",
    "\n",
    "The following tables summarize the clinical information of the cohort."
   ]
  },
  {
   "cell_type": "markdown",
   "id": "3b9995c6-b71c-481a-af6b-9a5a9cf95120",
   "metadata": {},
   "source": [
    "<img src=\"zhang_table1.png\" width=\"34%\" />"
   ]
  },
  {
   "cell_type": "markdown",
   "id": "2bc315a2-28fe-4963-a231-645621d66c3a",
   "metadata": {},
   "source": [
    "<img src=\"zhang_table2.png\" width=\"95%\" />"
   ]
  },
  {
   "attachments": {},
   "cell_type": "markdown",
   "id": "bc5bf70c-ccc9-4b8f-a2a7-8602ebbddb14",
   "metadata": {
    "editable": true,
    "slideshow": {
     "slide_type": ""
    },
    "tags": []
   },
   "source": [
    "## Data exploration\n",
    "\n",
    "The log-normalized gene expression data is in the text file named `GSE49711_SEQC_NB_MAV_G_log2.20121127.txt.gz`, available on the study's GEO page. \n",
    "\n",
    "The clinical information for all patients (\"phenotype data\") is stored in the SOFT-formatted file available on GEO.\n",
    "\n",
    "Download data and metadata from GEO using Python and import them into a Pandas dataframe.\n",
    "\n",
    "Inspect the expression dataframe. In particular, look at the gene symbols and IDs: for the downstream analysis, keep only the genes that have a NCBI Gene ID and a RefSeq transcript ID.\n",
    "\n",
    "<div class=\"admonition note alert alert-info\">\n",
    "<p class=\"first admonition-title\" style=\"font-weight: bold;\">Note</p>\n",
    "<p class=\"last\">If you are curious about the genes with strange names without NCBI/RefSeq IDs, those are from AceView, a curated and comprehensive annotation database: more information on its <a href=\"https://www.ncbi.nlm.nih.gov/IEB/Research/Acembly/\">website</a>.</p>\n",
    "</div>\n",
    "\n",
    "Check for duplicated gene names (column `#Gene`) and remove them (hint: the method `.duplicated()` returns True/False on duplicated elements of a column).\n",
    "\n",
    "Check for missing *numerical* values in any column of the expression dataframe (`isnan()`) and, if any, handle them accordingly (hint: Pandas `dropna()`).\n",
    "\n",
    "Inspect the phenotype dataframe. Retain only the columns `title` (with patient IDs) and those matching `characteristics_ch1*`. Optionally, rename them to shorter but informative names of your choice.\n",
    "\n",
    "Focus only on a subset of the 498 patients with the label \"1\" in the `dataset` column of the phenotype dataframe (they should be 249). Check for missing *numerical* values in this new subset, and, if any, handle them accordingly. \n",
    "\n",
    "Finally, join the phenotype and expression dataframes. You can use a Pandas `merge` for this operation.\n",
    "\n",
    "Get some basic statistics out of the data. For example, the number or proportion of patients belonging to each level of the categorical clinical variables, such as \"class label\", \"death from disease\", and \"mycn status\" (hint: `.value_counts()`).\n",
    "\n",
    "Create barplots of the patient counts for each level of the clinical variables to visually check the patient distribution.\n",
    "\n",
    "Plot the distribution (histogram, density plot) of a few genes, such as MYCN, CD3E, CD274 - globally and stratified by stage, sex, class label, death from disease, low/high risk.\n",
    "\n",
    "Create a scatterplot matrix (e.g., `sns.pairplot()`) of genes such as GZMH, GZMK, CTLA4, TIGIT, LAMP3, BTLA, KLRK1, KLRC2, CD274. These genes are related to T-cell activity (GZMK, CTLA4, and TIGIT), control the function of intratumoral DCs (LAMP3, BTLA) and NK cells (KLRK1 and KLRC2), while CD274 is a gene encoding immune checkpoints.\n",
    "\n",
    "Create two versions of the scatterplot matrix where you highlight the status of MYCN amplification and the favorable status.\n",
    "\n",
    "You are also free to explore other genes or gene combinations."
   ]
  },
  {
   "cell_type": "markdown",
   "id": "30bcaab3-36a7-4fd8-ac47-33aebab3056e",
   "metadata": {
    "editable": true,
    "slideshow": {
     "slide_type": ""
    },
    "tags": []
   },
   "source": [
    "## (optional) Gene pre-filtering\n",
    "\n",
    "Filter the genes so to retain only the most variable ones, i.e. those whose standard deviation is above a predetermined threshold. Remember, choosing the right threshold is critical: you can pick a conservative threshold (keeping more genes) or a more stringent one (keeping less genes). You can check a histogram of the gene standard deviations to decide on a reasonable value. Compute the number of \"surviving\" genes for a few values of the threshold, then pick one.\n",
    "\n",
    "Save the filtered dataframe to a new variable."
   ]
  },
  {
   "cell_type": "markdown",
   "id": "4ebc0dbc-3735-46c6-b744-7815949a078a",
   "metadata": {
    "editable": true,
    "slideshow": {
     "slide_type": ""
    },
    "tags": []
   },
   "source": [
    "## Statistical analysis\n",
    "\n",
    "1. Conduct statistical tests to determine if the differences in gene expression are significant between different patient groups (`death_from_disease` condition).\n",
    "3. Adjust the p-values for multiple testing\n",
    "4. (optional) compute the (log) fold changes for each gene as `mean(gene expr on condition2) - mean(gene expr on condition1)` (gene expressions are already on the log scale)\n",
    "5. Pick the top 10-ish genes with the lower p-values\n",
    "6. Make boxplots for them, breaking down by \"death_from_disease\" values"
   ]
  },
  {
   "cell_type": "markdown",
   "id": "0a0da313-2bde-42fe-9d36-462afcf8999e",
   "metadata": {
    "editable": true,
    "slideshow": {
     "slide_type": ""
    },
    "tags": []
   },
   "source": [
    "## Machine learning analysis\n",
    "\n",
    "1. Pick `death_from_disease` as the target variable\n",
    "2. Split the data into training/test partitions, using for example 70/30% proportions\n",
    "3. Perform a PCA on the training test with 10 components, print the explained variance ratioes, and create a scatterplot of the first two principal components, colouring the points according to the target variable\n",
    "4. Build one or more classification models to predict the target variable based on gene expressions\n",
    "5. Evaluate the model(s) using appropriate metrics (e.g. accuracy, precision, recall, MCC)"
   ]
  },
  {
   "cell_type": "markdown",
   "id": "7c88a5f0-661c-49df-9b77-f4a699301d58",
   "metadata": {
    "editable": true,
    "slideshow": {
     "slide_type": ""
    },
    "tags": []
   },
   "source": [
    "## Interpretation\n",
    "\n",
    "1. If the classification model natively ranks the genes, get the top 10-ish ranked genes, otherwise get them from the results of your statistical analysis.\n",
    "2. Make boxplots for them, breaking down by \"death_from_disease\" values\n",
    "3. Use the top 100 ranked genes to conduct a pathway enrichment analysis.\n",
    "\n",
    "Hints: trained `RandomForestClassifier` objects have a `.feature_importances_` attribute that you can use to rank the features; trained `SVC` objects (with `kernel=\"linear\"` only) have a `.coef_` attribute with similar meaning."
   ]
  },
  {
   "cell_type": "markdown",
   "id": "6b0e429b-ca31-4124-b827-33bdfb239c68",
   "metadata": {},
   "source": [
    "## Wrap up\n",
    "\n",
    "Finally, try to touch up your notebook as if it were a report. Jupyter notebook are actually a useful tool to create dynamic reports including text, code, and figures.\n",
    "\n",
    "---"
   ]
  },
  {
   "cell_type": "code",
   "execution_count": null,
   "id": "cd64058e-d632-4a23-86c5-e347617a501e",
   "metadata": {},
   "outputs": [],
   "source": []
  }
 ],
 "metadata": {
  "kernelspec": {
   "display_name": "Python 3 (ipykernel)",
   "language": "python",
   "name": "python3"
  },
  "language_info": {
   "codemirror_mode": {
    "name": "ipython",
    "version": 3
   },
   "file_extension": ".py",
   "mimetype": "text/x-python",
   "name": "python",
   "nbconvert_exporter": "python",
   "pygments_lexer": "ipython3",
   "version": "3.12.7"
  }
 },
 "nbformat": 4,
 "nbformat_minor": 5
}
