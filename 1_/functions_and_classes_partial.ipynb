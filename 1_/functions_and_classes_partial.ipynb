{
 "cells": [
  {
   "cell_type": "markdown",
   "id": "6a6b362d-bb28-4d01-857d-7c603e7da590",
   "metadata": {},
   "source": [
    "# Functions and Classes\n",
    "## Intermediate Python for Life Sciences @ Physalia courses (Summer 2025)\n",
    "### Marco Chierici, Fondazione Bruno Kessler"
   ]
  },
  {
   "cell_type": "markdown",
   "id": "226c785c-4625-42b9-9bf6-7172e8a4d89a",
   "metadata": {},
   "source": [
    "# Functions"
   ]
  },
  {
   "cell_type": "markdown",
   "id": "7a555c39-c913-44cf-911b-2ded0fbce196",
   "metadata": {},
   "source": [
    "## Positional Arguments\n",
    "\n",
    "Much of what you will have to learn about using functions involves how to pass values from your calling statement to the function itself.\n",
    "\n",
    "Let's make a simple function that takes in **three arguments**."
   ]
  },
  {
   "cell_type": "code",
   "execution_count": 1,
   "id": "9302df1a-cf3a-421a-b78a-5f78747971f1",
   "metadata": {},
   "outputs": [
    {
     "name": "stdout",
     "output_type": "stream",
     "text": [
      "1685/3/21\n"
     ]
    }
   ],
   "source": [
    "def print_date(year, month, day):\n",
    "    joined = str(year) + '/' + str(month) + '/' + str(day)\n",
    "    print(joined)\n",
    "\n",
    "print_date(1685, 3, 21)"
   ]
  },
  {
   "cell_type": "markdown",
   "id": "f2d0c4a0-c365-4429-a981-2daf0cf5d190",
   "metadata": {},
   "source": [
    "## Keyword arguments\n",
    "\n",
    "This is pretty straightforward, but it means we have to make sure to get the arguments in the right order. To disambiguate, we can use *keyword arguments*, i.e., name the arguments when we call the function:"
   ]
  },
  {
   "cell_type": "code",
   "execution_count": null,
   "id": "c2c71b53-bf06-4706-a148-72fd75bb596f",
   "metadata": {},
   "outputs": [],
   "source": [
    "print_date(day=21, month=3, year=1685)"
   ]
  },
  {
   "cell_type": "markdown",
   "id": "5735444d-3158-4343-b37e-7fb7dd5225d4",
   "metadata": {},
   "source": [
    "Mixing positional and keyword arguments\n",
    "---\n",
    "It can make good sense sometimes to mix positional and keyword arguments. In our previous example, we can expect this function to always take in a year, month, and day. Before we start mixing positional and keyword arguments, let's add another piece of information, such as the name of an event related to that date."
   ]
  },
  {
   "cell_type": "code",
   "execution_count": 2,
   "id": "4ea8dea9-5d8c-43e2-9ea7-c491f23e7a97",
   "metadata": {},
   "outputs": [
    {
     "name": "stdout",
     "output_type": "stream",
     "text": [
      "Date: 1685/3/21\n",
      "Event: Bach's birthday\n",
      "\n"
     ]
    }
   ],
   "source": [
    "def print_date(year, month, day, event):\n",
    "    joined = str(year) + '/' + str(month) + '/' + str(day)\n",
    "    print(f\"Date: {joined}\")\n",
    "    print(f\"Event: {event}\")\n",
    "    print()\n",
    "\n",
    "print_date(1685, 3, 21, \"Bach's birthday\")"
   ]
  },
  {
   "cell_type": "markdown",
   "id": "95ccf66d-cf5c-46aa-9186-dbd9bd9b7bca",
   "metadata": {},
   "source": [
    "We can expect anyone who uses this function to supply a full date and an event, in that order. But some event information might not apply to every date."
   ]
  },
  {
   "cell_type": "code",
   "execution_count": 3,
   "id": "5e0454fd-dbab-4cf5-a6e6-43ca55f19f7b",
   "metadata": {},
   "outputs": [
    {
     "name": "stdout",
     "output_type": "stream",
     "text": [
      "Date: 1685/3/21\n",
      "Event: Bach's birthday\n",
      "\n",
      "Date: 2024/3/14\n",
      "Event: Pi Day\n",
      "\n",
      "Date: 2024/5/4\n",
      "Event: Star Wars Day\n",
      "\n",
      "Date: 2024/9/9\n",
      "\n"
     ]
    }
   ],
   "source": [
    "def print_date(year, month, day, event=None):\n",
    "    joined = str(year) + '/' + str(month) + '/' + str(day)\n",
    "    print(f\"Date: {joined}\")\n",
    "    if event:\n",
    "        print(f\"Event: {event}\")\n",
    "    print()\n",
    "\n",
    "print_date(1685, 3, 21, \"Bach's birthday\")\n",
    "print_date(2024, 3, 14, \"Pi Day\")\n",
    "print_date(2024, 5, 4, \"Star Wars Day\")\n",
    "print_date(2024, 9, 9)"
   ]
  },
  {
   "cell_type": "markdown",
   "id": "f8df5d47-5d37-475d-9af4-82566c502a56",
   "metadata": {},
   "source": [
    "## Arbitrary number of arguments\n",
    "\n",
    "Let's consider a function that takes two numbers in, and prints out the sum of the two numbers:"
   ]
  },
  {
   "cell_type": "code",
   "execution_count": null,
   "id": "febf88d7-08e6-476e-9fb0-756bf96a9631",
   "metadata": {},
   "outputs": [],
   "source": [
    "def adder(num_1, num_2):\n",
    "    # This function adds two numbers together, and prints the sum.\n",
    "    sum = num_1 + num_2\n",
    "    print(\"The sum of your numbers is %d.\" % sum)\n",
    "    \n",
    "# Let's add some numbers.\n",
    "adder(1, 2)\n",
    "adder(-1, 2)\n",
    "adder(1, -2)"
   ]
  },
  {
   "cell_type": "code",
   "execution_count": null,
   "id": "d35f8f14-a8ee-4a4d-891f-b07a00a7a489",
   "metadata": {},
   "outputs": [],
   "source": [
    "# Let's add some more numbers.\n",
    "adder(1, 2, 3)"
   ]
  },
  {
   "cell_type": "code",
   "execution_count": 4,
   "id": "bad01342-6368-455c-8c5d-88f94c052f8f",
   "metadata": {},
   "outputs": [
    {
     "name": "stdout",
     "output_type": "stream",
     "text": [
      "\n",
      "arg_1: 1\n",
      "arg_2: 2\n",
      "arg_3: ()\n",
      "\n",
      "arg_1: 1\n",
      "arg_2: 2\n",
      "arg_3: (3,)\n",
      "\n",
      "arg_1: 1\n",
      "arg_2: 2\n",
      "arg_3: (3, 4)\n",
      "\n",
      "arg_1: 1\n",
      "arg_2: 2\n",
      "arg_3: (3, 4, 5)\n"
     ]
    }
   ],
   "source": [
    "def example_function(arg_1, arg_2, *arg_3):\n",
    "    # Let's look at the argument values.\n",
    "    print()\n",
    "    print(\"arg_1:\", arg_1)\n",
    "    print(\"arg_2:\", arg_2)\n",
    "    print(\"arg_3:\", arg_3)\n",
    "\n",
    "\n",
    "example_function(1, 2)\n",
    "example_function(1, 2, 3)\n",
    "example_function(1, 2, 3, 4)\n",
    "example_function(1, 2, 3, 4, 5)"
   ]
  },
  {
   "attachments": {},
   "cell_type": "markdown",
   "id": "9113923b-cad0-43cb-a482-fcd522efb7e9",
   "metadata": {},
   "source": [
    "You can use a for loop to process (\"unpack\") these other arguments."
   ]
  },
  {
   "cell_type": "markdown",
   "id": "511536d5-56b7-45af-961f-6e1719a93c34",
   "metadata": {},
   "source": [
    "As a simple application, we now rewrite the `adder()` function above to accept two or more arguments, and print the sum of those numbers with a message.\n",
    "\n",
    "Example calls and outputs:\n",
    "\n",
    "```\n",
    "adder(1, 2)\n",
    "The sum of your numbers is 3.\n",
    "\n",
    "adder(1, 2, 3)\n",
    "The sum of your numbers is 6.\n",
    "\n",
    "adder(1, 2, 3, 4)\n",
    "The sum of your numbers is 10.\n",
    "\n",
    "adder(1, 2, 3, 4, 5)\n",
    "The sum of your numbers is 15.\n",
    "```"
   ]
  },
  {
   "cell_type": "code",
   "execution_count": 6,
   "id": "d1a16707-9b8f-48a5-ba9c-9a4c625fd26f",
   "metadata": {},
   "outputs": [],
   "source": [
    "def adder(num_1, num_2, *nums):\n",
    "    # This function adds the given numbers together,\n",
    "    # and prints the sum.\n",
    "\n",
    "    # Start by adding the first two numbers, which\n",
    "    # will always be present.\n",
    "    sum = num_1 + num_2\n",
    "\n",
    "    # Then add any other numbers that were sent.\n",
    "    for num in nums:\n",
    "        sum = sum + num\n",
    "\n",
    "    # Print the results.\n",
    "    print(\"The sum of your numbers is %d.\" % sum)"
   ]
  },
  {
   "cell_type": "code",
   "execution_count": 7,
   "id": "d1f77f68-259d-492c-bdfc-b94d7e6edaa6",
   "metadata": {},
   "outputs": [
    {
     "name": "stdout",
     "output_type": "stream",
     "text": [
      "The sum of your numbers is 3.\n",
      "The sum of your numbers is 6.\n",
      "The sum of your numbers is 10.\n",
      "The sum of your numbers is 15.\n"
     ]
    }
   ],
   "source": [
    "adder(1, 2)\n",
    "adder(1, 2, 3)\n",
    "adder(1, 2, 3, 4)\n",
    "adder(1, 2, 3, 4, 5)"
   ]
  },
  {
   "cell_type": "code",
   "execution_count": null,
   "id": "453df2e9-b155-4e19-ac3d-89b5de076634",
   "metadata": {},
   "outputs": [],
   "source": []
  },
  {
   "cell_type": "markdown",
   "id": "c5f043db-238e-49e7-a737-30e356854112",
   "metadata": {},
   "source": [
    "## Accepting an arbitrary number of keyword arguments"
   ]
  },
  {
   "cell_type": "code",
   "execution_count": null,
   "id": "4103adc5-2d39-4464-9d66-de1631387239",
   "metadata": {},
   "outputs": [],
   "source": [
    "def example_function(arg_1, arg_2, **kwargs):\n",
    "    # Let's look at the argument values.\n",
    "    print()\n",
    "    print(\"arg_1:\", arg_1)\n",
    "    print(\"arg_2:\", arg_2)\n",
    "    print(\"arg_3:\", kwargs)\n",
    "\n",
    "\n",
    "example_function(\"a\", \"b\")\n",
    "example_function(\"a\", \"b\", value_3=\"c\")\n",
    "example_function(\"a\", \"b\", value_3=\"c\", value_4=\"d\")\n",
    "example_function(\"a\", \"b\", value_3=\"c\", value_4=\"d\", value_5=\"e\")"
   ]
  },
  {
   "cell_type": "markdown",
   "id": "1716699f-3a36-4966-8ccb-c46a5f67896b",
   "metadata": {},
   "source": [
    "The third argument has two asterisks in front of it, which tells Python to collect all remaining key-value arguments in the calling statement. This argument is commonly named `kwargs`.\n",
    "\n",
    "We see in the output that these key-values are stored in a dictionary. We can loop through this dictionary to work with all of the values that are passed into the function."
   ]
  },
  {
   "cell_type": "markdown",
   "id": "b8425e8b-f975-4ae0-bece-5cf1533f703e",
   "metadata": {},
   "source": [
    "---"
   ]
  },
  {
   "cell_type": "markdown",
   "id": "30400563-b6f2-4482-894d-c950dcce2811",
   "metadata": {},
   "source": [
    "# Classes"
   ]
  },
  {
   "attachments": {},
   "cell_type": "markdown",
   "id": "a146ae1c-5098-49af-8597-c373e012229b",
   "metadata": {},
   "source": [
    "## What is a class?\n",
    "\n",
    "Classes are a way of combining information and behavior. They are an **abstraction** of a concept; they define properties and methods to work on **objects** of that class (e.g., instances)."
   ]
  },
  {
   "cell_type": "code",
   "execution_count": 8,
   "id": "c47d4e8f-dff3-43a9-b7d5-9b6791e95faf",
   "metadata": {
    "collapsed": false,
    "jupyter": {
     "outputs_hidden": false
    }
   },
   "outputs": [],
   "source": [
    "class Rocket:\n",
    "    # Rocket simulates a rocket ship for a game,\n",
    "    #  or a physics simulation.\n",
    "\n",
    "    def __init__(self):\n",
    "        # Each rocket has an (x,y) position.\n",
    "        self.x = 0\n",
    "        self.y = 0"
   ]
  },
  {
   "cell_type": "markdown",
   "id": "bde2dce1-071b-4e9c-9774-82cf31eebd7c",
   "metadata": {},
   "source": [
    "The **`__init()__`** method sets the values for any parameters that need to be defined when an object is first created. The *self* part is a syntax that allows you to access a variable from anywhere else in the class.\n",
    "\n",
    "The Rocket class stores two pieces of information so far, but it can't do anything. The first behavior to define is a core behavior of a rocket: moving up."
   ]
  },
  {
   "cell_type": "code",
   "execution_count": 11,
   "id": "ba1df7b2-de3a-4302-b3ab-ae178f22b2a8",
   "metadata": {},
   "outputs": [],
   "source": [
    "class Rocket:\n",
    "    # Rocket simulates a rocket ship for a game,\n",
    "    #  or a physics simulation.\n",
    "\n",
    "    def __init__(self):\n",
    "        # Each rocket has an (x,y) position.\n",
    "        self.x = 0\n",
    "        self.y = 0\n",
    "\n",
    "    def move_up(self):\n",
    "        # move the rocket upwards\n",
    "        self.y += 1\n"
   ]
  },
  {
   "cell_type": "markdown",
   "id": "1a2d861b-bcf2-432a-afbd-de328ff10e3d",
   "metadata": {},
   "source": [
    "The Rocket class can now store some information, and it can do something. But this code has not actually created a rocket yet. "
   ]
  },
  {
   "cell_type": "code",
   "execution_count": 14,
   "id": "b1e90ee5-7845-45ed-912c-fdc81bd3d73a",
   "metadata": {
    "collapsed": false,
    "jupyter": {
     "outputs_hidden": false
    }
   },
   "outputs": [
    {
     "name": "stdout",
     "output_type": "stream",
     "text": [
      "<__main__.Rocket object at 0x765d18f4d3a0>\n"
     ]
    }
   ],
   "source": [
    "# Rocket() is an object in the computer memory\n",
    "my_rocket = Rocket()\n",
    "print(my_rocket)"
   ]
  },
  {
   "cell_type": "markdown",
   "id": "486b0c78-e689-4103-80e5-75015084fa10",
   "metadata": {},
   "source": [
    "\n",
    "Once you have a class, you can define an object and use its methods. Here is how you might define a rocket and have it start to move up:"
   ]
  },
  {
   "cell_type": "code",
   "execution_count": 17,
   "id": "b97eaff3-d174-41e7-b03f-e6ecb52c51a9",
   "metadata": {
    "collapsed": false,
    "jupyter": {
     "outputs_hidden": false
    }
   },
   "outputs": [
    {
     "name": "stdout",
     "output_type": "stream",
     "text": [
      "Rocket altitude: 0\n",
      "New rocket altitude: 1\n",
      "New rocket altitude: 2\n",
      "New rocket altitude: 3\n",
      "New rocket altitude: 4\n"
     ]
    }
   ],
   "source": [
    "# Create a Rocket object, and have it start to move up.\n",
    "my_rocket = Rocket()\n",
    "print(\"Rocket altitude:\", my_rocket.y)\n",
    "\n",
    "my_rocket.move_up()\n",
    "print(\"New rocket altitude:\", my_rocket.y)\n",
    "my_rocket.move_up()\n",
    "print(\"New rocket altitude:\", my_rocket.y)\n",
    "my_rocket.move_up()\n",
    "print(\"New rocket altitude:\", my_rocket.y)\n",
    "my_rocket.move_up()\n",
    "print(\"New rocket altitude:\", my_rocket.y)\n"
   ]
  },
  {
   "cell_type": "markdown",
   "id": "5b2b001b-aa08-4f63-a659-fe35614ce881",
   "metadata": {},
   "source": [
    "Once you have a class defined, you can create as many objects from that class as you want. Each object is its own instance of that class, with its own separate variables. All of the objects are capable of the same behavior, but each object's particular actions do not affect any of the other objects."
   ]
  },
  {
   "cell_type": "markdown",
   "id": "d18e65d9-24ee-4fcc-b8db-e69a41049ad5",
   "metadata": {},
   "source": [
    "## Exercise\n",
    "\n",
    "1. Create two distinct `Rocket` objects. Print each of them to show that they are separate objects.\n",
    "2. Move the second rocket up.\n",
    "3. Print the `y` attribute of each rocket to show that only the second one has moved."
   ]
  },
  {
   "cell_type": "code",
   "execution_count": 24,
   "id": "c3793557-9ddb-4144-aaf5-a82ea0700fc0",
   "metadata": {
    "collapsed": false,
    "jupyter": {
     "outputs_hidden": false
    }
   },
   "outputs": [
    {
     "name": "stdout",
     "output_type": "stream",
     "text": [
      "<__main__.Rocket object at 0x765d18bec6e0>\n",
      "<__main__.Rocket object at 0x765d18bed3a0>\n",
      "rocket1 altitude: 0\n",
      "rocket2 altitude: 1\n",
      "rocket1 altitude: 0\n",
      "rocket2 altitude: 2\n",
      "rocket1 altitude: 0\n",
      "rocket2 altitude: 3\n"
     ]
    }
   ],
   "source": [
    "my_rocket_1 = Rocket()\n",
    "print(my_rocket_1)\n",
    "\n",
    "my_rocket_2 = Rocket()\n",
    "print(my_rocket_2)\n",
    "\n",
    "my_rocket_2.move_up()\n",
    "print(\"rocket1 altitude:\", my_rocket_1.y)\n",
    "print(\"rocket2 altitude:\", my_rocket_2.y)\n",
    "\n",
    "my_rocket_2.move_up()\n",
    "print(\"rocket1 altitude:\", my_rocket_1.y)\n",
    "print(\"rocket2 altitude:\", my_rocket_2.y)\n",
    "\n",
    "my_rocket_2.move_up()\n",
    "print(\"rocket1 altitude:\", my_rocket_1.y)\n",
    "print(\"rocket2 altitude:\", my_rocket_2.y)"
   ]
  },
  {
   "cell_type": "markdown",
   "id": "c041ca93-3988-4a66-b445-868097cd0433",
   "metadata": {},
   "source": [
    "## Accepting parameters for the `__init__()` method"
   ]
  },
  {
   "cell_type": "code",
   "execution_count": 25,
   "id": "2f0c0e22-9b82-4b40-8ccd-160afccf96c6",
   "metadata": {
    "collapsed": false,
    "jupyter": {
     "outputs_hidden": false
    }
   },
   "outputs": [],
   "source": [
    "class Rocket:\n",
    "    # Rocket simulates a rocket ship for a game,\n",
    "    #  or a physics simulation.\n",
    "\n",
    "    # we'll modify this in order to accept custom (x, y) coordinates,\n",
    "    # instead of setting them to (0, 0)\n",
    "    def __init__(self, x=0, y=0):\n",
    "        # Each rocket has an (x,y) position.\n",
    "        self.x = x\n",
    "        self.y = y\n",
    "\n",
    "    def move_up(self):\n",
    "        # Increment the y-position of the rocket.\n",
    "        self.y += 1"
   ]
  },
  {
   "cell_type": "code",
   "execution_count": 26,
   "id": "34094cd9-a4ac-4bfe-9a10-36352c2ab37f",
   "metadata": {},
   "outputs": [
    {
     "name": "stdout",
     "output_type": "stream",
     "text": [
      "Rocket 0 is at (0, 0).\n",
      "Rocket 1 is at (1, 10).\n",
      "Rocket 2 is at (2, 20).\n"
     ]
    }
   ],
   "source": [
    "# Make a series of rockets at different starting places.\n",
    "rockets = []\n",
    "\n",
    "rockets.append(Rocket())\n",
    "rockets.append(Rocket(1,10))\n",
    "rockets.append(Rocket(2,20))\n",
    "\n",
    "\n",
    "# Show where each rocket is.\n",
    "for index, rocket in enumerate(rockets):\n",
    "    print(f\"Rocket {index} is at ({rocket.x}, {rocket.y}).\")"
   ]
  },
  {
   "attachments": {},
   "cell_type": "markdown",
   "id": "ea2e6a89-c2e9-4ffd-97c5-24fbfc6fcf35",
   "metadata": {},
   "source": [
    "## Exercise: Accepting parameters in a class method\n",
    "\n",
    "Just like `__init__()`, any method in a class can accept parameters of any kind. With this in mind, the `move_up()` method can be made much more flexible. \n",
    "\n",
    "Rewrite `move_up()` as a more general `move_rocket()` method accepting two keyword arguments `x_increment` and `y_increment`. This new method should allow the rocket to be moved any amount, in any direction. \n",
    "\n",
    "Set the default values of this new method so that the default behaviour mimicks that of the old `move_up()` method.\n",
    "\n",
    "Then, create three rocket objects and move each of them a different amout, using your new method. Show where each rocket is by printing its `x` and `y` attributes."
   ]
  },
  {
   "cell_type": "code",
   "execution_count": 34,
   "id": "c49f09ae-6d0b-43ec-8f4c-d11ce6ad08be",
   "metadata": {},
   "outputs": [],
   "source": [
    "class Rocket:\n",
    "    # Rocket simulates a rocket ship for a game,\n",
    "    #  or a physics simulation.\n",
    "\n",
    "    # we'll modify this in order to accept custom (x, y) coordinates,\n",
    "    # instead of setting them to (0, 0)\n",
    "    def __init__(self, x=0, y=0):\n",
    "        # Each rocket has an (x,y) position.\n",
    "        self.x = x\n",
    "        self.y = y\n",
    "\n",
    "    def move_rocket(self, x_increment=0, y_increment=1):\n",
    "        # Increment the y-position of the rocket.\n",
    "        self.x += x_increment\n",
    "        self.y += y_increment"
   ]
  },
  {
   "cell_type": "code",
   "execution_count": 35,
   "id": "0666a1c3-6f5e-4ede-a697-aff92704f3ca",
   "metadata": {},
   "outputs": [
    {
     "name": "stdout",
     "output_type": "stream",
     "text": [
      "Rocket 0 is at (1, 10).\n",
      "Rocket 1 is at (1, 80).\n",
      "Rocket 2 is at (-3, 50).\n"
     ]
    }
   ],
   "source": [
    "\n",
    "# Create three rockets.\n",
    "rockets = [Rocket() for x in range(0, 3)]\n",
    "\n",
    "rockets[0].move_rocket(1,10)\n",
    "rockets[1].move_rocket(2,100)\n",
    "rockets[2].move_rocket(-3, 50)\n",
    "\n",
    "rockets[1].move_rocket(-1,-20)\n",
    "\n",
    "# Show where each rocket is.\n",
    "for index, rocket in enumerate(rockets):\n",
    "    print(f\"Rocket {index} is at ({rocket.x}, {rocket.y}).\")"
   ]
  },
  {
   "cell_type": "markdown",
   "id": "2518c349-38ab-4f01-873e-8f81a7745a35",
   "metadata": {},
   "source": [
    "## Adding methods"
   ]
  },
  {
   "cell_type": "markdown",
   "id": "27616f76-c0ae-4a9e-940d-651f3f61a1a4",
   "metadata": {},
   "source": [
    "Let's add a method that will report the distance from one rocket to any other rocket.\n",
    "\n",
    "If you are not familiar with distance calculations, there is a fairly simple formula to tell the distance between two points if you know the x and y values of each point. This new method performs that calculation, and then returns the resulting distance."
   ]
  },
  {
   "cell_type": "code",
   "execution_count": 32,
   "id": "50a4c978-3c19-4dfe-96ac-593f6e15a6ce",
   "metadata": {
    "collapsed": false,
    "jupyter": {
     "outputs_hidden": false
    }
   },
   "outputs": [
    {
     "name": "stdout",
     "output_type": "stream",
     "text": [
      "The rockets are 11.18034 units apart.\n"
     ]
    }
   ],
   "source": [
    "from math import sqrt\n",
    "\n",
    "\n",
    "class Rocket:\n",
    "    def __init__(self, x=0, y=0):\n",
    "        self.x = x\n",
    "        self.y = y\n",
    "\n",
    "    def get_distance(self, other_rocket):\n",
    "        # Calculates the distance from this rocket to another rocket,\n",
    "        # and returns that value.\n",
    "        distance = sqrt((self.x - other_rocket.x) ** 2 + (self.y - other_rocket.y) ** 2)\n",
    "        return distance\n",
    "\n",
    "\n",
    "# Make two rockets, at different places.\n",
    "rocket_0 = Rocket()\n",
    "rocket_1 = Rocket(10, 5)\n",
    "\n",
    "# Show the distance between them.\n",
    "distance = rocket_0.get_distance(rocket_1)\n",
    "print(f\"The rockets are {distance:.5f} units apart.\")"
   ]
  },
  {
   "cell_type": "markdown",
   "id": "a8b30d15-ab5e-451f-984b-dc42b0483430",
   "metadata": {},
   "source": [
    "## The `__str__()` method\n",
    "\n",
    "You know that if you print an instance of `Rocket` you get its address in memory:"
   ]
  },
  {
   "cell_type": "code",
   "execution_count": null,
   "id": "452abbcc-af56-4117-bd6c-d6c3d86aaa88",
   "metadata": {},
   "outputs": [],
   "source": [
    "print(rocket_0)"
   ]
  },
  {
   "cell_type": "markdown",
   "id": "19d40445-d578-466a-a2a7-70ce808b153d",
   "metadata": {},
   "source": [
    "If you want `print()` to display a more informative output, such as basic info about the attributes, you should add the special `__str__()` method:"
   ]
  },
  {
   "cell_type": "code",
   "execution_count": 36,
   "id": "b304bfa7-eae5-4d8e-9af3-e7a6708a0ce8",
   "metadata": {},
   "outputs": [
    {
     "name": "stdout",
     "output_type": "stream",
     "text": [
      "Rocket(x=10, y=10)\n"
     ]
    }
   ],
   "source": [
    "class Rocket:\n",
    "\n",
    "    def __init__(self, x=0, y=0):\n",
    "        self.x = x\n",
    "        self.y = y\n",
    "\n",
    "    def __str__(self):\n",
    "        return f\"Rocket(x={self.x}, y={self.y})\"\n",
    "\n",
    "\n",
    "r = Rocket(10, 10)\n",
    "print(r)"
   ]
  },
  {
   "cell_type": "markdown",
   "id": "af3ed6bd-a726-4246-b30d-62901711b7ef",
   "metadata": {},
   "source": [
    "## The `__dict__` attribute\n",
    "\n",
    "It is a dictionary containing all attributes of your object. You can use it to inspect complicated objects of classes with a lot of attribtues."
   ]
  },
  {
   "cell_type": "code",
   "execution_count": 37,
   "id": "8a7f5041-1328-4cdd-83b8-78e7cb24e478",
   "metadata": {},
   "outputs": [
    {
     "name": "stdout",
     "output_type": "stream",
     "text": [
      "{'x': 10, 'y': 10}\n"
     ]
    }
   ],
   "source": [
    "print(r.__dict__)"
   ]
  },
  {
   "cell_type": "markdown",
   "id": "183a9e8e-1888-423c-abb0-d897c58d5b6a",
   "metadata": {},
   "source": [
    "## A simple Gene class"
   ]
  },
  {
   "cell_type": "code",
   "execution_count": 59,
   "id": "3a97ff89-ab48-4c85-825a-18f597d17b71",
   "metadata": {},
   "outputs": [],
   "source": [
    "class Gene:\n",
    "    def __init__(self, id, seq):\n",
    "        print(\"Hi! I am a Gene object\")\n",
    "        print(f\"Initializing my id to {id}...\")\n",
    "        self.id = id\n",
    "        print(f\"Initializing my sequence to {seq}\")\n",
    "        self.sequence = seq\n",
    "\n",
    "    def get_id(self):\n",
    "        return self.id\n",
    "\n",
    "    def get_sequence(self):\n",
    "        return self.sequence\n",
    "\n",
    "    def get_len(self):\n",
    "        return len(self.sequence)\n",
    "\n",
    "    def base_composition(self,base):\n",
    "        return self.sequence.count(base)\n",
    "\n",
    "    def gc_content(self):\n",
    "        g_count = self.base_composition(\"G\")\n",
    "        c_count = self.base_composition(\"C\")\n",
    "        return (g_count + c_count) / self.get_len()\n",
    "\n",
    "    def set_sequence(self, seq_new):\n",
    "        self.sequence = seq_new\n",
    "    "
   ]
  },
  {
   "cell_type": "code",
   "execution_count": 60,
   "id": "6fc74f76-d690-4333-b84c-81a6cd9e84bb",
   "metadata": {},
   "outputs": [
    {
     "name": "stdout",
     "output_type": "stream",
     "text": [
      "Hi! I am a Gene object\n",
      "Initializing my id to AY342...\n",
      "Initializing my sequence to CATTGACTATAGGCCTAG\n"
     ]
    }
   ],
   "source": [
    "gene = Gene(\"AY342\", \"CATTGACTATAGGCCTAG\")"
   ]
  },
  {
   "cell_type": "code",
   "execution_count": 55,
   "id": "ca9a8e8f-6fa5-4c77-aa0a-7a5894ad2d88",
   "metadata": {},
   "outputs": [
    {
     "data": {
      "text/plain": [
       "'AY342'"
      ]
     },
     "execution_count": 55,
     "metadata": {},
     "output_type": "execute_result"
    }
   ],
   "source": [
    "gene.get_id()"
   ]
  },
  {
   "cell_type": "code",
   "execution_count": 56,
   "id": "a3762dc4-1d85-46d3-bdb5-562cb395e42e",
   "metadata": {},
   "outputs": [
    {
     "data": {
      "text/plain": [
       "'CATTGACTATAGGCCTAG'"
      ]
     },
     "execution_count": 56,
     "metadata": {},
     "output_type": "execute_result"
    }
   ],
   "source": [
    "gene.get_sequence()"
   ]
  },
  {
   "cell_type": "code",
   "execution_count": 57,
   "id": "af7c01ca-dff9-4f77-bf6c-0f358157b075",
   "metadata": {},
   "outputs": [
    {
     "data": {
      "text/plain": [
       "5"
      ]
     },
     "execution_count": 57,
     "metadata": {},
     "output_type": "execute_result"
    }
   ],
   "source": [
    "gene.base_composition(\"A\")"
   ]
  },
  {
   "cell_type": "code",
   "execution_count": 58,
   "id": "3123fdd1-17df-4fe8-8698-3c6503ffae6e",
   "metadata": {},
   "outputs": [
    {
     "data": {
      "text/plain": [
       "0.4444444444444444"
      ]
     },
     "execution_count": 58,
     "metadata": {},
     "output_type": "execute_result"
    }
   ],
   "source": [
    "gene.gc_content()"
   ]
  },
  {
   "cell_type": "code",
   "execution_count": 62,
   "id": "e806a196-f8c0-457b-9afe-62d06e6a99f3",
   "metadata": {},
   "outputs": [
    {
     "data": {
      "text/plain": [
       "'ATGGGGCCCC'"
      ]
     },
     "execution_count": 62,
     "metadata": {},
     "output_type": "execute_result"
    }
   ],
   "source": [
    "gene.set_sequence(\"ATGGGGCCCC\")\n",
    "\n",
    "gene.get_sequence()"
   ]
  },
  {
   "cell_type": "markdown",
   "id": "f56ead41-8a7b-47d5-9c2f-7e95e9b7e5bf",
   "metadata": {},
   "source": [
    "## A simple Sequence class"
   ]
  },
  {
   "cell_type": "code",
   "execution_count": null,
   "id": "a45aef4f-d05e-46a9-b2ef-6b82984206da",
   "metadata": {},
   "outputs": [],
   "source": [
    "class Sequence:\n",
    "\n",
    "    transcription_table = {\"A\": \"U\", \"T\": \"A\", \"C\": \"G\", \"G\": \"C\"}\n",
    "\n",
    "    def __init__(self, seqstring):\n",
    "        self.seqstring = seqstring.upper()\n",
    "\n",
    "    def transcription(self):\n",
    "        tt = \"\"\n",
    "        for letter in self.seqstring:\n",
    "            if letter in \"ATCG\":\n",
    "                tt += self.transcription_table[letter]\n",
    "        return tt"
   ]
  },
  {
   "cell_type": "code",
   "execution_count": null,
   "id": "d4d18967-3123-48a8-8755-07adc8354e87",
   "metadata": {},
   "outputs": [],
   "source": [
    "dangerous_virus = Sequence(\"atggagagccttgttcttggtgtcaa\")\n",
    "dangerous_virus.seqstring"
   ]
  },
  {
   "cell_type": "code",
   "execution_count": null,
   "id": "588dda1c-b320-4d7a-98f2-fe37aef9b5e3",
   "metadata": {},
   "outputs": [],
   "source": [
    "harmless_virus = Sequence(\"aatgctactactattagtagaattgatgcca\")\n",
    "harmless_virus.seqstring"
   ]
  },
  {
   "cell_type": "code",
   "execution_count": null,
   "id": "37312e7b-f245-4e40-b4e2-2a9032044618",
   "metadata": {},
   "outputs": [],
   "source": [
    "dangerous_virus.transcription()"
   ]
  },
  {
   "cell_type": "markdown",
   "id": "09d44ece-71c8-4f39-b469-e0de7d366006",
   "metadata": {},
   "source": [
    "We now add the `restriction` method to the class, which outputs the number of restriction sites of a sequence given an enzyme. The enzyme is therefore the *parameter* of this new method."
   ]
  },
  {
   "cell_type": "code",
   "execution_count": null,
   "id": "5d0294c2-546c-41a3-b3d3-4957bb8cd22d",
   "metadata": {},
   "outputs": [],
   "source": [
    "class Sequence:\n",
    "\n",
    "    transcription_table = {\"A\": \"U\", \"T\": \"A\", \"C\": \"G\", \"G\": \"C\"}\n",
    "    enz_dict = {\"EcoRI\": \"GAATTC\", \"EcoRV\": \"GATATC\"}\n",
    "\n",
    "    def __init__(self, seqstring):\n",
    "        self.seqstring = seqstring.upper()\n",
    "\n",
    "    def restriction(self, enz):\n",
    "        if enz in Sequence.enz_dict.keys():\n",
    "            enz_target = Sequence.enz_dict[enz]\n",
    "            return self.seqstring.count(enz_target)\n",
    "        else:\n",
    "            return 0\n",
    "\n",
    "    def transcription(self):\n",
    "        tt = \"\"\n",
    "        for letter in self.seqstring:\n",
    "            if letter in \"ATCG\":\n",
    "                tt += self.transcription_table[letter]\n",
    "        return tt"
   ]
  },
  {
   "cell_type": "code",
   "execution_count": null,
   "id": "8a159920-50fe-408e-8805-fdbe0b9ef9ec",
   "metadata": {},
   "outputs": [],
   "source": [
    "other_virus = Sequence(\"atgatatcggagaggatatcggtgtcaa\")\n",
    "other_virus.restriction(\"EcoRV\")"
   ]
  },
  {
   "cell_type": "markdown",
   "id": "e0e3a926-8722-48a5-8dca-051a0664a2d3",
   "metadata": {},
   "source": [
    "## Class inheritance\n",
    "\n",
    "A plasmid is a type of DNA sequence: we can create a class called `Plasmid` based on the `Sequence` class - i.e., it *inherits* methods and properties from `Sequence`."
   ]
  },
  {
   "cell_type": "code",
   "execution_count": null,
   "id": "71e70aba-0e62-44c5-b360-e0e28fba66c4",
   "metadata": {},
   "outputs": [],
   "source": [
    "class Plasmid(Sequence):\n",
    "\n",
    "    # antibiotic resistance genes included in the plasmid\n",
    "    ab_res_dict = {\"Tet\": \"ctagcat\", \"Amp\": \"CACTACTG\"}\n",
    "\n",
    "    def __init__(self, seqstring):\n",
    "        super().__init__(seqstring)\n",
    "\n",
    "    def ab_res(self, ab):\n",
    "        if self.ab_res_dict[ab] in self.seqstring:\n",
    "            return True\n",
    "        return False"
   ]
  },
  {
   "cell_type": "markdown",
   "id": "b45d8395-8274-40d5-99c1-5770a469f978",
   "metadata": {},
   "source": [
    "In the above code, `super()` refers to the parent class. Therefore, `super().__init__()` is like actually using `Sequence.__init()`."
   ]
  },
  {
   "cell_type": "code",
   "execution_count": null,
   "id": "af6454bc-92cf-48c7-8e65-7477e81f62e9",
   "metadata": {},
   "outputs": [],
   "source": [
    "plasmid = Plasmid(\"atgatatcggaCACTACTGtgtcaa\")"
   ]
  },
  {
   "cell_type": "code",
   "execution_count": null,
   "id": "32d155aa-a3fa-4ac5-b188-72b923ad5404",
   "metadata": {},
   "outputs": [],
   "source": [
    "plasmid.ab_res(\"Amp\")"
   ]
  },
  {
   "cell_type": "markdown",
   "id": "dc0b8b73-9fe8-418f-87d7-b3284f99196d",
   "metadata": {},
   "source": [
    "## Recap Exercise\n",
    "\n",
    "Task: Create a Python class to represent a DNA sequence. The class should include methods to compute various properties of the sequence.\n",
    "\n",
    "1. Define a class named `DNASequence` with a constructor that takes as input a string representing a DNA sequence\n",
    "1. Write a method `count_nucleotides` that counts the occurrences of each nucleotide A, T, C, G and returns these counts as a dictionary\n",
    "2. Write a method `complement` that returns the complement of the DNA sequence\n",
    "3. Test the class.\n",
    "\n",
    "Example usage:\n",
    "\n",
    "```\n",
    "seq = DNASequence(\"ACTGTCGCCCGTTGAC\")\n",
    "seq.complement()\n",
    "  'TGACAGCGGGCAACTG'\n",
    "seq.count_nucleotides()\n",
    "  {'A': 2, 'T': 4, 'C': 6, 'G': 4}\n",
    "```"
   ]
  },
  {
   "cell_type": "code",
   "execution_count": 67,
   "id": "2db10edd-cdbe-4672-b01d-636d6f71bbb6",
   "metadata": {},
   "outputs": [],
   "source": [
    "class DNASequence:\n",
    "\n",
    "    complement_table = {\"A\": \"T\", \"T\": \"A\", \"C\": \"G\", \"G\": \"C\"}\n",
    "\n",
    "    def __init__(self,seq_str):\n",
    "        self.sequence = seq_str.upper()\n",
    "\n",
    "\n",
    "    def count_nucleotides(self):\n",
    "        base_count = {}\n",
    "        for base in (\"A\",\"T\",\"G\",\"C\"):\n",
    "            base_count.update({base:self.sequence.count(base)})\n",
    "        \n",
    "        return base_count\n",
    "\n",
    "    def complement(self):\n",
    "        comp = \"\"\n",
    "        for letter in self.sequence:\n",
    "            if letter in \"ATCG\":\n",
    "                comp += self.complement_table[letter]\n",
    "        return comp\n",
    "        "
   ]
  },
  {
   "cell_type": "code",
   "execution_count": 68,
   "id": "7260272c-5012-4720-994c-4a97cc70a44d",
   "metadata": {},
   "outputs": [
    {
     "data": {
      "text/plain": [
       "{'A': 3, 'T': 3, 'G': 3, 'C': 3}"
      ]
     },
     "execution_count": 68,
     "metadata": {},
     "output_type": "execute_result"
    }
   ],
   "source": [
    "seq = DNASequence(\"AAATTTGGGCCC\")\n",
    "seq.count_nucleotides()"
   ]
  },
  {
   "cell_type": "code",
   "execution_count": 69,
   "id": "1c47f7cc-9798-45ca-837e-d0fc2ae95d29",
   "metadata": {},
   "outputs": [
    {
     "data": {
      "text/plain": [
       "'TTTAAACCCGGG'"
      ]
     },
     "execution_count": 69,
     "metadata": {},
     "output_type": "execute_result"
    }
   ],
   "source": [
    "seq.complement()"
   ]
  },
  {
   "cell_type": "markdown",
   "id": "397972a8-88c4-4e65-9a5a-66e7be2c996f",
   "metadata": {},
   "source": [
    "## Bonus Exercise\n",
    "\n",
    "Task: Write a simple Python class to simulate a cell, including its basic properties and functions such as replication and mutation.\n",
    "\n",
    "1. Define a class named `Cell`\n",
    "2. The class should include attributes like `DNA_sequence` (string), `cell_type` (string), and `mutation_rate` (float)\n",
    "3. Write an `__init__` method to initialize such attributes\n",
    "4. Implement a method `replicate` that simulates the replication of the cell, including a chance of mutation based on `mutation_rate`.\n",
    "5. (bonus) Implement a method `mutate` that randomly mutates the DNA sequence (e.g., changes a random nucleotide in the DNA sequence).\n",
    "6. Try a few examples, also changing the mutation rate.\n",
    "\n",
    "Hints:\n",
    "- For randomness, you can use the built-in `random` module (`import random`), which has the functions `random()` to generate random numbers in (0, 1), `randint(0, N)` to generate random integers in (0, N), and `choice(seq)` to choose a random element from a non-empty sequence."
   ]
  },
  {
   "cell_type": "code",
   "execution_count": null,
   "id": "d9acef12-3e56-469e-b52e-8775bdccb3c7",
   "metadata": {},
   "outputs": [],
   "source": [
    "import random\n",
    "import string\n",
    "orig='hello'"
   ]
  },
  {
   "cell_type": "code",
   "execution_count": null,
   "id": "db5bdc78-313a-49e6-9ac7-65253c07b1e7",
   "metadata": {},
   "outputs": [],
   "source": [
    "char1=random.choice(string.ascii_lowercase)  #random character1\n",
    "char2=random.choice(string.ascii_lowercase)  #random character2\n",
    "\n",
    "while char1 == char2:                   # #check if both char are equal\n",
    "    char2=random.choice(string.ascii_lowercase)\n",
    "\n",
    "ran_pos1 = random.randint(0,len(orig)-1)  #random index1\n",
    "ran_pos2 = random.randint(0,len(orig)-1)  #random index2\n",
    "\n",
    "while ran_pos1 == ran_pos2:            #check if both pos are equal\n",
    "    ran_pos2 = random.randint(0,len(orig)-1)\n",
    "\n",
    "orig_list = list(orig)\n",
    "orig_list[ran_pos1]=char1\n",
    "orig_list[ran_pos2]=char2\n",
    "mod = ''.join(orig_list)\n",
    "print(mod)"
   ]
  },
  {
   "cell_type": "code",
   "execution_count": null,
   "id": "8988c2c1-9744-4087-9ec0-5a21219b88e4",
   "metadata": {},
   "outputs": [],
   "source": [
    "class Cell:\n",
    "\n",
    "    def __init__(self,DNA_sequence,cell_type,mutation_rate):\n",
    "        self.sequence = DNA_sequence.upper()\n",
    "        self.cell_type = cell_type\n",
    "        self.mutation_rate = float(mutation_rate)\n",
    "\n",
    "    def replicate(self, generation = 1):\n",
    "        generation += generation\n",
    "        self.chance_mutation = generation*self.mutation_rate\n",
    "\n",
    "\n",
    "    def mutate(self):\n",
    "        orig = self.sequence\n",
    "        N_base = len(self.sequence)*self.chance_mutation\n",
    "\n",
    "        \n",
    "        "
   ]
  },
  {
   "cell_type": "code",
   "execution_count": null,
   "id": "d5970134-fc84-4a2a-89d1-2542e4ed4ef8",
   "metadata": {},
   "outputs": [],
   "source": [
    "# example usage\n",
    "# original_cell = Cell(\"ATCGTTCA\", \"somatic\", mutation_rate)\n",
    "# new_cell = original_cell.replicate()\n",
    "# ..."
   ]
  },
  {
   "cell_type": "markdown",
   "id": "7325dc90-e3d0-4083-a76f-d397c760e89f",
   "metadata": {},
   "source": [
    "```\n",
    "mutation_rate=0.01\n",
    "Original DNA: ATCGTTCA\n",
    "Replicated DNA: ATCGTTCA\n",
    "\n",
    "mutation_rate=0.1\n",
    "Original DNA: ATCGTTCA\n",
    "Replicated DNA: ATCGTTCA\n",
    "\n",
    "mutation_rate=0.8\n",
    "Original DNA: ATCGTTCA\n",
    "Replicated DNA: ATCGGTCA\n",
    "```"
   ]
  },
  {
   "cell_type": "markdown",
   "id": "00ebf3ee-09d2-49bb-ad32-d17308cdc237",
   "metadata": {},
   "source": [
    "---\n",
    "\n",
    "# Credits\n",
    "\n",
    "Partially abridged from work by Eric Matthes (MIT license), Sebastian Bassi (MIT license)."
   ]
  },
  {
   "cell_type": "code",
   "execution_count": null,
   "id": "92594ab8-1513-477f-be94-81473b57e15f",
   "metadata": {},
   "outputs": [],
   "source": []
  }
 ],
 "metadata": {
  "kernelspec": {
   "display_name": "Python 3 (ipykernel)",
   "language": "python",
   "name": "python3"
  },
  "language_info": {
   "codemirror_mode": {
    "name": "ipython",
    "version": 3
   },
   "file_extension": ".py",
   "mimetype": "text/x-python",
   "name": "python",
   "nbconvert_exporter": "python",
   "pygments_lexer": "ipython3",
   "version": "3.12.7"
  }
 },
 "nbformat": 4,
 "nbformat_minor": 5
}
