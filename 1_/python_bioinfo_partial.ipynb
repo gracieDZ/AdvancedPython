{
 "cells": [
  {
   "cell_type": "markdown",
   "id": "0a49be94-5a33-4974-a6a5-1cccf48b4d8e",
   "metadata": {},
   "source": [
    "# Python & Bioinformatics\n",
    "## Advanced Python for Life Sciences @ Physalia courses (Summer 2025)\n",
    "### Marco Chierici, Fondazione Bruno Kessler"
   ]
  },
  {
   "cell_type": "code",
   "execution_count": 1,
   "id": "fddd4acc-1bf2-4ab1-b5ae-0fd9adf11774",
   "metadata": {},
   "outputs": [],
   "source": [
    "# we use the pathlib library to improve file/folder manipulation\n",
    "from pathlib import Path\n",
    "\n",
    "DATADIR = Path(\"data\")\n",
    "OUTDIR = Path(\"out\")"
   ]
  },
  {
   "cell_type": "markdown",
   "id": "a4920afd-2d2a-4688-8367-854f9ef197a4",
   "metadata": {},
   "source": [
    "# Biopython"
   ]
  },
  {
   "cell_type": "markdown",
   "id": "f468c057-52dc-466a-a76b-62d8c41aa3f7",
   "metadata": {},
   "source": [
    "Biopython is a collections of tools for biological computation. Some of its features include:\n",
    "\n",
    "- A standard sequence class that deals with sequences, ids on sequences, and sequence features.\n",
    "- Tools for performing common operations on sequences, such as translation, transcription and weight calculations.\n",
    "- Code to perform classification of data using k Nearest Neighbors, Naive Bayes or Support Vector Machines.\n",
    "- Code for dealing with alignments, including a standard way to create and deal with substitution matrices.\n",
    "\n",
    "More info and full documentation: https://biopython.org/\n",
    "\n",
    "Install: just copy-paste the following into the empty cell below\n",
    "\n",
    "```\n",
    "!conda install -y -c conda-forge biopython\n",
    "```\n",
    "\n",
    "(Reminder: the `!` at the beginning of a Jupyter code cell allows you to run what follows as a terminal command)"
   ]
  },
  {
   "cell_type": "markdown",
   "id": "078d9cd4-f56b-44bd-9365-27c342a2cd87",
   "metadata": {},
   "source": [
    "## Basics"
   ]
  },
  {
   "cell_type": "code",
   "execution_count": 3,
   "id": "d892a602-4244-4545-9895-27e4cf51983c",
   "metadata": {},
   "outputs": [
    {
     "data": {
      "text/plain": [
       "Seq('AGTACACTGGT')"
      ]
     },
     "execution_count": 3,
     "metadata": {},
     "output_type": "execute_result"
    }
   ],
   "source": [
    "from Bio.Seq import Seq\n",
    "\n",
    "my_seq = Seq(\"AGTACACTGGT\")\n",
    "my_seq"
   ]
  },
  {
   "cell_type": "markdown",
   "id": "0c8d788c-5f70-485d-b015-126971bc3218",
   "metadata": {},
   "source": [
    "For most aspects, a `Seq` objects acts like a normal Python string: you can compute its `len()` and slice it."
   ]
  },
  {
   "cell_type": "code",
   "execution_count": 4,
   "id": "896b60d8-c05b-4768-a3d7-737c42ff2a2e",
   "metadata": {},
   "outputs": [
    {
     "data": {
      "text/plain": [
       "32"
      ]
     },
     "execution_count": 4,
     "metadata": {},
     "output_type": "execute_result"
    }
   ],
   "source": [
    "my_seq = Seq(\"GATCGATGGGCCTATATAGGATCGAAAATCGC\")\n",
    "len(my_seq)"
   ]
  },
  {
   "cell_type": "code",
   "execution_count": 5,
   "id": "2dc13a14-6de8-4a86-8731-df787083574b",
   "metadata": {},
   "outputs": [
    {
     "name": "stdout",
     "output_type": "stream",
     "text": [
      "GATCGATGGGCCTATATAGGATCGAAAATCGC\n"
     ]
    },
    {
     "data": {
      "text/plain": [
       "32"
      ]
     },
     "execution_count": 5,
     "metadata": {},
     "output_type": "execute_result"
    }
   ],
   "source": [
    "my_seq_str = str(my_seq)\n",
    "print(my_seq_str)\n",
    "len(my_seq_str)"
   ]
  },
  {
   "cell_type": "code",
   "execution_count": 6,
   "id": "11cd299f-cb55-4c09-9987-30d1e0df95d3",
   "metadata": {},
   "outputs": [
    {
     "name": "stdout",
     "output_type": "stream",
     "text": [
      "TGG\n"
     ]
    }
   ],
   "source": [
    "print(my_seq[6:9])"
   ]
  },
  {
   "cell_type": "code",
   "execution_count": 7,
   "id": "bb47afeb-3574-444e-b5e8-bb349ae30ea0",
   "metadata": {},
   "outputs": [
    {
     "name": "stdout",
     "output_type": "stream",
     "text": [
      "9\n",
      "9\n"
     ]
    }
   ],
   "source": [
    "print(my_seq.count(\"G\"))\n",
    "print(my_seq_str.count(\"G\"))"
   ]
  },
  {
   "cell_type": "markdown",
   "id": "af57ade7-b1cb-4b20-919e-155fb5ae282e",
   "metadata": {},
   "source": [
    "### (Reverse) complement"
   ]
  },
  {
   "cell_type": "code",
   "execution_count": 9,
   "id": "f7e583c8-9143-4800-ade7-8344dfe59d17",
   "metadata": {},
   "outputs": [
    {
     "name": "stdout",
     "output_type": "stream",
     "text": [
      "dlroW olleH\n"
     ]
    }
   ],
   "source": [
    "txt = \"Hello World\" [::-1]\n",
    "print(txt) "
   ]
  },
  {
   "cell_type": "code",
   "execution_count": 11,
   "id": "91603f2f-dbce-4096-b5ed-0d4126f7aa99",
   "metadata": {},
   "outputs": [
    {
     "name": "stdout",
     "output_type": "stream",
     "text": [
      "GCGATTTTCGATCCTATATAGGCCCATCGATC\n"
     ]
    }
   ],
   "source": [
    "r_comp = my_seq.reverse_complement()\n",
    "print(r_comp)"
   ]
  },
  {
   "cell_type": "markdown",
   "id": "e76e0527-024d-426e-b9c8-96f17d45e78e",
   "metadata": {},
   "source": [
    "### Transcription, back transcription"
   ]
  },
  {
   "cell_type": "markdown",
   "id": "59d518c1-00d6-4ff6-abb5-5304ef6e69a6",
   "metadata": {},
   "source": [
    "Assuming `my_seq` is a DNA sequence, we may want to turn it into RNA.\n",
    "We normally assume the DNA is the coding strand (not the template strand) so this is a simple matter of replacing all the thymines with uracil:"
   ]
  },
  {
   "cell_type": "code",
   "execution_count": 14,
   "id": "d670151c-02a6-4b9c-8e6d-f6863509d17b",
   "metadata": {},
   "outputs": [
    {
     "name": "stdout",
     "output_type": "stream",
     "text": [
      "GATCGATGGGCCTATATAGGATCGAAAATCGC\n",
      "GAUCGAUGGGCCUAUAUAGGAUCGAAAAUCGC\n"
     ]
    }
   ],
   "source": [
    "print(my_seq)\n",
    "print(my_seq.transcribe())"
   ]
  },
  {
   "cell_type": "markdown",
   "id": "22e6ac1f-d399-4996-b507-0081ff1b2204",
   "metadata": {},
   "source": [
    "Given some RNA, you might want the associated DNA - again, a simple U/T substitution:"
   ]
  },
  {
   "cell_type": "code",
   "execution_count": 18,
   "id": "bf40a5d3-dafb-446b-9ce9-c6aaed3a399b",
   "metadata": {},
   "outputs": [
    {
     "name": "stdout",
     "output_type": "stream",
     "text": [
      "GAUCGAUGGGCCUAUAUAGGAUCGAAAAUCGC\n",
      "GATCGATGGGCCTATATAGGATCGAAAATCGC\n"
     ]
    }
   ],
   "source": [
    "rna = my_seq.transcribe()\n",
    "dna = rna.back_transcribe()\n",
    "print(rna)\n",
    "print(dna)"
   ]
  },
  {
   "cell_type": "markdown",
   "id": "4f6d4c15-cf56-49d5-b876-f9a8d177d485",
   "metadata": {},
   "source": [
    "If you actually do want the template strand, you’d have to do a reverse complement on top:"
   ]
  },
  {
   "cell_type": "markdown",
   "id": "2565654b-eb88-4d20-a1d1-b3c44f0beb4b",
   "metadata": {},
   "source": [
    "### Translation"
   ]
  },
  {
   "cell_type": "markdown",
   "id": "177fd78a-d4d4-4bdf-8577-c8ba8f04d4c0",
   "metadata": {},
   "source": [
    "You can translate RNA:"
   ]
  },
  {
   "cell_type": "code",
   "execution_count": null,
   "id": "275a63cb-4234-4dea-beb6-a2770115e304",
   "metadata": {},
   "outputs": [],
   "source": [
    "mrna = Seq(\"AUGGCCAUUGUAAUGGGCCGCUGAAAGGGUGCCCGAUAG\")\n",
    "mrna.translate()"
   ]
  },
  {
   "cell_type": "markdown",
   "id": "9d17dab8-0fc2-4ecf-b7e2-f2bf80747f43",
   "metadata": {},
   "source": [
    "You can also translate DNA, which is assumed to be the coding strand:"
   ]
  },
  {
   "cell_type": "code",
   "execution_count": null,
   "id": "a6d29634-eb42-4bc9-8f08-6ae113a16313",
   "metadata": {},
   "outputs": [],
   "source": [
    "coding_dna = Seq(\"ATGGCCATTGTAATGGGCCGCTGAAAGGGTGCCCGATAG\")\n",
    "coding_dna.translate()"
   ]
  },
  {
   "cell_type": "markdown",
   "id": "2ad0fc1d-32ea-4905-b84d-18b3de6d552a",
   "metadata": {},
   "source": [
    "We can provide `translate()` with a few options. By default, as you have noticed, translation continues through any stop codons, but this can be modified:"
   ]
  },
  {
   "cell_type": "code",
   "execution_count": null,
   "id": "34dbb8a9-0090-450a-9998-cf57f78f27e6",
   "metadata": {},
   "outputs": [],
   "source": [
    "# prevent translation to continue through stop codons\n",
    "coding_dna.translate(to_stop=True)"
   ]
  },
  {
   "cell_type": "markdown",
   "id": "e22f1fcc-59a4-47f4-8378-4c2a09ed62db",
   "metadata": {},
   "source": [
    "Another option is the translation table, for which you can pass a [NCBI genetic code number](http://www.ncbi.nlm.nih.gov/Taxonomy/Utils/wprintgc.cgi) or name:"
   ]
  },
  {
   "cell_type": "code",
   "execution_count": null,
   "id": "d718fbda-d8f9-418c-bfb1-e1d90a062e15",
   "metadata": {},
   "outputs": [],
   "source": [
    "# specify a translation table (NCBI genetic code number)\n",
    "coding_dna.translate(table=2)"
   ]
  },
  {
   "cell_type": "code",
   "execution_count": null,
   "id": "5bed644c-1e4b-415d-8f85-d7356212d2dc",
   "metadata": {},
   "outputs": [],
   "source": [
    "coding_dna.translate(table=\"Vertebrate Mitochondrial\")"
   ]
  },
  {
   "cell_type": "code",
   "execution_count": null,
   "id": "2b4ab17a-29d9-4898-8b6f-deb1ecbb2dd3",
   "metadata": {},
   "outputs": [],
   "source": [
    "# combining options\n",
    "coding_dna.translate(table=2, to_stop=True)"
   ]
  },
  {
   "cell_type": "markdown",
   "id": "bd0e04c7-749c-4180-9df8-a3a0197704ba",
   "metadata": {},
   "source": [
    "You can also change the symbol for the stop codon with the option `stop_symbol`.\n",
    "\n",
    "Note that ambiguous codons like \"TAN\" or \"NNN\" could be an amino acid\n",
    "or a stop codon: these are translated as \"X\"."
   ]
  },
  {
   "cell_type": "code",
   "execution_count": 24,
   "id": "5dce49c8-2c9e-464e-98bd-c7531143d35b",
   "metadata": {},
   "outputs": [
    {
     "data": {
      "text/plain": [
       "Seq('MAIVXVM')"
      ]
     },
     "execution_count": 24,
     "metadata": {},
     "output_type": "execute_result"
    }
   ],
   "source": [
    "Seq(\"ATGGCCATTGTATANGTAATG\").translate(to_stop=True)\n",
    "##### TRANSLATE DOESN'T STOP AT X"
   ]
  },
  {
   "cell_type": "markdown",
   "id": "8e76a8a5-a998-4381-b1e5-f8f6a6cfd4f1",
   "metadata": {},
   "source": [
    "In principle, Biopython does not know if a `Seq` object represents DNA, RNA, or a protein. Suppose your sequence contains valid nucleotide *and* amino acid letters and you want to compute the molecular weight calling the method `molecular_weight` on the sequence. If you know what your `Seq` object represents, then you have to tell Biopython:"
   ]
  },
  {
   "cell_type": "code",
   "execution_count": null,
   "id": "187dee06-bd3e-4063-adfe-0ae1c8f2d505",
   "metadata": {},
   "outputs": [],
   "source": [
    "from Bio.SeqUtils import molecular_weight\n",
    "\n",
    "my_seq = Seq(\"AGTACACTGGT\")\n",
    "molecular_weight(my_seq)"
   ]
  },
  {
   "cell_type": "code",
   "execution_count": null,
   "id": "683866d4-bbc9-492a-9b34-ad43288e1f9a",
   "metadata": {},
   "outputs": [],
   "source": [
    "molecular_weight(my_seq, \"protein\")"
   ]
  },
  {
   "cell_type": "markdown",
   "id": "c8c3901b-dcd8-4107-af85-22e11cbd3d48",
   "metadata": {},
   "source": [
    "## SeqRecord"
   ]
  },
  {
   "cell_type": "markdown",
   "id": "5dcb20e6-05eb-439d-b26a-3e137375bc3f",
   "metadata": {},
   "source": [
    "`SeqRecord` objects are very similar to `Seq` objects, but they have also a few additional attributes:\n",
    "\n",
    "- seq: The sequence itself, typically a Seq object.\n",
    "- id: The primary ID used to identify the sequence – a string. In most cases this is something like an accession number.\n",
    "- name: A common name/id for the sequence – a string. In some cases this will be the same as the accession number, but it could also be a clone name. Analagous to the LOCUS id in a GenBank record.\n",
    "- description: A human readable description or expressive name for the sequence – a string."
   ]
  },
  {
   "cell_type": "markdown",
   "id": "fe99c1d0-375a-47d7-a9d5-60d0fb576d8a",
   "metadata": {},
   "source": [
    "`SeqRecord` is the basis of `SeqIO` objects, which handle file I/O in different biological formats."
   ]
  },
  {
   "cell_type": "code",
   "execution_count": null,
   "id": "f88471fa-eb29-4cdd-9160-6097dd4eb2b7",
   "metadata": {},
   "outputs": [],
   "source": [
    "from Bio.Seq import Seq\n",
    "from Bio.SeqRecord import SeqRecord\n",
    "\n",
    "test_seq = Seq(\"GATCAGGATTAGGCC\")\n",
    "test_record = SeqRecord(test_seq, id=\"xyz\")\n",
    "test_record.description = \"I am not a real sequence\"\n",
    "print(test_record)"
   ]
  },
  {
   "cell_type": "code",
   "execution_count": null,
   "id": "c107847f-8d3f-4c22-81f2-746c190b8fbe",
   "metadata": {},
   "outputs": [],
   "source": [
    "print(test_record.description)"
   ]
  },
  {
   "cell_type": "code",
   "execution_count": null,
   "id": "19f3f219-18af-400b-8f16-7cc6f2c67185",
   "metadata": {},
   "outputs": [],
   "source": [
    "print(test_record.seq)"
   ]
  },
  {
   "cell_type": "code",
   "execution_count": null,
   "id": "dba7a50a-ed01-47a4-a783-185684f1ae16",
   "metadata": {},
   "outputs": [],
   "source": []
  },
  {
   "cell_type": "markdown",
   "id": "301ffe36-5d40-4075-81a4-9532aacce1da",
   "metadata": {},
   "source": [
    "## SeqIO"
   ]
  },
  {
   "cell_type": "markdown",
   "id": "c091fbbd-8850-4b11-929a-485dd9a9114e",
   "metadata": {},
   "source": [
    "The `SeqIO` module reads or writes sequences as `SeqRecord` objects. It is like a container for multiple `SeqRecord`s.\n",
    "\n",
    "`SeqIO` handles many different file formats, including FASTA, FASTQ (Sanger, Solexa, Illumina), GenBank, SFF (IonTorrent/IonProton), UniProt/SwissProt, EMBL, Clustal alignments, and more."
   ]
  },
  {
   "cell_type": "code",
   "execution_count": 25,
   "id": "cd08a98e-609c-4c97-b360-dd2ab591b0e4",
   "metadata": {
    "scrolled": true
   },
   "outputs": [
    {
     "name": "stdout",
     "output_type": "stream",
     "text": [
      "seq0\n",
      "seq1\n",
      "seq2\n",
      "seq3\n",
      "seq4\n",
      "seq5\n",
      "seq6\n",
      "seq7\n",
      "seq8\n",
      "seq9\n",
      "seq10\n"
     ]
    }
   ],
   "source": [
    "from Bio import SeqIO\n",
    "with open(DATADIR / \"database.fasta\") as handle:\n",
    "    for record in SeqIO.parse(handle, \"fasta\"):\n",
    "        print(record.id)"
   ]
  },
  {
   "cell_type": "markdown",
   "id": "8240f211-c744-4663-8cb1-ac2ed84aa452",
   "metadata": {},
   "source": [
    "Note that `SeqIO.parse()` does not guess the file format by extension or content: you must specify the format explicitly. This is also compliant with the Zen of Python \"Explicit is better than implicit\"."
   ]
  },
  {
   "cell_type": "markdown",
   "id": "56594fc5-d7dc-4fca-87e3-20c2271da5bf",
   "metadata": {},
   "source": [
    "If you had a different file type, for example a GenBank file, you just specify 'genbank' instead of 'fasta' in the parser:"
   ]
  },
  {
   "cell_type": "code",
   "execution_count": 26,
   "id": "d05afda9-0151-4279-9bfd-084d8efc07ab",
   "metadata": {},
   "outputs": [
    {
     "name": "stdout",
     "output_type": "stream",
     "text": [
      "X55053.1\n",
      "X62281.1\n",
      "M81224.1\n",
      "AJ237582.1\n",
      "L31939.1\n",
      "AF297471.1\n"
     ]
    }
   ],
   "source": [
    "from Bio import SeqIO\n",
    "with open(DATADIR / \"cor6_6.gb\") as handle:\n",
    "    for record in SeqIO.parse(handle, \"genbank\"):\n",
    "        print(record.id)"
   ]
  },
  {
   "cell_type": "markdown",
   "id": "13993a05-d337-4b55-abf9-1e0ef394db95",
   "metadata": {},
   "source": [
    "`SeqIO.parse()` is an *iterator* - which is great when you only need the records one by one, in the order found in the file.\n",
    "\n",
    "For some tasks you may need to have random access to the records in any order. In this situation, turn the iterator into a list:"
   ]
  },
  {
   "cell_type": "code",
   "execution_count": 30,
   "id": "5d9a691f-e821-4386-b2cf-424cbb22115a",
   "metadata": {},
   "outputs": [
    {
     "name": "stdout",
     "output_type": "stream",
     "text": [
      "seq0\n",
      "seq10\n",
      "ID: seq10\n",
      "Name: seq10\n",
      "Description: seq10\n",
      "Number of features: 0\n",
      "Seq('FDSWDEFVSKSVELFRNHPDTTRYVVKYRHCEGKLVLKVTDNHECLKFKTDQAQ...MEK')\n"
     ]
    }
   ],
   "source": [
    "records = list(SeqIO.parse(DATADIR / \"database.fasta\", \"fasta\"))\n",
    "print(records[0].id)  # first record\n",
    "print(records[-1].id)  # last record\n",
    "print(records[-1])  # last record"
   ]
  },
  {
   "cell_type": "markdown",
   "id": "6833d5bb-cc38-4cef-b08c-e7a1576309b9",
   "metadata": {},
   "source": [
    "If you have a bunch of sequences in a list or `SeqRecord` object, you can write them to a file by using `SeqIO.write()`."
   ]
  },
  {
   "cell_type": "code",
   "execution_count": 28,
   "id": "62279a67-f409-4ea2-be89-b8e047d7df69",
   "metadata": {},
   "outputs": [
    {
     "data": {
      "text/plain": [
       "2"
      ]
     },
     "execution_count": 28,
     "metadata": {},
     "output_type": "execute_result"
    }
   ],
   "source": [
    "# create the output dir and don't complain if it already exists\n",
    "OUTDIR.mkdir(exist_ok=True)\n",
    "# just write the first 2 records\n",
    "SeqIO.write(records[:2], OUTDIR / \"db_out.fasta\", \"fasta\")"
   ]
  },
  {
   "cell_type": "markdown",
   "id": "348f26f7-f35d-454c-9a5c-c3d38d172aca",
   "metadata": {},
   "source": [
    "Another common task is to index your records by some identifier. For small files there's the function `SeqIO.to_dict()` to turn a SeqRecord iterator (or list) into a dictionary (in memory):"
   ]
  },
  {
   "cell_type": "code",
   "execution_count": 29,
   "id": "61aaf169-e197-4de7-9025-fe298e259c10",
   "metadata": {},
   "outputs": [
    {
     "name": "stdout",
     "output_type": "stream",
     "text": [
      "ID: seq3\n",
      "Name: seq3\n",
      "Description: seq3\n",
      "Number of features: 0\n",
      "Seq('MYQVWEEFSRAVEKLYLTDPMKVRVVLKYRHCDGNLCIKVTDNSVCLQYKTDQAQDVK')\n"
     ]
    }
   ],
   "source": [
    "record_dict = SeqIO.to_dict(SeqIO.parse(DATADIR / \"database.fasta\", \"fasta\"))\n",
    "print(record_dict[\"seq3\"])  # use any record ID"
   ]
  },
  {
   "cell_type": "markdown",
   "id": "80e1c716-8d0c-4e7f-9cf4-fe9250f980ba",
   "metadata": {},
   "source": [
    "For larger files, where you can't hold everything in memory, you can use `SeqIO.index()`:"
   ]
  },
  {
   "cell_type": "code",
   "execution_count": 31,
   "id": "f98e6beb-88f0-41fe-afc3-3d6fce4700ca",
   "metadata": {},
   "outputs": [
    {
     "name": "stdout",
     "output_type": "stream",
     "text": [
      "ID: seq3\n",
      "Name: seq3\n",
      "Description: seq3\n",
      "Number of features: 0\n",
      "Seq('MYQVWEEFSRAVEKLYLTDPMKVRVVLKYRHCDGNLCIKVTDNSVCLQYKTDQAQDVK')\n"
     ]
    }
   ],
   "source": [
    "record_dict = SeqIO.index(str(DATADIR / \"database.fasta\"), \"fasta\")\n",
    "print(record_dict[\"seq3\"])  # use any record ID"
   ]
  },
  {
   "cell_type": "markdown",
   "id": "89083343-964c-43e9-8de6-6f66c583113a",
   "metadata": {},
   "source": [
    "### I/O: format conversion\n",
    "\n",
    "To convert between file formats (e.g., GenBank -> FASTA), there is the convenient `SeqIO.convert()` function."
   ]
  },
  {
   "cell_type": "code",
   "execution_count": 32,
   "id": "4fcaf3bc-4de1-400d-9fb0-c5afc4ce5aa9",
   "metadata": {},
   "outputs": [
    {
     "name": "stdout",
     "output_type": "stream",
     "text": [
      "Converted 6 records\n"
     ]
    }
   ],
   "source": [
    "count = SeqIO.convert(DATADIR/\"cor6_6.gb\", \"genbank\", OUTDIR/\"cor6_6.fasta\", \"fasta\")\n",
    "print(f\"Converted {count} records\")"
   ]
  },
  {
   "cell_type": "markdown",
   "id": "bd54f635-af86-4957-a9c5-42a92eb6159a",
   "metadata": {},
   "source": [
    "### Sequence features\n",
    "\n",
    "We read now a Genbank file with a whole mitochondrial genome (e.g. the tobacco mitochondrion, *Nicotiana tabacum* mitochondrion NC_006581)."
   ]
  },
  {
   "cell_type": "code",
   "execution_count": 33,
   "id": "1107585a-e439-45cf-bb95-a30692d5bb7f",
   "metadata": {},
   "outputs": [],
   "source": [
    "mito_record = SeqIO.read(DATADIR/\"NC_006581.gbk\", \"genbank\")"
   ]
  },
  {
   "cell_type": "code",
   "execution_count": 34,
   "id": "6e01ff0b-d361-45f3-8250-0eafd93cb0a3",
   "metadata": {},
   "outputs": [
    {
     "name": "stdout",
     "output_type": "stream",
     "text": [
      "NC_006581.1\n",
      "430597\n",
      "409\n"
     ]
    }
   ],
   "source": [
    "print(mito_record.id)\n",
    "print(len(mito_record))\n",
    "print(len(mito_record.features))"
   ]
  },
  {
   "cell_type": "markdown",
   "id": "d035ec52-b61b-49f1-a372-a7556da70da8",
   "metadata": {},
   "source": [
    "What is this `mito_record.features` object?\n",
    "\n",
    "It's a Python list, containing a Biopython `SeqFeature` object for each feature in the GenBank file. For instance:"
   ]
  },
  {
   "cell_type": "code",
   "execution_count": 49,
   "id": "3d949ac8-b4eb-416d-ad23-1b06e36f5a2c",
   "metadata": {
    "scrolled": true
   },
   "outputs": [
    {
     "data": {
      "text/plain": [
       "[SeqFeature(SimpleLocation(ExactPosition(0), ExactPosition(430597), strand=1), type='source', qualifiers=...),\n",
       " SeqFeature(SimpleLocation(ExactPosition(824), ExactPosition(1202), strand=1), type='gene', qualifiers=...),\n",
       " SeqFeature(SimpleLocation(ExactPosition(824), ExactPosition(1202), strand=1), type='CDS', qualifiers=...),\n",
       " SeqFeature(SimpleLocation(ExactPosition(2386), ExactPosition(2803), strand=1), type='gene', qualifiers=...),\n",
       " SeqFeature(SimpleLocation(ExactPosition(2386), ExactPosition(2803), strand=1), type='CDS', qualifiers=...),\n",
       " SeqFeature(SimpleLocation(ExactPosition(4035), ExactPosition(6012), strand=-1), type='gene', qualifiers=...),\n",
       " SeqFeature(SimpleLocation(ExactPosition(4035), ExactPosition(6012), strand=-1), type='CDS', qualifiers=...),\n",
       " SeqFeature(CompoundLocation([SimpleLocation(ExactPosition(288447), ExactPosition(288832), strand=1), SimpleLocation(ExactPosition(142902), ExactPosition(144389), strand=-1), SimpleLocation(ExactPosition(6673), ExactPosition(44807), strand=-1)], 'join'), type='gene', qualifiers=...),\n",
       " SeqFeature(CompoundLocation([SimpleLocation(ExactPosition(288447), ExactPosition(288832), strand=1), SimpleLocation(ExactPosition(144306), ExactPosition(144389), strand=-1), SimpleLocation(ExactPosition(142902), ExactPosition(143094), strand=-1), SimpleLocation(ExactPosition(6673), ExactPosition(6732), strand=-1), SimpleLocation(ExactPosition(44548), ExactPosition(44807), strand=-1)], 'join'), type='CDS', qualifiers=...),\n",
       " SeqFeature(SimpleLocation(ExactPosition(6673), ExactPosition(6732), strand=-1), type='exon', qualifiers=...),\n",
       " SeqFeature(SimpleLocation(ExactPosition(7186), ExactPosition(7702), strand=-1), type='gene', qualifiers=...),\n",
       " SeqFeature(SimpleLocation(ExactPosition(7186), ExactPosition(7702), strand=-1), type='CDS', qualifiers=...),\n",
       " SeqFeature(SimpleLocation(ExactPosition(8800), ExactPosition(9448), strand=1), type='gene', qualifiers=...),\n",
       " SeqFeature(SimpleLocation(ExactPosition(8800), ExactPosition(9448), strand=1), type='CDS', qualifiers=...),\n",
       " SeqFeature(SimpleLocation(ExactPosition(9997), ExactPosition(10387), strand=1), type='gene', qualifiers=...),\n",
       " SeqFeature(SimpleLocation(ExactPosition(9997), ExactPosition(10387), strand=1), type='CDS', qualifiers=...),\n",
       " SeqFeature(SimpleLocation(ExactPosition(10810), ExactPosition(11704), strand=-1), type='gene', qualifiers=...),\n",
       " SeqFeature(SimpleLocation(ExactPosition(10810), ExactPosition(11704), strand=-1), type='CDS', qualifiers=...),\n",
       " SeqFeature(SimpleLocation(ExactPosition(18090), ExactPosition(18492), strand=-1), type='gene', qualifiers=...),\n",
       " SeqFeature(SimpleLocation(ExactPosition(18090), ExactPosition(18492), strand=-1), type='CDS', qualifiers=...),\n",
       " SeqFeature(SimpleLocation(ExactPosition(18953), ExactPosition(19027), strand=-1), type='gene', qualifiers=...),\n",
       " SeqFeature(SimpleLocation(ExactPosition(18953), ExactPosition(19027), strand=-1), type='tRNA', qualifiers=...),\n",
       " SeqFeature(SimpleLocation(ExactPosition(19013), ExactPosition(19766), strand=-1), type='gene', qualifiers=...),\n",
       " SeqFeature(SimpleLocation(ExactPosition(19013), ExactPosition(19766), strand=-1), type='CDS', qualifiers=...),\n",
       " SeqFeature(SimpleLocation(ExactPosition(19803), ExactPosition(20142), strand=1), type='gene', qualifiers=...),\n",
       " SeqFeature(SimpleLocation(ExactPosition(19803), ExactPosition(20142), strand=1), type='CDS', qualifiers=...),\n",
       " SeqFeature(SimpleLocation(ExactPosition(24578), ExactPosition(25766), strand=-1), type='gene', qualifiers=...),\n",
       " SeqFeature(SimpleLocation(ExactPosition(24578), ExactPosition(25766), strand=-1), type='CDS', qualifiers=...),\n",
       " SeqFeature(SimpleLocation(ExactPosition(31410), ExactPosition(31743), strand=-1), type='gene', qualifiers=...),\n",
       " SeqFeature(SimpleLocation(ExactPosition(31410), ExactPosition(31743), strand=-1), type='CDS', qualifiers=...),\n",
       " SeqFeature(SimpleLocation(ExactPosition(31682), ExactPosition(32216), strand=1), type='gene', qualifiers=...),\n",
       " SeqFeature(SimpleLocation(ExactPosition(31682), ExactPosition(32216), strand=1), type='CDS', qualifiers=...),\n",
       " SeqFeature(SimpleLocation(ExactPosition(34104), ExactPosition(34443), strand=-1), type='gene', qualifiers=...),\n",
       " SeqFeature(SimpleLocation(ExactPosition(34104), ExactPosition(34443), strand=-1), type='CDS', qualifiers=...),\n",
       " SeqFeature(SimpleLocation(ExactPosition(40865), ExactPosition(42047), strand=-1), type='gene', qualifiers=...),\n",
       " SeqFeature(SimpleLocation(ExactPosition(40865), ExactPosition(42047), strand=-1), type='CDS', qualifiers=...),\n",
       " SeqFeature(SimpleLocation(ExactPosition(43341), ExactPosition(43701), strand=-1), type='gene', qualifiers=...),\n",
       " SeqFeature(SimpleLocation(ExactPosition(43341), ExactPosition(43701), strand=-1), type='CDS', qualifiers=...),\n",
       " SeqFeature(SimpleLocation(ExactPosition(43422), ExactPosition(43788), strand=1), type='gene', qualifiers=...),\n",
       " SeqFeature(SimpleLocation(ExactPosition(43422), ExactPosition(43788), strand=1), type='CDS', qualifiers=...),\n",
       " SeqFeature(SimpleLocation(ExactPosition(43702), ExactPosition(44257), strand=-1), type='gene', qualifiers=...),\n",
       " SeqFeature(SimpleLocation(ExactPosition(43702), ExactPosition(44257), strand=-1), type='CDS', qualifiers=...),\n",
       " SeqFeature(SimpleLocation(ExactPosition(44548), ExactPosition(44807), strand=-1), type='exon', qualifiers=...),\n",
       " SeqFeature(SimpleLocation(ExactPosition(48549), ExactPosition(49035), strand=1), type='gene', qualifiers=...),\n",
       " SeqFeature(SimpleLocation(ExactPosition(48549), ExactPosition(49035), strand=1), type='CDS', qualifiers=...),\n",
       " SeqFeature(SimpleLocation(ExactPosition(55877), ExactPosition(56276), strand=-1), type='gene', qualifiers=...),\n",
       " SeqFeature(SimpleLocation(ExactPosition(55877), ExactPosition(56276), strand=-1), type='CDS', qualifiers=...),\n",
       " SeqFeature(SimpleLocation(ExactPosition(56961), ExactPosition(75134), strand=1), type='repeat_region', qualifiers=...),\n",
       " SeqFeature(SimpleLocation(ExactPosition(58166), ExactPosition(58526), strand=-1), type='gene', qualifiers=...),\n",
       " SeqFeature(SimpleLocation(ExactPosition(58166), ExactPosition(58526), strand=-1), type='CDS', qualifiers=...),\n",
       " SeqFeature(SimpleLocation(ExactPosition(58773), ExactPosition(59136), strand=1), type='gene', qualifiers=...),\n",
       " SeqFeature(SimpleLocation(ExactPosition(58773), ExactPosition(59136), strand=1), type='CDS', qualifiers=...),\n",
       " SeqFeature(SimpleLocation(ExactPosition(66200), ExactPosition(66274), strand=1), type='gene', qualifiers=...),\n",
       " SeqFeature(SimpleLocation(ExactPosition(66200), ExactPosition(66274), strand=1), type='tRNA', qualifiers=...),\n",
       " SeqFeature(SimpleLocation(ExactPosition(66760), ExactPosition(67177), strand=-1), type='gene', qualifiers=...),\n",
       " SeqFeature(SimpleLocation(ExactPosition(66760), ExactPosition(67177), strand=-1), type='CDS', qualifiers=...),\n",
       " SeqFeature(SimpleLocation(ExactPosition(66852), ExactPosition(70258), strand=1), type='gene', qualifiers=...),\n",
       " SeqFeature(SimpleLocation(ExactPosition(66852), ExactPosition(70258), strand=1), type='rRNA', qualifiers=...),\n",
       " SeqFeature(SimpleLocation(ExactPosition(74703), ExactPosition(75297), strand=-1), type='gene', qualifiers=...),\n",
       " SeqFeature(SimpleLocation(ExactPosition(74703), ExactPosition(75297), strand=-1), type='CDS', qualifiers=...),\n",
       " SeqFeature(SimpleLocation(ExactPosition(75134), ExactPosition(79847), strand=1), type='repeat_region', qualifiers=...),\n",
       " SeqFeature(CompoundLocation([SimpleLocation(ExactPosition(76468), ExactPosition(76621), strand=-1), SimpleLocation(ExactPosition(276546), ExactPosition(276938), strand=-1), SimpleLocation(ExactPosition(201080), ExactPosition(205876), strand=1)], 'join'), type='gene', qualifiers=...),\n",
       " SeqFeature(CompoundLocation([SimpleLocation(ExactPosition(76468), ExactPosition(76621), strand=-1), SimpleLocation(ExactPosition(276546), ExactPosition(276938), strand=-1), SimpleLocation(ExactPosition(201080), ExactPosition(201241), strand=1), SimpleLocation(ExactPosition(203655), ExactPosition(204228), strand=1), SimpleLocation(ExactPosition(205688), ExactPosition(205876), strand=1)], 'join'), type='CDS', qualifiers=...),\n",
       " SeqFeature(SimpleLocation(ExactPosition(76468), ExactPosition(76621), strand=-1), type='exon', qualifiers=...),\n",
       " SeqFeature(SimpleLocation(ExactPosition(77197), ExactPosition(77524), strand=-1), type='gene', qualifiers=...),\n",
       " SeqFeature(SimpleLocation(ExactPosition(77197), ExactPosition(77524), strand=-1), type='CDS', qualifiers=...),\n",
       " SeqFeature(SimpleLocation(ExactPosition(77666), ExactPosition(78188), strand=1), type='gene', qualifiers=...),\n",
       " SeqFeature(SimpleLocation(ExactPosition(77666), ExactPosition(78188), strand=1), type='CDS', qualifiers=...),\n",
       " SeqFeature(SimpleLocation(ExactPosition(79847), ExactPosition(86780), strand=1), type='repeat_region', qualifiers=...),\n",
       " SeqFeature(SimpleLocation(ExactPosition(85474), ExactPosition(86272), strand=1), type='gene', qualifiers=...),\n",
       " SeqFeature(SimpleLocation(ExactPosition(85474), ExactPosition(86272), strand=1), type='CDS', qualifiers=...),\n",
       " SeqFeature(SimpleLocation(ExactPosition(86394), ExactPosition(86751), strand=1), type='gene', qualifiers=...),\n",
       " SeqFeature(SimpleLocation(ExactPosition(86394), ExactPosition(86751), strand=1), type='CDS', qualifiers=...),\n",
       " SeqFeature(SimpleLocation(ExactPosition(86799), ExactPosition(87177), strand=1), type='gene', qualifiers=...),\n",
       " SeqFeature(SimpleLocation(ExactPosition(86799), ExactPosition(87177), strand=1), type='CDS', qualifiers=...),\n",
       " SeqFeature(SimpleLocation(ExactPosition(95889), ExactPosition(96267), strand=1), type='gene', qualifiers=...),\n",
       " SeqFeature(SimpleLocation(ExactPosition(95889), ExactPosition(96267), strand=1), type='CDS', qualifiers=...),\n",
       " SeqFeature(SimpleLocation(ExactPosition(99557), ExactPosition(99644), strand=1), type='gene', qualifiers=...),\n",
       " SeqFeature(SimpleLocation(ExactPosition(99557), ExactPosition(99644), strand=1), type='tRNA', qualifiers=...),\n",
       " SeqFeature(SimpleLocation(ExactPosition(100134), ExactPosition(100524), strand=1), type='gene', qualifiers=...),\n",
       " SeqFeature(SimpleLocation(ExactPosition(100134), ExactPosition(100524), strand=1), type='CDS', qualifiers=...),\n",
       " SeqFeature(SimpleLocation(ExactPosition(101745), ExactPosition(102201), strand=-1), type='gene', qualifiers=...),\n",
       " SeqFeature(SimpleLocation(ExactPosition(101745), ExactPosition(102201), strand=-1), type='CDS', qualifiers=...),\n",
       " SeqFeature(SimpleLocation(ExactPosition(102480), ExactPosition(103008), strand=-1), type='gene', qualifiers=...),\n",
       " SeqFeature(SimpleLocation(ExactPosition(102480), ExactPosition(103008), strand=-1), type='CDS', qualifiers=...),\n",
       " SeqFeature(SimpleLocation(ExactPosition(104657), ExactPosition(105116), strand=-1), type='gene', qualifiers=...),\n",
       " SeqFeature(SimpleLocation(ExactPosition(104657), ExactPosition(105116), strand=-1), type='CDS', qualifiers=...),\n",
       " SeqFeature(SimpleLocation(ExactPosition(108333), ExactPosition(110235), strand=1), type='gene', qualifiers=...),\n",
       " SeqFeature(SimpleLocation(ExactPosition(108333), ExactPosition(110235), strand=1), type='rRNA', qualifiers=...),\n",
       " SeqFeature(SimpleLocation(ExactPosition(110054), ExactPosition(110381), strand=-1), type='gene', qualifiers=...),\n",
       " SeqFeature(SimpleLocation(ExactPosition(110054), ExactPosition(110381), strand=-1), type='CDS', qualifiers=...),\n",
       " SeqFeature(SimpleLocation(ExactPosition(110398), ExactPosition(110517), strand=1), type='gene', qualifiers=...),\n",
       " SeqFeature(SimpleLocation(ExactPosition(110398), ExactPosition(110517), strand=1), type='rRNA', qualifiers=...),\n",
       " SeqFeature(SimpleLocation(ExactPosition(110887), ExactPosition(111280), strand=1), type='gene', qualifiers=...),\n",
       " SeqFeature(SimpleLocation(ExactPosition(110887), ExactPosition(111280), strand=1), type='CDS', qualifiers=...),\n",
       " SeqFeature(SimpleLocation(ExactPosition(113852), ExactPosition(114449), strand=-1), type='gene', qualifiers=...),\n",
       " SeqFeature(SimpleLocation(ExactPosition(113852), ExactPosition(114449), strand=-1), type='CDS', qualifiers=...),\n",
       " SeqFeature(SimpleLocation(ExactPosition(114637), ExactPosition(114940), strand=-1), type='gene', qualifiers=...),\n",
       " SeqFeature(SimpleLocation(ExactPosition(114637), ExactPosition(114940), strand=-1), type='CDS', qualifiers=...),\n",
       " SeqFeature(SimpleLocation(ExactPosition(114995), ExactPosition(115664), strand=-1), type='gene', qualifiers=...),\n",
       " SeqFeature(SimpleLocation(ExactPosition(114995), ExactPosition(115664), strand=-1), type='CDS', qualifiers=...),\n",
       " SeqFeature(SimpleLocation(ExactPosition(115383), ExactPosition(115692), strand=1), type='gene', qualifiers=...),\n",
       " SeqFeature(SimpleLocation(ExactPosition(115383), ExactPosition(115692), strand=1), type='CDS', qualifiers=...),\n",
       " SeqFeature(SimpleLocation(ExactPosition(121048), ExactPosition(121122), strand=1), type='gene', qualifiers=...),\n",
       " SeqFeature(SimpleLocation(ExactPosition(121048), ExactPosition(121122), strand=1), type='tRNA', qualifiers=...),\n",
       " SeqFeature(SimpleLocation(ExactPosition(121985), ExactPosition(122294), strand=1), type='gene', qualifiers=...),\n",
       " SeqFeature(SimpleLocation(ExactPosition(121985), ExactPosition(122294), strand=1), type='CDS', qualifiers=...),\n",
       " SeqFeature(SimpleLocation(ExactPosition(122838), ExactPosition(123237), strand=1), type='gene', qualifiers=...),\n",
       " SeqFeature(SimpleLocation(ExactPosition(122838), ExactPosition(123237), strand=1), type='CDS', qualifiers=...),\n",
       " SeqFeature(SimpleLocation(ExactPosition(124377), ExactPosition(126102), strand=-1), type='gene', qualifiers=...),\n",
       " SeqFeature(SimpleLocation(ExactPosition(124377), ExactPosition(126102), strand=-1), type='CDS', qualifiers=...),\n",
       " SeqFeature(SimpleLocation(ExactPosition(128703), AfterPosition(130287), strand=-1), type='gene', qualifiers=...),\n",
       " SeqFeature(SimpleLocation(ExactPosition(128703), AfterPosition(130287), strand=-1), type='CDS', qualifiers=...),\n",
       " SeqFeature(SimpleLocation(ExactPosition(130450), ExactPosition(131587), strand=-1), type='gene', qualifiers=...),\n",
       " SeqFeature(CompoundLocation([SimpleLocation(ExactPosition(131337), ExactPosition(131587), strand=-1), SimpleLocation(ExactPosition(130450), ExactPosition(130563), strand=-1)], 'join'), type='CDS', qualifiers=...),\n",
       " SeqFeature(SimpleLocation(ExactPosition(130450), ExactPosition(130563), strand=-1), type='exon', qualifiers=...),\n",
       " SeqFeature(SimpleLocation(ExactPosition(131337), ExactPosition(131587), strand=-1), type='exon', qualifiers=...),\n",
       " SeqFeature(SimpleLocation(ExactPosition(131585), ExactPosition(131586), strand=-1), type='misc_feature', qualifiers=...),\n",
       " SeqFeature(SimpleLocation(ExactPosition(131728), ExactPosition(132676), strand=-1), type='gene', qualifiers=...),\n",
       " SeqFeature(SimpleLocation(ExactPosition(131728), ExactPosition(132676), strand=-1), type='CDS', qualifiers=...),\n",
       " SeqFeature(SimpleLocation(ExactPosition(134606), ExactPosition(134927), strand=1), type='gene', qualifiers=...),\n",
       " SeqFeature(SimpleLocation(ExactPosition(134606), ExactPosition(134927), strand=1), type='CDS', qualifiers=...),\n",
       " SeqFeature(SimpleLocation(ExactPosition(138189), ExactPosition(138507), strand=-1), type='gene', qualifiers=...),\n",
       " SeqFeature(SimpleLocation(ExactPosition(138189), ExactPosition(138507), strand=-1), type='CDS', qualifiers=...),\n",
       " SeqFeature(SimpleLocation(ExactPosition(139416), ExactPosition(139893), strand=1), type='gene', qualifiers=...),\n",
       " SeqFeature(SimpleLocation(ExactPosition(139416), ExactPosition(139893), strand=1), type='CDS', qualifiers=...),\n",
       " SeqFeature(SimpleLocation(ExactPosition(140969), ExactPosition(141359), strand=1), type='gene', qualifiers=...),\n",
       " SeqFeature(SimpleLocation(ExactPosition(140969), ExactPosition(141359), strand=1), type='CDS', qualifiers=...),\n",
       " SeqFeature(SimpleLocation(ExactPosition(142755), ExactPosition(143184), strand=-1), type='gene', qualifiers=...),\n",
       " SeqFeature(SimpleLocation(ExactPosition(142755), ExactPosition(143184), strand=-1), type='CDS', qualifiers=...),\n",
       " SeqFeature(SimpleLocation(ExactPosition(142902), ExactPosition(144389), strand=-1), type='exon', qualifiers=...),\n",
       " SeqFeature(SimpleLocation(ExactPosition(142902), ExactPosition(143094), strand=-1), type='exon', qualifiers=...),\n",
       " SeqFeature(SimpleLocation(ExactPosition(144928), ExactPosition(145279), strand=-1), type='gene', qualifiers=...),\n",
       " SeqFeature(SimpleLocation(ExactPosition(144928), ExactPosition(145279), strand=-1), type='CDS', qualifiers=...),\n",
       " SeqFeature(SimpleLocation(ExactPosition(145757), ExactPosition(145991), strand=-1), type='gene', qualifiers=...),\n",
       " SeqFeature(SimpleLocation(ExactPosition(145757), ExactPosition(145991), strand=-1), type='CDS', qualifiers=...),\n",
       " SeqFeature(SimpleLocation(ExactPosition(146236), ExactPosition(146716), strand=-1), type='gene', qualifiers=...),\n",
       " SeqFeature(SimpleLocation(ExactPosition(146236), ExactPosition(146716), strand=-1), type='CDS', qualifiers=...),\n",
       " SeqFeature(SimpleLocation(ExactPosition(147137), ExactPosition(147851), strand=-1), type='gene', qualifiers=...),\n",
       " SeqFeature(SimpleLocation(ExactPosition(147137), ExactPosition(147851), strand=-1), type='CDS', qualifiers=...),\n",
       " SeqFeature(SimpleLocation(ExactPosition(150520), ExactPosition(150826), strand=-1), type='gene', qualifiers=...),\n",
       " SeqFeature(SimpleLocation(ExactPosition(150520), ExactPosition(150826), strand=-1), type='CDS', qualifiers=...),\n",
       " SeqFeature(SimpleLocation(ExactPosition(150546), ExactPosition(150882), strand=1), type='gene', qualifiers=...),\n",
       " SeqFeature(SimpleLocation(ExactPosition(150546), ExactPosition(150882), strand=1), type='CDS', qualifiers=...),\n",
       " SeqFeature(SimpleLocation(ExactPosition(152214), ExactPosition(152499), strand=1), type='gene', qualifiers=...),\n",
       " SeqFeature(SimpleLocation(ExactPosition(152214), ExactPosition(152499), strand=1), type='CDS', qualifiers=...),\n",
       " SeqFeature(SimpleLocation(ExactPosition(152512), ExactPosition(155679), strand=1), type='gene', qualifiers=...),\n",
       " SeqFeature(CompoundLocation([SimpleLocation(ExactPosition(152512), ExactPosition(152586), strand=1), SimpleLocation(ExactPosition(154061), ExactPosition(155679), strand=1)], 'join'), type='CDS', qualifiers=...),\n",
       " SeqFeature(SimpleLocation(ExactPosition(152512), ExactPosition(152586), strand=1), type='exon', qualifiers=...),\n",
       " SeqFeature(SimpleLocation(ExactPosition(154061), ExactPosition(155679), strand=1), type='exon', qualifiers=...),\n",
       " SeqFeature(SimpleLocation(ExactPosition(155569), ExactPosition(156085), strand=1), type='gene', qualifiers=...),\n",
       " SeqFeature(SimpleLocation(ExactPosition(155569), ExactPosition(156085), strand=1), type='CDS', qualifiers=...),\n",
       " SeqFeature(SimpleLocation(ExactPosition(156351), ExactPosition(158494), strand=1), type='gene', qualifiers=...),\n",
       " SeqFeature(CompoundLocation([SimpleLocation(ExactPosition(156351), ExactPosition(156733), strand=1), SimpleLocation(ExactPosition(158093), ExactPosition(158494), strand=1)], 'join'), type='CDS', qualifiers=...),\n",
       " SeqFeature(SimpleLocation(ExactPosition(156351), ExactPosition(156733), strand=1), type='exon', qualifiers=...),\n",
       " SeqFeature(SimpleLocation(ExactPosition(158093), ExactPosition(158494), strand=1), type='exon', qualifiers=...),\n",
       " SeqFeature(SimpleLocation(ExactPosition(163068), ExactPosition(163479), strand=-1), type='gene', qualifiers=...),\n",
       " SeqFeature(SimpleLocation(ExactPosition(163068), ExactPosition(163479), strand=-1), type='CDS', qualifiers=...),\n",
       " SeqFeature(SimpleLocation(ExactPosition(166842), ExactPosition(166908), strand=-1), type='gene', qualifiers=...),\n",
       " SeqFeature(SimpleLocation(ExactPosition(166842), ExactPosition(166908), strand=-1), type='tRNA', qualifiers=...),\n",
       " SeqFeature(SimpleLocation(ExactPosition(171889), ExactPosition(172609), strand=1), type='gene', qualifiers=...),\n",
       " SeqFeature(SimpleLocation(ExactPosition(171889), ExactPosition(172609), strand=1), type='CDS', qualifiers=...),\n",
       " SeqFeature(CompoundLocation([SimpleLocation(ExactPosition(192148), ExactPosition(194438), strand=1), SimpleLocation(ExactPosition(222165), ExactPosition(222187), strand=-1), SimpleLocation(ExactPosition(172722), ExactPosition(174355), strand=1)], 'join'), type='gene', qualifiers=...),\n",
       " SeqFeature(CompoundLocation([SimpleLocation(ExactPosition(192148), ExactPosition(192378), strand=1), SimpleLocation(ExactPosition(193222), ExactPosition(194438), strand=1), SimpleLocation(ExactPosition(222165), ExactPosition(222187), strand=-1), SimpleLocation(ExactPosition(172722), ExactPosition(173117), strand=1), SimpleLocation(ExactPosition(174208), ExactPosition(174355), strand=1)], 'join'), type='CDS', qualifiers=...),\n",
       " SeqFeature(SimpleLocation(ExactPosition(172722), ExactPosition(173117), strand=1), type='exon', qualifiers=...),\n",
       " SeqFeature(SimpleLocation(ExactPosition(174208), ExactPosition(174358), strand=1), type='exon', qualifiers=...),\n",
       " SeqFeature(SimpleLocation(ExactPosition(177518), ExactPosition(177839), strand=-1), type='gene', qualifiers=...),\n",
       " SeqFeature(SimpleLocation(ExactPosition(177518), ExactPosition(177839), strand=-1), type='CDS', qualifiers=...),\n",
       " SeqFeature(SimpleLocation(ExactPosition(178216), ExactPosition(178303), strand=-1), type='gene', qualifiers=...),\n",
       " SeqFeature(SimpleLocation(ExactPosition(178216), ExactPosition(178303), strand=-1), type='tRNA', qualifiers=...),\n",
       " SeqFeature(SimpleLocation(ExactPosition(178999), ExactPosition(179073), strand=-1), type='gene', qualifiers=...),\n",
       " SeqFeature(SimpleLocation(ExactPosition(178999), ExactPosition(179073), strand=-1), type='tRNA', qualifiers=...),\n",
       " SeqFeature(SimpleLocation(ExactPosition(182369), ExactPosition(190852), strand=1), type='gene', qualifiers=...),\n",
       " SeqFeature(CompoundLocation([SimpleLocation(ExactPosition(182369), ExactPosition(182830), strand=1), SimpleLocation(ExactPosition(184248), ExactPosition(184763), strand=1), SimpleLocation(ExactPosition(187901), ExactPosition(188324), strand=1), SimpleLocation(ExactPosition(190763), ExactPosition(190852), strand=1)], 'join'), type='CDS', qualifiers=...),\n",
       " SeqFeature(SimpleLocation(ExactPosition(182369), ExactPosition(182830), strand=1), type='exon', qualifiers=...),\n",
       " SeqFeature(SimpleLocation(ExactPosition(184248), ExactPosition(184763), strand=1), type='exon', qualifiers=...),\n",
       " SeqFeature(SimpleLocation(ExactPosition(184336), ExactPosition(184852), strand=1), type='gene', qualifiers=...),\n",
       " SeqFeature(SimpleLocation(ExactPosition(184336), ExactPosition(184852), strand=1), type='CDS', qualifiers=...),\n",
       " SeqFeature(SimpleLocation(ExactPosition(187901), ExactPosition(188324), strand=1), type='exon', qualifiers=...),\n",
       " SeqFeature(SimpleLocation(ExactPosition(187936), ExactPosition(188341), strand=1), type='gene', qualifiers=...),\n",
       " SeqFeature(SimpleLocation(ExactPosition(187936), ExactPosition(188341), strand=1), type='CDS', qualifiers=...),\n",
       " SeqFeature(SimpleLocation(ExactPosition(189315), ExactPosition(189630), strand=1), type='gene', qualifiers=...),\n",
       " SeqFeature(SimpleLocation(ExactPosition(189315), ExactPosition(189630), strand=1), type='CDS', qualifiers=...),\n",
       " SeqFeature(SimpleLocation(ExactPosition(189557), ExactPosition(189926), strand=1), type='gene', qualifiers=...),\n",
       " SeqFeature(SimpleLocation(ExactPosition(189557), ExactPosition(189926), strand=1), type='CDS', qualifiers=...),\n",
       " SeqFeature(SimpleLocation(ExactPosition(190763), ExactPosition(190852), strand=1), type='exon', qualifiers=...),\n",
       " SeqFeature(SimpleLocation(ExactPosition(191160), ExactPosition(191811), strand=1), type='gene', qualifiers=...),\n",
       " SeqFeature(SimpleLocation(ExactPosition(191160), ExactPosition(191811), strand=1), type='CDS', qualifiers=...),\n",
       " SeqFeature(SimpleLocation(ExactPosition(192148), ExactPosition(192378), strand=1), type='exon', qualifiers=...),\n",
       " SeqFeature(SimpleLocation(ExactPosition(192343), ExactPosition(192655), strand=-1), type='gene', qualifiers=...),\n",
       " SeqFeature(SimpleLocation(ExactPosition(192343), ExactPosition(192655), strand=-1), type='CDS', qualifiers=...),\n",
       " SeqFeature(SimpleLocation(ExactPosition(193222), ExactPosition(194438), strand=1), type='exon', qualifiers=...),\n",
       " SeqFeature(SimpleLocation(ExactPosition(194783), ExactPosition(195134), strand=1), type='gene', qualifiers=...),\n",
       " SeqFeature(SimpleLocation(ExactPosition(194783), ExactPosition(195134), strand=1), type='CDS', qualifiers=...),\n",
       " SeqFeature(SimpleLocation(ExactPosition(197309), ExactPosition(197615), strand=-1), type='gene', qualifiers=...),\n",
       " SeqFeature(SimpleLocation(ExactPosition(197309), ExactPosition(197615), strand=-1), type='CDS', qualifiers=...),\n",
       " SeqFeature(SimpleLocation(ExactPosition(197449), ExactPosition(197520), strand=1), type='gene', qualifiers=...),\n",
       " SeqFeature(SimpleLocation(ExactPosition(197449), ExactPosition(197520), strand=1), type='tRNA', qualifiers=...),\n",
       " SeqFeature(SimpleLocation(ExactPosition(199440), ExactPosition(199512), strand=1), type='gene', qualifiers=...),\n",
       " SeqFeature(SimpleLocation(ExactPosition(199440), ExactPosition(199512), strand=1), type='tRNA', qualifiers=...),\n",
       " SeqFeature(SimpleLocation(ExactPosition(200480), ExactPosition(200563), strand=1), type='gene', qualifiers=...),\n",
       " SeqFeature(SimpleLocation(ExactPosition(200480), ExactPosition(200563), strand=1), type='tRNA', qualifiers=...),\n",
       " SeqFeature(SimpleLocation(ExactPosition(201080), ExactPosition(201241), strand=1), type='exon', qualifiers=...),\n",
       " SeqFeature(SimpleLocation(ExactPosition(202976), ExactPosition(203294), strand=-1), type='gene', qualifiers=...),\n",
       " SeqFeature(SimpleLocation(ExactPosition(202976), ExactPosition(203294), strand=-1), type='CDS', qualifiers=...),\n",
       " SeqFeature(SimpleLocation(ExactPosition(202988), ExactPosition(203477), strand=1), type='gene', qualifiers=...),\n",
       " SeqFeature(SimpleLocation(ExactPosition(202988), ExactPosition(203477), strand=1), type='CDS', qualifiers=...),\n",
       " SeqFeature(SimpleLocation(ExactPosition(203655), ExactPosition(204228), strand=1), type='exon', qualifiers=...),\n",
       " SeqFeature(SimpleLocation(ExactPosition(203657), ExactPosition(204302), strand=1), type='gene', qualifiers=...),\n",
       " SeqFeature(SimpleLocation(ExactPosition(203657), ExactPosition(204302), strand=1), type='CDS', qualifiers=...),\n",
       " SeqFeature(SimpleLocation(ExactPosition(205688), ExactPosition(205876), strand=1), type='exon', qualifiers=...),\n",
       " SeqFeature(SimpleLocation(ExactPosition(207254), ExactPosition(207566), strand=1), type='gene', qualifiers=...),\n",
       " SeqFeature(SimpleLocation(ExactPosition(207254), ExactPosition(207566), strand=1), type='CDS', qualifiers=...),\n",
       " SeqFeature(SimpleLocation(ExactPosition(210049), ExactPosition(210409), strand=-1), type='gene', qualifiers=...),\n",
       " SeqFeature(SimpleLocation(ExactPosition(210049), ExactPosition(210409), strand=-1), type='CDS', qualifiers=...),\n",
       " SeqFeature(SimpleLocation(ExactPosition(211250), ExactPosition(211556), strand=-1), type='gene', qualifiers=...),\n",
       " SeqFeature(SimpleLocation(ExactPosition(211250), ExactPosition(211556), strand=-1), type='CDS', qualifiers=...),\n",
       " SeqFeature(SimpleLocation(ExactPosition(215366), ExactPosition(216287), strand=1), type='gene', qualifiers=...),\n",
       " SeqFeature(SimpleLocation(ExactPosition(215366), ExactPosition(216287), strand=1), type='CDS', qualifiers=...),\n",
       " SeqFeature(SimpleLocation(ExactPosition(220469), ExactPosition(220814), strand=1), type='gene', qualifiers=...),\n",
       " SeqFeature(SimpleLocation(ExactPosition(220469), ExactPosition(220814), strand=1), type='CDS', qualifiers=...),\n",
       " SeqFeature(SimpleLocation(ExactPosition(220921), ExactPosition(221389), strand=1), type='gene', qualifiers=...),\n",
       " SeqFeature(SimpleLocation(ExactPosition(220921), ExactPosition(221389), strand=1), type='CDS', qualifiers=...),\n",
       " SeqFeature(SimpleLocation(ExactPosition(221539), ExactPosition(221983), strand=-1), type='gene', qualifiers=...),\n",
       " SeqFeature(SimpleLocation(ExactPosition(221539), ExactPosition(221983), strand=-1), type='CDS', qualifiers=...),\n",
       " SeqFeature(SimpleLocation(ExactPosition(221597), ExactPosition(222098), strand=-1), type='gene', qualifiers=...),\n",
       " SeqFeature(SimpleLocation(ExactPosition(221597), ExactPosition(222098), strand=-1), type='CDS', qualifiers=...),\n",
       " SeqFeature(SimpleLocation(ExactPosition(222165), ExactPosition(222187), strand=-1), type='exon', qualifiers=...),\n",
       " SeqFeature(SimpleLocation(ExactPosition(226195), ExactPosition(226627), strand=1), type='gene', qualifiers=...),\n",
       " SeqFeature(SimpleLocation(ExactPosition(226195), ExactPosition(226627), strand=1), type='CDS', qualifiers=...),\n",
       " SeqFeature(SimpleLocation(ExactPosition(226672), ExactPosition(227017), strand=1), type='gene', qualifiers=...),\n",
       " SeqFeature(SimpleLocation(ExactPosition(226672), ExactPosition(227017), strand=1), type='CDS', qualifiers=...),\n",
       " SeqFeature(SimpleLocation(ExactPosition(227310), ExactPosition(227646), strand=1), type='gene', qualifiers=...),\n",
       " SeqFeature(SimpleLocation(ExactPosition(227310), ExactPosition(227646), strand=1), type='CDS', qualifiers=...),\n",
       " SeqFeature(SimpleLocation(ExactPosition(227752), ExactPosition(228064), strand=-1), type='gene', qualifiers=...),\n",
       " SeqFeature(SimpleLocation(ExactPosition(227752), ExactPosition(228064), strand=-1), type='CDS', qualifiers=...),\n",
       " SeqFeature(SimpleLocation(ExactPosition(228471), ExactPosition(228543), strand=-1), type='gene', qualifiers=...),\n",
       " SeqFeature(SimpleLocation(ExactPosition(228471), ExactPosition(228543), strand=-1), type='tRNA', qualifiers=...),\n",
       " SeqFeature(SimpleLocation(ExactPosition(228517), ExactPosition(228934), strand=1), type='gene', qualifiers=...),\n",
       " SeqFeature(SimpleLocation(ExactPosition(228517), ExactPosition(228934), strand=1), type='CDS', qualifiers=...),\n",
       " SeqFeature(SimpleLocation(ExactPosition(229440), ExactPosition(229875), strand=1), type='gene', qualifiers=...),\n",
       " SeqFeature(SimpleLocation(ExactPosition(229440), ExactPosition(229875), strand=1), type='CDS', qualifiers=...),\n",
       " SeqFeature(SimpleLocation(ExactPosition(229725), ExactPosition(230082), strand=-1), type='gene', qualifiers=...),\n",
       " SeqFeature(SimpleLocation(ExactPosition(229725), ExactPosition(230082), strand=-1), type='CDS', qualifiers=...),\n",
       " SeqFeature(SimpleLocation(ExactPosition(231139), ExactPosition(231622), strand=1), type='gene', qualifiers=...),\n",
       " SeqFeature(SimpleLocation(ExactPosition(231139), ExactPosition(231622), strand=1), type='CDS', qualifiers=...),\n",
       " SeqFeature(SimpleLocation(ExactPosition(231804), ExactPosition(231876), strand=-1), type='gene', qualifiers=...),\n",
       " SeqFeature(SimpleLocation(ExactPosition(231804), ExactPosition(231876), strand=-1), type='tRNA', qualifiers=...),\n",
       " SeqFeature(SimpleLocation(ExactPosition(232684), ExactPosition(232999), strand=1), type='gene', qualifiers=...),\n",
       " SeqFeature(SimpleLocation(ExactPosition(232684), ExactPosition(232999), strand=1), type='CDS', qualifiers=...),\n",
       " SeqFeature(SimpleLocation(ExactPosition(234000), ExactPosition(234330), strand=-1), type='gene', qualifiers=...),\n",
       " SeqFeature(SimpleLocation(ExactPosition(234000), ExactPosition(234330), strand=-1), type='CDS', qualifiers=...),\n",
       " SeqFeature(SimpleLocation(ExactPosition(236930), ExactPosition(237308), strand=1), type='gene', qualifiers=...),\n",
       " SeqFeature(SimpleLocation(ExactPosition(236930), ExactPosition(237308), strand=1), type='CDS', qualifiers=...),\n",
       " SeqFeature(SimpleLocation(ExactPosition(238857), ExactPosition(239202), strand=1), type='gene', qualifiers=...),\n",
       " SeqFeature(SimpleLocation(ExactPosition(238857), ExactPosition(239202), strand=1), type='CDS', qualifiers=...),\n",
       " SeqFeature(SimpleLocation(ExactPosition(240551), ExactPosition(240875), strand=-1), type='gene', qualifiers=...),\n",
       " SeqFeature(SimpleLocation(ExactPosition(240551), ExactPosition(240875), strand=-1), type='CDS', qualifiers=...),\n",
       " SeqFeature(SimpleLocation(ExactPosition(244196), ExactPosition(244541), strand=1), type='gene', qualifiers=...),\n",
       " SeqFeature(SimpleLocation(ExactPosition(244196), ExactPosition(244541), strand=1), type='CDS', qualifiers=...),\n",
       " SeqFeature(SimpleLocation(ExactPosition(246981), ExactPosition(247053), strand=1), type='gene', qualifiers=...),\n",
       " SeqFeature(SimpleLocation(ExactPosition(246981), ExactPosition(247053), strand=1), type='tRNA', qualifiers=...),\n",
       " SeqFeature(SimpleLocation(ExactPosition(250999), ExactPosition(251389), strand=1), type='gene', qualifiers=...),\n",
       " SeqFeature(SimpleLocation(ExactPosition(250999), ExactPosition(251389), strand=1), type='CDS', qualifiers=...),\n",
       " SeqFeature(SimpleLocation(ExactPosition(254901), ExactPosition(255207), strand=1), type='gene', qualifiers=...),\n",
       " SeqFeature(SimpleLocation(ExactPosition(254901), ExactPosition(255207), strand=1), type='CDS', qualifiers=...),\n",
       " SeqFeature(SimpleLocation(ExactPosition(255550), ExactPosition(256123), strand=1), type='gene', qualifiers=...),\n",
       " SeqFeature(SimpleLocation(ExactPosition(255550), ExactPosition(256123), strand=1), type='CDS', qualifiers=...),\n",
       " SeqFeature(SimpleLocation(ExactPosition(256038), ExactPosition(256374), strand=1), type='gene', qualifiers=...),\n",
       " SeqFeature(SimpleLocation(ExactPosition(256038), ExactPosition(256374), strand=1), type='CDS', qualifiers=...),\n",
       " SeqFeature(SimpleLocation(ExactPosition(257198), ExactPosition(257576), strand=1), type='gene', qualifiers=...),\n",
       " SeqFeature(SimpleLocation(ExactPosition(257198), ExactPosition(257576), strand=1), type='CDS', qualifiers=...),\n",
       " SeqFeature(SimpleLocation(ExactPosition(257736), ExactPosition(258207), strand=1), type='gene', qualifiers=...),\n",
       " SeqFeature(SimpleLocation(ExactPosition(257736), ExactPosition(258207), strand=1), type='CDS', qualifiers=...),\n",
       " SeqFeature(SimpleLocation(ExactPosition(258843), ExactPosition(259641), strand=1), type='gene', qualifiers=...),\n",
       " SeqFeature(SimpleLocation(ExactPosition(258843), ExactPosition(259641), strand=1), type='CDS', qualifiers=...),\n",
       " SeqFeature(SimpleLocation(ExactPosition(259568), ExactPosition(259946), strand=1), type='gene', qualifiers=...),\n",
       " SeqFeature(SimpleLocation(ExactPosition(259568), ExactPosition(259946), strand=1), type='CDS', qualifiers=...),\n",
       " SeqFeature(SimpleLocation(ExactPosition(260410), ExactPosition(261235), strand=1), type='gene', qualifiers=...),\n",
       " SeqFeature(SimpleLocation(ExactPosition(260410), ExactPosition(261235), strand=1), type='CDS', qualifiers=...),\n",
       " SeqFeature(SimpleLocation(ExactPosition(261286), ExactPosition(262816), strand=1), type='gene', qualifiers=...),\n",
       " SeqFeature(SimpleLocation(ExactPosition(261286), ExactPosition(262816), strand=1), type='CDS', qualifiers=...),\n",
       " SeqFeature(SimpleLocation(ExactPosition(264194), ExactPosition(264560), strand=1), type='gene', qualifiers=...),\n",
       " SeqFeature(SimpleLocation(ExactPosition(264194), ExactPosition(264560), strand=1), type='CDS', qualifiers=...),\n",
       " SeqFeature(SimpleLocation(ExactPosition(266347), ExactPosition(266710), strand=-1), type='gene', qualifiers=...),\n",
       " SeqFeature(SimpleLocation(ExactPosition(266347), ExactPosition(266710), strand=-1), type='CDS', qualifiers=...),\n",
       " SeqFeature(SimpleLocation(ExactPosition(269658), ExactPosition(270054), strand=-1), type='gene', qualifiers=...),\n",
       " SeqFeature(SimpleLocation(ExactPosition(269658), ExactPosition(270054), strand=-1), type='CDS', qualifiers=...),\n",
       " SeqFeature(SimpleLocation(ExactPosition(272514), ExactPosition(272587), strand=1), type='gene', qualifiers=...),\n",
       " SeqFeature(SimpleLocation(ExactPosition(272514), ExactPosition(272587), strand=1), type='tRNA', qualifiers=...),\n",
       " SeqFeature(SimpleLocation(ExactPosition(275050), ExactPosition(275446), strand=1), type='gene', qualifiers=...),\n",
       " SeqFeature(SimpleLocation(ExactPosition(275050), ExactPosition(275446), strand=1), type='CDS', qualifiers=...),\n",
       " SeqFeature(SimpleLocation(ExactPosition(276546), ExactPosition(276938), strand=-1), type='exon', qualifiers=...),\n",
       " SeqFeature(SimpleLocation(ExactPosition(276634), ExactPosition(281347), strand=1), type='repeat_region', qualifiers=...),\n",
       " SeqFeature(SimpleLocation(ExactPosition(277968), ExactPosition(278121), strand=-1), type='exon', qualifiers=...),\n",
       " SeqFeature(SimpleLocation(ExactPosition(278697), ExactPosition(279024), strand=-1), type='gene', qualifiers=...),\n",
       " SeqFeature(SimpleLocation(ExactPosition(278697), ExactPosition(279024), strand=-1), type='CDS', qualifiers=...),\n",
       " SeqFeature(SimpleLocation(ExactPosition(281347), ExactPosition(288280), strand=1), type='repeat_region', qualifiers=...),\n",
       " SeqFeature(SimpleLocation(ExactPosition(286974), ExactPosition(287772), strand=1), type='gene', qualifiers=...),\n",
       " SeqFeature(SimpleLocation(ExactPosition(286974), ExactPosition(287772), strand=1), type='CDS', qualifiers=...),\n",
       " SeqFeature(SimpleLocation(ExactPosition(287894), ExactPosition(288251), strand=1), type='gene', qualifiers=...),\n",
       " SeqFeature(SimpleLocation(ExactPosition(287894), ExactPosition(288251), strand=1), type='CDS', qualifiers=...),\n",
       " SeqFeature(SimpleLocation(ExactPosition(288447), ExactPosition(288832), strand=1), type='exon', qualifiers=...),\n",
       " SeqFeature(SimpleLocation(ExactPosition(299286), ExactPosition(299601), strand=-1), type='gene', qualifiers=...),\n",
       " SeqFeature(SimpleLocation(ExactPosition(299286), ExactPosition(299601), strand=-1), type='CDS', qualifiers=...),\n",
       " SeqFeature(SimpleLocation(ExactPosition(304154), ExactPosition(304763), strand=-1), type='gene', qualifiers=...),\n",
       " SeqFeature(SimpleLocation(ExactPosition(304154), ExactPosition(304763), strand=-1), type='CDS', qualifiers=...),\n",
       " SeqFeature(SimpleLocation(ExactPosition(306249), ExactPosition(306597), strand=-1), type='gene', qualifiers=...),\n",
       " SeqFeature(SimpleLocation(ExactPosition(306249), ExactPosition(306597), strand=-1), type='CDS', qualifiers=...),\n",
       " SeqFeature(SimpleLocation(ExactPosition(307056), ExactPosition(309327), strand=1), type='gene', qualifiers=...),\n",
       " SeqFeature(CompoundLocation([SimpleLocation(ExactPosition(307056), ExactPosition(307823), strand=1), SimpleLocation(ExactPosition(308777), ExactPosition(309327), strand=1)], 'join'), type='CDS', qualifiers=...),\n",
       " SeqFeature(SimpleLocation(ExactPosition(307056), ExactPosition(307823), strand=1), type='exon', qualifiers=...),\n",
       " SeqFeature(SimpleLocation(ExactPosition(308777), ExactPosition(309327), strand=1), type='exon', qualifiers=...),\n",
       " SeqFeature(SimpleLocation(ExactPosition(312776), ExactPosition(313463), strand=-1), type='gene', qualifiers=...),\n",
       " SeqFeature(SimpleLocation(ExactPosition(312776), ExactPosition(313463), strand=-1), type='CDS', qualifiers=...),\n",
       " SeqFeature(SimpleLocation(ExactPosition(314123), AfterPosition(315173), strand=-1), type='gene', qualifiers=...),\n",
       " SeqFeature(SimpleLocation(ExactPosition(314123), AfterPosition(315173), strand=-1), type='CDS', qualifiers=...),\n",
       " SeqFeature(SimpleLocation(ExactPosition(315415), ExactPosition(315829), strand=-1), type='gene', qualifiers=...),\n",
       " SeqFeature(SimpleLocation(ExactPosition(315415), ExactPosition(315829), strand=-1), type='CDS', qualifiers=...),\n",
       " SeqFeature(SimpleLocation(ExactPosition(318501), ExactPosition(318831), strand=-1), type='gene', qualifiers=...),\n",
       " SeqFeature(SimpleLocation(ExactPosition(318501), ExactPosition(318831), strand=-1), type='CDS', qualifiers=...),\n",
       " SeqFeature(SimpleLocation(ExactPosition(319969), ExactPosition(320365), strand=1), type='gene', qualifiers=...),\n",
       " SeqFeature(SimpleLocation(ExactPosition(319969), ExactPosition(320365), strand=1), type='CDS', qualifiers=...),\n",
       " SeqFeature(SimpleLocation(ExactPosition(324804), ExactPosition(325305), strand=-1), type='gene', qualifiers=...),\n",
       " SeqFeature(SimpleLocation(ExactPosition(324804), ExactPosition(325305), strand=-1), type='CDS', qualifiers=...),\n",
       " SeqFeature(SimpleLocation(ExactPosition(325366), ExactPosition(325441), strand=-1), type='gene', qualifiers=...),\n",
       " SeqFeature(SimpleLocation(ExactPosition(325366), ExactPosition(325441), strand=-1), type='tRNA', qualifiers=...),\n",
       " SeqFeature(SimpleLocation(ExactPosition(325477), ExactPosition(325828), strand=1), type='gene', qualifiers=...),\n",
       " SeqFeature(SimpleLocation(ExactPosition(325477), ExactPosition(325828), strand=1), type='CDS', qualifiers=...),\n",
       " SeqFeature(SimpleLocation(ExactPosition(325700), ExactPosition(325774), strand=-1), type='gene', qualifiers=...),\n",
       " SeqFeature(SimpleLocation(ExactPosition(325700), ExactPosition(325774), strand=-1), type='tRNA', qualifiers=...),\n",
       " SeqFeature(SimpleLocation(ExactPosition(326147), ExactPosition(326235), strand=-1), type='gene', qualifiers=...),\n",
       " SeqFeature(SimpleLocation(ExactPosition(326147), ExactPosition(326235), strand=-1), type='tRNA', qualifiers=...),\n",
       " SeqFeature(SimpleLocation(ExactPosition(329386), ExactPosition(329458), strand=-1), type='gene', qualifiers=...),\n",
       " SeqFeature(SimpleLocation(ExactPosition(329386), ExactPosition(329458), strand=-1), type='tRNA', qualifiers=...),\n",
       " SeqFeature(SimpleLocation(ExactPosition(330482), ExactPosition(330851), strand=1), type='gene', qualifiers=...),\n",
       " SeqFeature(SimpleLocation(ExactPosition(330482), ExactPosition(330851), strand=1), type='CDS', qualifiers=...),\n",
       " SeqFeature(SimpleLocation(ExactPosition(331954), ExactPosition(332028), strand=1), type='gene', qualifiers=...),\n",
       " SeqFeature(SimpleLocation(ExactPosition(331954), ExactPosition(332028), strand=1), type='tRNA', qualifiers=...),\n",
       " SeqFeature(SimpleLocation(ExactPosition(336110), ExactPosition(336683), strand=1), type='gene', qualifiers=...),\n",
       " SeqFeature(SimpleLocation(ExactPosition(336110), ExactPosition(336683), strand=1), type='CDS', qualifiers=...),\n",
       " SeqFeature(SimpleLocation(ExactPosition(337550), ExactPosition(337624), strand=1), type='gene', qualifiers=...),\n",
       " SeqFeature(SimpleLocation(ExactPosition(337550), ExactPosition(337624), strand=1), type='tRNA', qualifiers=...),\n",
       " SeqFeature(SimpleLocation(ExactPosition(337781), ExactPosition(337855), strand=1), type='gene', qualifiers=...),\n",
       " SeqFeature(SimpleLocation(ExactPosition(337781), ExactPosition(337855), strand=1), type='tRNA', qualifiers=...),\n",
       " SeqFeature(SimpleLocation(ExactPosition(345552), ExactPosition(345885), strand=-1), type='gene', qualifiers=...),\n",
       " SeqFeature(SimpleLocation(ExactPosition(345552), ExactPosition(345885), strand=-1), type='CDS', qualifiers=...),\n",
       " SeqFeature(SimpleLocation(ExactPosition(350540), ExactPosition(351380), strand=-1), type='gene', qualifiers=...),\n",
       " SeqFeature(SimpleLocation(ExactPosition(350540), ExactPosition(351380), strand=-1), type='CDS', qualifiers=...),\n",
       " SeqFeature(SimpleLocation(ExactPosition(356761), ExactPosition(356834), strand=-1), type='gene', qualifiers=...),\n",
       " SeqFeature(SimpleLocation(ExactPosition(356761), ExactPosition(356834), strand=-1), type='tRNA', qualifiers=...),\n",
       " SeqFeature(SimpleLocation(ExactPosition(357324), ExactPosition(357636), strand=-1), type='gene', qualifiers=...),\n",
       " SeqFeature(SimpleLocation(ExactPosition(357324), ExactPosition(357636), strand=-1), type='CDS', qualifiers=...),\n",
       " SeqFeature(SimpleLocation(ExactPosition(359372), ExactPosition(359993), strand=1), type='gene', qualifiers=...),\n",
       " SeqFeature(SimpleLocation(ExactPosition(359372), ExactPosition(359993), strand=1), type='CDS', qualifiers=...),\n",
       " SeqFeature(SimpleLocation(ExactPosition(360282), ExactPosition(360762), strand=-1), type='gene', qualifiers=...),\n",
       " SeqFeature(SimpleLocation(ExactPosition(360282), ExactPosition(360762), strand=-1), type='CDS', qualifiers=...),\n",
       " SeqFeature(SimpleLocation(ExactPosition(361050), ExactPosition(363948), strand=-1), type='gene', qualifiers=...),\n",
       " SeqFeature(CompoundLocation([SimpleLocation(ExactPosition(363070), ExactPosition(363948), strand=-1), SimpleLocation(ExactPosition(361050), ExactPosition(361168), strand=-1)], 'join'), type='CDS', qualifiers=...),\n",
       " SeqFeature(SimpleLocation(ExactPosition(361050), ExactPosition(361168), strand=-1), type='exon', qualifiers=...),\n",
       " SeqFeature(SimpleLocation(ExactPosition(363070), ExactPosition(363948), strand=-1), type='exon', qualifiers=...),\n",
       " SeqFeature(SimpleLocation(ExactPosition(364373), ExactPosition(364745), strand=-1), type='gene', qualifiers=...),\n",
       " SeqFeature(SimpleLocation(ExactPosition(364373), ExactPosition(364745), strand=-1), type='CDS', qualifiers=...),\n",
       " SeqFeature(SimpleLocation(ExactPosition(373056), ExactPosition(373374), strand=1), type='gene', qualifiers=...),\n",
       " SeqFeature(SimpleLocation(ExactPosition(373056), ExactPosition(373374), strand=1), type='CDS', qualifiers=...),\n",
       " SeqFeature(SimpleLocation(ExactPosition(375324), ExactPosition(380615), strand=-1), type='gene', qualifiers=...),\n",
       " SeqFeature(CompoundLocation([SimpleLocation(ExactPosition(380472), ExactPosition(380615), strand=-1), SimpleLocation(ExactPosition(379488), ExactPosition(379557), strand=-1), SimpleLocation(ExactPosition(377322), ExactPosition(378033), strand=-1), SimpleLocation(ExactPosition(375324), ExactPosition(375586), strand=-1)], 'join'), type='CDS', qualifiers=...),\n",
       " SeqFeature(SimpleLocation(ExactPosition(375324), ExactPosition(375586), strand=-1), type='exon', qualifiers=...),\n",
       " SeqFeature(SimpleLocation(ExactPosition(377322), ExactPosition(378033), strand=-1), type='exon', qualifiers=...),\n",
       " SeqFeature(SimpleLocation(ExactPosition(378951), ExactPosition(379329), strand=1), type='gene', qualifiers=...),\n",
       " SeqFeature(SimpleLocation(ExactPosition(378951), ExactPosition(379329), strand=1), type='CDS', qualifiers=...),\n",
       " SeqFeature(SimpleLocation(ExactPosition(379488), ExactPosition(379557), strand=-1), type='exon', qualifiers=...),\n",
       " SeqFeature(SimpleLocation(ExactPosition(379943), ExactPosition(380273), strand=1), type='gene', qualifiers=...),\n",
       " SeqFeature(SimpleLocation(ExactPosition(379943), ExactPosition(380273), strand=1), type='CDS', qualifiers=...),\n",
       " SeqFeature(SimpleLocation(ExactPosition(380472), ExactPosition(380615), strand=-1), type='exon', qualifiers=...),\n",
       " SeqFeature(SimpleLocation(ExactPosition(381965), ExactPosition(382277), strand=-1), type='gene', qualifiers=...),\n",
       " SeqFeature(SimpleLocation(ExactPosition(381965), ExactPosition(382277), strand=-1), type='CDS', qualifiers=...),\n",
       " SeqFeature(SimpleLocation(ExactPosition(382407), ExactPosition(382785), strand=-1), type='gene', qualifiers=...),\n",
       " SeqFeature(SimpleLocation(ExactPosition(382407), ExactPosition(382785), strand=-1), type='CDS', qualifiers=...),\n",
       " SeqFeature(SimpleLocation(ExactPosition(385462), ExactPosition(385888), strand=-1), type='gene', qualifiers=...),\n",
       " SeqFeature(SimpleLocation(ExactPosition(385462), ExactPosition(385888), strand=-1), type='CDS', qualifiers=...),\n",
       " SeqFeature(SimpleLocation(ExactPosition(392344), ExactPosition(392653), strand=-1), type='gene', qualifiers=...),\n",
       " SeqFeature(SimpleLocation(ExactPosition(392344), ExactPosition(392653), strand=-1), type='CDS', qualifiers=...),\n",
       " SeqFeature(SimpleLocation(ExactPosition(394480), ExactPosition(395113), strand=-1), type='gene', qualifiers=...),\n",
       " SeqFeature(SimpleLocation(ExactPosition(394480), ExactPosition(395113), strand=-1), type='CDS', qualifiers=...),\n",
       " SeqFeature(SimpleLocation(ExactPosition(400892), ExactPosition(401258), strand=-1), type='gene', qualifiers=...),\n",
       " SeqFeature(SimpleLocation(ExactPosition(400892), ExactPosition(401258), strand=-1), type='CDS', qualifiers=...),\n",
       " SeqFeature(SimpleLocation(ExactPosition(401786), ExactPosition(402125), strand=1), type='gene', qualifiers=...),\n",
       " SeqFeature(SimpleLocation(ExactPosition(401786), ExactPosition(402125), strand=1), type='CDS', qualifiers=...),\n",
       " SeqFeature(SimpleLocation(ExactPosition(406180), ExactPosition(406585), strand=-1), type='gene', qualifiers=...),\n",
       " SeqFeature(SimpleLocation(ExactPosition(406180), ExactPosition(406585), strand=-1), type='CDS', qualifiers=...),\n",
       " SeqFeature(SimpleLocation(ExactPosition(407711), ExactPosition(425884), strand=1), type='repeat_region', qualifiers=...),\n",
       " SeqFeature(SimpleLocation(ExactPosition(408916), ExactPosition(409276), strand=-1), type='gene', qualifiers=...),\n",
       " SeqFeature(SimpleLocation(ExactPosition(408916), ExactPosition(409276), strand=-1), type='CDS', qualifiers=...),\n",
       " SeqFeature(SimpleLocation(ExactPosition(409523), ExactPosition(409886), strand=1), type='gene', qualifiers=...),\n",
       " SeqFeature(SimpleLocation(ExactPosition(409523), ExactPosition(409886), strand=1), type='CDS', qualifiers=...),\n",
       " SeqFeature(SimpleLocation(ExactPosition(416950), ExactPosition(417024), strand=1), type='gene', qualifiers=...),\n",
       " SeqFeature(SimpleLocation(ExactPosition(416950), ExactPosition(417024), strand=1), type='tRNA', qualifiers=...),\n",
       " SeqFeature(SimpleLocation(ExactPosition(417510), ExactPosition(417927), strand=-1), type='gene', qualifiers=...),\n",
       " SeqFeature(SimpleLocation(ExactPosition(417510), ExactPosition(417927), strand=-1), type='CDS', qualifiers=...),\n",
       " SeqFeature(SimpleLocation(ExactPosition(417602), ExactPosition(421008), strand=1), type='gene', qualifiers=...),\n",
       " SeqFeature(SimpleLocation(ExactPosition(417602), ExactPosition(421008), strand=1), type='rRNA', qualifiers=...),\n",
       " SeqFeature(SimpleLocation(ExactPosition(425453), ExactPosition(426047), strand=-1), type='gene', qualifiers=...),\n",
       " SeqFeature(SimpleLocation(ExactPosition(425453), ExactPosition(426047), strand=-1), type='CDS', qualifiers=...),\n",
       " SeqFeature(SimpleLocation(ExactPosition(425884), ExactPosition(430597), strand=1), type='repeat_region', qualifiers=...),\n",
       " SeqFeature(SimpleLocation(ExactPosition(427947), ExactPosition(428274), strand=-1), type='gene', qualifiers=...),\n",
       " SeqFeature(SimpleLocation(ExactPosition(427947), ExactPosition(428274), strand=-1), type='CDS', qualifiers=...),\n",
       " SeqFeature(SimpleLocation(ExactPosition(428416), ExactPosition(428938), strand=1), type='gene', qualifiers=...),\n",
       " SeqFeature(SimpleLocation(ExactPosition(428416), ExactPosition(428938), strand=1), type='CDS', qualifiers=...)]"
      ]
     },
     "execution_count": 49,
     "metadata": {},
     "output_type": "execute_result"
    }
   ],
   "source": [
    "mito_record.features"
   ]
  },
  {
   "cell_type": "code",
   "execution_count": 36,
   "id": "211a0f99-d3b4-403f-a44f-6d68ce39f461",
   "metadata": {},
   "outputs": [
    {
     "name": "stdout",
     "output_type": "stream",
     "text": [
      "type: gene\n",
      "location: [2386:2803](+)\n",
      "qualifiers:\n",
      "    Key: db_xref, Value: ['GeneID:3205235']\n",
      "    Key: gene, Value: ['orf138a']\n",
      "    Key: locus_tag, Value: ['NitaMp003']\n",
      "\n"
     ]
    }
   ],
   "source": [
    "my_gene = mito_record.features[3]\n",
    "print(my_gene)"
   ]
  },
  {
   "cell_type": "markdown",
   "id": "bb011277-d4f3-494b-a4d6-8e22c8014e60",
   "metadata": {},
   "source": [
    "Notice the three key properties:\n",
    "- `.type` which is a string like gene or CDS;\n",
    "- `.location` which describes where on the genome this feature is;\n",
    "- `.qualifiers` which is a Python dictionary with all the annotation for the feature (things like gene identifiers)"
   ]
  },
  {
   "cell_type": "markdown",
   "id": "4475072a-f470-4016-8d23-1a5f07ba6eb9",
   "metadata": {},
   "source": [
    "Here's how this gene looks like in the original GenBank file:\n",
    "\n",
    "```\n",
    "     gene            2387..2803\n",
    "                     /gene=\"orf138a\"\n",
    "                     /locus_tag=\"NitaMp003\"\n",
    "                     /db_xref=\"GeneID:3205235\"\n",
    "```"
   ]
  },
  {
   "cell_type": "code",
   "execution_count": 37,
   "id": "6d4326d6-c8c0-4939-b3e3-c8e0a6153090",
   "metadata": {},
   "outputs": [
    {
     "data": {
      "text/plain": [
       "SimpleLocation(ExactPosition(2386), ExactPosition(2803), strand=1)"
      ]
     },
     "execution_count": 37,
     "metadata": {},
     "output_type": "execute_result"
    }
   ],
   "source": [
    "my_gene.location"
   ]
  },
  {
   "cell_type": "code",
   "execution_count": 38,
   "id": "d9c43842-5e7c-4b25-ae3b-f3bb3cad433a",
   "metadata": {},
   "outputs": [
    {
     "data": {
      "text/plain": [
       "1"
      ]
     },
     "execution_count": 38,
     "metadata": {},
     "output_type": "execute_result"
    }
   ],
   "source": [
    "my_gene.location.strand"
   ]
  },
  {
   "cell_type": "code",
   "execution_count": 40,
   "id": "625c3a03-bf10-45c7-b729-7aefbc3e9f24",
   "metadata": {},
   "outputs": [
    {
     "data": {
      "text/plain": [
       "ExactPosition(2386)"
      ]
     },
     "execution_count": 40,
     "metadata": {},
     "output_type": "execute_result"
    }
   ],
   "source": [
    "my_gene.location.start"
   ]
  },
  {
   "cell_type": "code",
   "execution_count": null,
   "id": "dbe362e1-1189-45c0-8943-ba4549170596",
   "metadata": {},
   "outputs": [],
   "source": []
  },
  {
   "cell_type": "code",
   "execution_count": null,
   "id": "f21541df-c270-4f9c-aa79-03b7cb34fb93",
   "metadata": {},
   "outputs": [],
   "source": [
    "gene_seq = mito_record.seq[ ... ]\n",
    "print(len(gene_seq))\n",
    "print(gene_seq)"
   ]
  },
  {
   "cell_type": "markdown",
   "id": "d9de17f6-1c35-4ac5-be65-c029b6842a0d",
   "metadata": {},
   "source": [
    "This was a very simple location on the forward strand, if it had been on the reverse strand you'd need to take the reverse-complement.\n",
    "\n",
    "Also if the location had been a more complicated compound location like a join (used for eukaryotic genes where the CDS is made up of several exons), then the location would have-sub parts to consider."
   ]
  },
  {
   "cell_type": "code",
   "execution_count": 42,
   "id": "cf116862-7fde-49dd-8e2b-20da4d7e4610",
   "metadata": {},
   "outputs": [
    {
     "name": "stdout",
     "output_type": "stream",
     "text": [
      "type: gene\n",
      "location: [7186:7702](-)\n",
      "qualifiers:\n",
      "    Key: db_xref, Value: ['GeneID:3205319']\n",
      "    Key: gene, Value: ['orf171a']\n",
      "    Key: locus_tag, Value: ['NitaMp007']\n",
      "\n"
     ]
    }
   ],
   "source": [
    "another_gene = mito_record.features[10]\n",
    "print(another_gene)"
   ]
  },
  {
   "cell_type": "code",
   "execution_count": 43,
   "id": "f6a106df-1737-4df7-a49b-647afd6abfe3",
   "metadata": {},
   "outputs": [
    {
     "name": "stdout",
     "output_type": "stream",
     "text": [
      "516\n",
      "ATGTGCTTTTATTATATTTGCCTGAAACTCGATAAAATAGAGTTGTTTGAGACCAAATGTTATAGAGTTGGGGGCTCTCTGGGGAGGCACACCTTCACTTCCTTCTTAATGAAGGGGTTCCCCGGGAGTCTGACCTTGTCCTTTCTTTTAATTGTCGGGGCCGTCATGAGTGCCGAAACCGATTTCGGTAAGATGATGATGGCTCCTTCGGGCGCATCAAGCTCTGAAGATCCAAACTGGACGGAAGCCCTGAGATCTTCTAAAGGGCAGGGAGAGACTTCAGAAAGGGAAAGCACAGGCACATCGTCGTCCATCAACCTACAAAAAGAAAGAGCACGTCCGGCGCCTGCCCCAAATGAAGTAGCTTCCCCTGCCCCTGTCGTCCCCTTTCCATATCAAGAAGATGAGATCATAGGGGGCGACAGTGTAGAAAGCATCCAACAGCGGCCTTTGAGTTTGAGGAGAAAAACCCCTCCTTCTGCCGAGGTCATACATCATACAACAGGCCCGAATTGA\n"
     ]
    }
   ],
   "source": [
    "another_seq = mito_record.seq[ another_gene.location.start:another_gene.location.end ]\n",
    "print(len(another_seq))\n",
    "print(another_seq.reverse_complement())"
   ]
  },
  {
   "cell_type": "markdown",
   "id": "387fd29c-8975-4946-8669-41d2fcd09939",
   "metadata": {},
   "source": [
    "All these complications are taken care of for you via the `.extract()` method which takes the full length parent record's sequence as an argument:"
   ]
  },
  {
   "cell_type": "code",
   "execution_count": 44,
   "id": "99e9fa6f-ebb8-4463-9fb0-1f557aefb0c0",
   "metadata": {},
   "outputs": [
    {
     "data": {
      "text/plain": [
       "SeqFeature(SimpleLocation(ExactPosition(2386), ExactPosition(2803), strand=1), type='gene', qualifiers=...)"
      ]
     },
     "execution_count": 44,
     "metadata": {},
     "output_type": "execute_result"
    }
   ],
   "source": [
    "my_gene"
   ]
  },
  {
   "cell_type": "code",
   "execution_count": 45,
   "id": "b5bc4fa6-ec80-4a17-a788-39ce0a4bf563",
   "metadata": {},
   "outputs": [
    {
     "name": "stdout",
     "output_type": "stream",
     "text": [
      "417\n",
      "ATGTTAAAATCGAATCATCGACAAGATGTTTATCAGAGAGATTTTATTATGGGATACAATCGAAGGGCTCATAAAATGAAAAACTTGAGAAGTAAGGGAATATCGATGGCCTTTGTTGAACAGAGAGCGAACGGACGGCAAGTGACTTTGATCTCATGCTGGCCTTTACTTCGGCTACTAATAAGGGGGTTGGGGTTTGACAAATCAAGACTGGGGCTTCGTTTAGCCGCCTATGTAGTAAGAAAAACTCTGAGTTTGACGTTGAATAGCCATAGTGAGTTCATCACCAGTGGCATAAGCAAAGGAGGCATATGCGGTGGGGAGAAAGGCAATTTACCTCACTTCTTACAATTCCAGTTGAACCCGCAACAAAGCCAGCGTTGCTTTCGTGGGATCAACTGCTCGTTTTCGATATAG\n"
     ]
    }
   ],
   "source": [
    "gene_seq = my_gene.extract(mito_record.seq)\n",
    "print(len(gene_seq))\n",
    "print(gene_seq)"
   ]
  },
  {
   "cell_type": "markdown",
   "id": "3a284c86-7151-4f98-a199-2a7b39c8d7f7",
   "metadata": {},
   "source": [
    "### Exercise: Translating CDS features"
   ]
  },
  {
   "cell_type": "markdown",
   "id": "54077f4c-903a-48cb-affa-44f3a7000754",
   "metadata": {},
   "source": [
    "When dealing with GenBank files and trying to get the protein sequence of the genes, you'll need to look at the CDS features (coding sequences) - not the gene features (although for simple cases they'll have the same location).\n",
    "\n",
    "Sometimes you will find the translation is provided in the qualifiers. Read the *Nicotiana tabacum* mitochondrion NC_006581.gbk with `SeqIO` and print the translation by accessing the record qualifiers."
   ]
  },
  {
   "cell_type": "code",
   "execution_count": 54,
   "id": "df433114-9d84-4558-99d5-902034ae4d67",
   "metadata": {},
   "outputs": [
    {
     "name": "stdout",
     "output_type": "stream",
     "text": [
      "['NitaMp002']\n",
      "['MRNTCKSRLKDKEGKSKRKESLSRSSSQRSKNSKAKSGLRHSNCMNVNLIYVTGLMIANAHKTNIITFFAGRRKEKTSETKWSEGEGGSTWNWLSVNPKYDIDRGKKISYMPKVHLRPSFQATMT']\n"
     ]
    }
   ],
   "source": [
    "record = SeqIO.read(DATADIR/\"NC_006581.gbk\", \"genbank\")\n",
    "#print(record)\n",
    "my_cds = record.features[2]\n",
    "print(my_cds.qualifiers[\"locus_tag\"])\n",
    "print(my_cds.qualifiers[\"translation\"])\n"
   ]
  },
  {
   "cell_type": "code",
   "execution_count": 23,
   "id": "6977659e-b040-4be5-98b3-b374fabefe0d",
   "metadata": {},
   "outputs": [
    {
     "name": "stdout",
     "output_type": "stream",
     "text": [
      "['NitaMp002']\n",
      "['MRNTCKSRLKDKEGKSKRKESLSRSSSQRSKNSKAKSGLRHSNCMNVNLIYVTGLMIANAHKTNIITFFAGRRKEKTSETKWSEGEGGSTWNWLSVNPKYDIDRGKKISYMPKVHLRPSFQATMT']\n"
     ]
    }
   ],
   "source": [
    "# desired output"
   ]
  },
  {
   "cell_type": "markdown",
   "id": "95d5e1d9-52e0-4cda-a28d-abf74cf055ba",
   "metadata": {},
   "source": [
    "However, many times the annotation will not include the amino acid translation - but we can get it by translating the nucleotide sequence. Now, manually translate the nucleotide sequence."
   ]
  },
  {
   "cell_type": "code",
   "execution_count": 59,
   "id": "60f59bb6-2ed5-4545-9c16-68995fae9373",
   "metadata": {},
   "outputs": [
    {
     "name": "stdout",
     "output_type": "stream",
     "text": [
      "126\n",
      "MRNTCKSRLKDKEGKSKRKESLSRSSSQRSKNSKAKSGLRHSNCMNVNLIYVTGLMIANAHKTNIITFFAGRRKEKTSETKWSEGEGGSTWNWLSVNPKYDIDRGKKISYMPKVHLRPSFQATMT*\n"
     ]
    }
   ],
   "source": [
    "# extract the CDS from the parent record\n",
    "cds_seq = my_cds.extract(record.seq)\n",
    "# translate\n",
    "protein_seq = cds_seq.translate()\n",
    "# print the translated sequence with its length\n",
    "print(len(protein_seq))\n",
    "print(protein_seq)"
   ]
  },
  {
   "cell_type": "code",
   "execution_count": 24,
   "id": "42da5429-fa17-4c0d-88bf-8c35edbc54e2",
   "metadata": {},
   "outputs": [
    {
     "name": "stdout",
     "output_type": "stream",
     "text": [
      "126\n",
      "MRNTCKSRLKDKEGKSKRKESLSRSSSQRSKNSKAKSGLRHSNCMNVNLIYVTGLMIANAHKTNIITFFAGRRKEKTSETKWSEGEGGSTWNWLSVNPKYDIDRGKKISYMPKVHLRPSFQATMT*\n"
     ]
    }
   ],
   "source": [
    "# desired output"
   ]
  },
  {
   "cell_type": "markdown",
   "id": "6541e6b5-3419-4981-bfca-694d59fd167b",
   "metadata": {},
   "source": [
    "---\n",
    "\n",
    "## Online databases"
   ]
  },
  {
   "cell_type": "markdown",
   "id": "d5bf0cb7-4383-4d4d-849a-93cabf75a524",
   "metadata": {},
   "source": [
    "### Entrez"
   ]
  },
  {
   "cell_type": "code",
   "execution_count": 56,
   "id": "dbbb4a3c-5552-494d-a94c-f4c3a2dfe782",
   "metadata": {},
   "outputs": [],
   "source": [
    "from Bio import Entrez\n",
    "\n",
    "Entrez.email = \"zhipei.du@gmail.com\"  # use your email :)"
   ]
  },
  {
   "cell_type": "markdown",
   "id": "6bb7f20e-3ada-48e9-a88a-110f60d7f2b4",
   "metadata": {},
   "source": [
    "To search any of the Entrez databases (\"nucleotide\", \"protein\", \"pubmed\"), we can use the `Bio.Entrez.esearch()` module with the following syntax:\n",
    "\n",
    "```\n",
    "handle = Entrez.esearch(db=\"value\", term=\"keywords\", retmax=100)\n",
    "```"
   ]
  },
  {
   "cell_type": "code",
   "execution_count": 57,
   "id": "0991e0c3-f098-4afb-9279-ee16cc6a37e1",
   "metadata": {},
   "outputs": [
    {
     "data": {
      "text/plain": [
       "{'Count': '55172', 'RetMax': '10', 'RetStart': '0', 'IdList': ['3007250012', '3007242769', '3007240035', '3007231627', '3007228799', '3007226228', '3007223540', '3007214200', '3007213618', '3007193993'], 'TranslationSet': [], 'TranslationStack': [{'Term': 'hemoglobin[All Fields]', 'Field': 'All Fields', 'Count': '1', 'Explode': 'N'}, {'Term': 'alpha[All Fields]', 'Field': 'All Fields', 'Count': '1', 'Explode': 'N'}, 'AND'], 'QueryTranslation': 'hemoglobin[All Fields] AND alpha[All Fields]'}"
      ]
     },
     "execution_count": 57,
     "metadata": {},
     "output_type": "execute_result"
    }
   ],
   "source": [
    "handle = Entrez.esearch(db=\"nucleotide\", term=\"hemoglobin AND alpha\", retmax=10)\n",
    "records = Entrez.read(handle)\n",
    "records"
   ]
  },
  {
   "cell_type": "code",
   "execution_count": 58,
   "id": "55e1bd01-4fd3-4353-a2cc-3679aa1c29a6",
   "metadata": {},
   "outputs": [
    {
     "data": {
      "text/plain": [
       "['3007250012', '3007242769', '3007240035', '3007231627', '3007228799', '3007226228', '3007223540', '3007214200', '3007213618', '3007193993']"
      ]
     },
     "execution_count": 58,
     "metadata": {},
     "output_type": "execute_result"
    }
   ],
   "source": [
    "identifiers = records[\"IdList\"]\n",
    "identifiers"
   ]
  },
  {
   "cell_type": "markdown",
   "id": "548633fb-6d80-4074-bbe8-50dffb8e9b87",
   "metadata": {},
   "source": [
    "We can retrieve entries for a number of identifiers using `Bio.Entrez.efetch()`, which allows us to specify the return type (e.g. FASTA, GenBank).\n",
    "\n",
    "```\n",
    "handle = Entrex.efetch(db, id, rettype, retmode, retmax)\n",
    "```\n",
    "\n",
    "(for an explanation of the parameters, please see http://www.ncbi.nlm.nih.gov/books/NBK25499/#chapter4.EFetch)"
   ]
  },
  {
   "cell_type": "code",
   "execution_count": null,
   "id": "4ffe77c7-b947-45ba-94d8-bb82ddc3c2b2",
   "metadata": {},
   "outputs": [],
   "source": [
    "id = identifiers[3]\n",
    "handle = Entrez.efetch(db=\"nucleotide\", id=id,\n",
    "                       rettype=\"fasta\", retmode=\"text\")\n",
    "record = SeqIO.read(handle, \"fasta\")\n",
    "print(record)"
   ]
  },
  {
   "cell_type": "markdown",
   "id": "7847bf54-bb95-4ada-843d-5b9d6c668571",
   "metadata": {},
   "source": [
    "To search for papers on PubMed:"
   ]
  },
  {
   "cell_type": "code",
   "execution_count": null,
   "id": "ea42c6ae-a5d8-4211-a41a-500f950dcb74",
   "metadata": {},
   "outputs": [],
   "source": [
    "handle = Entrez.esearch(db=\"pubmed\", term=\"thermophilic,packing\", rettype=\"uilist\", retmax=10)\n",
    "records = Entrez.read(handle)\n",
    "records"
   ]
  },
  {
   "cell_type": "markdown",
   "id": "9b9a9bc5-a31e-4c7b-a9ae-19958f4471fc",
   "metadata": {},
   "source": [
    "To retrieve a publication record in Medline format:"
   ]
  },
  {
   "cell_type": "code",
   "execution_count": null,
   "id": "30fa3f54-2781-416b-9223-c5f30954b062",
   "metadata": {},
   "outputs": [],
   "source": [
    "from Bio import Medline\n",
    "handle = Entrez.efetch(db=\"pubmed\", id=\"37837765,37833340\",\n",
    "                       rettype=\"medline\", retmode=\"text\")\n",
    "records = Medline.parse(handle)\n",
    "for record in records:\n",
    "    print(f\"{record['TI']} ({record['DP']})\")\n"
   ]
  },
  {
   "cell_type": "markdown",
   "id": "c7af4535-625d-4029-b9fe-0a2b51abf95a",
   "metadata": {},
   "source": [
    "To search for protein database entries by keyword:"
   ]
  },
  {
   "cell_type": "code",
   "execution_count": null,
   "id": "d4657423-76c6-4020-aa64-b15abdceff40",
   "metadata": {},
   "outputs": [],
   "source": [
    "handle = Entrez.esearch(db=\"protein\", term=\"cancer AND human\")\n",
    "records = Entrez.read(handle)\n",
    "records"
   ]
  },
  {
   "cell_type": "markdown",
   "id": "a3b23791-a7ec-40b7-bb88-6cec9566c308",
   "metadata": {},
   "source": [
    "To retrieve protein database entries in FASTA format:"
   ]
  },
  {
   "cell_type": "code",
   "execution_count": null,
   "id": "6235a5b6-eddb-4131-9f10-ad0d495ccfc9",
   "metadata": {},
   "outputs": [],
   "source": [
    "handle = Entrez.efetch(db=\"protein\", id=\"2619400481\",\n",
    "                       rettype=\"fasta\", retmode=\"text\")\n",
    "record = SeqIO.read(handle, \"fasta\")\n",
    "print(record)"
   ]
  },
  {
   "cell_type": "markdown",
   "id": "8cf058c7-80ed-495e-8511-2e3056bf6c95",
   "metadata": {},
   "source": [
    "To retrieve protein database entries in Genbank format:"
   ]
  },
  {
   "cell_type": "code",
   "execution_count": null,
   "id": "59dfcb7d-74df-412b-a55e-f423605d7789",
   "metadata": {},
   "outputs": [],
   "source": [
    "handle = Entrez.efetch(db=\"protein\", id=\"2619400481\",\n",
    "                       rettype=\"gb\", retmode=\"text\")\n",
    "record = SeqIO.read(handle, \"genbank\")\n",
    "print(record)"
   ]
  },
  {
   "cell_type": "markdown",
   "id": "2f01c92f-22c9-4fb5-9116-008f3b957b4d",
   "metadata": {},
   "source": [
    "### BLAST"
   ]
  },
  {
   "cell_type": "code",
   "execution_count": null,
   "id": "c974f316-a2ce-4d36-83b2-c7dd65618a27",
   "metadata": {},
   "outputs": [],
   "source": [
    "from Bio.Blast import NCBIWWW\n",
    "\n",
    "NCBIWWW.email = \"\"  # insert your email here :)"
   ]
  },
  {
   "cell_type": "markdown",
   "id": "4a0ab519-6010-47aa-8932-39c8456aac61",
   "metadata": {},
   "source": [
    "We can perform a BLAST search online using the `NCBIWWW.qblast()` function:\n",
    "\n",
    "```\n",
    "output = NCBIWWW.qblast(program, database, sequence)\n",
    "```\n",
    "\n",
    "`program`: the BLAST program to use for the search; blastn, blastp, blastx, tblastn, tblastx\n",
    "`database`: the BLAST database to search against (e.g. 'nt', 'nr')\n",
    "`sequence`: a FASTA file, a SeqIO record, or a Genbank accession number.\n",
    "\n",
    "In the following example, we'll use the GI accession number 8332116: this is a DNA sequence so we choose blastn. If you would like to use a protein sequence, use blastp."
   ]
  },
  {
   "cell_type": "code",
   "execution_count": null,
   "id": "1e59a84a-43bd-4f33-a07d-466657af01ac",
   "metadata": {},
   "outputs": [],
   "source": [
    "# not run:\n",
    "# result_handle = NCBIWWW.qblast(\"blastn\", \"nt\", \"8332116\")\n",
    "# with open(DATADIR / \"my_blast.xml\", \"w\") as out_handle:\n",
    "#     out_handle.write(result_handle.read())\n",
    "# result_handle.close()"
   ]
  },
  {
   "cell_type": "code",
   "execution_count": null,
   "id": "9137dc3d-3f76-44e6-93b8-76587217ebaa",
   "metadata": {},
   "outputs": [],
   "source": [
    "# other possibilities:\n",
    "# 1. from FASTA\n",
    "# sequence_data = open(DATADIR / \"m_cold.fasta\").read()\n",
    "# result_handle = NCBIWWW.qblast(\"blastn\", \"nt\", sequence_data)\n",
    "# ...\n",
    "# 2. from FASTA as SeqRecord\n",
    "# record = SeqIO.read(\"m_cold.fasta\", format=\"fasta\")\n",
    "# result_handle = NCBIWWW.qblast(\"blastn\", \"nt\", record.seq)"
   ]
  },
  {
   "cell_type": "code",
   "execution_count": null,
   "id": "d098e3a4-571d-4a68-b4b9-730147d645b9",
   "metadata": {},
   "outputs": [],
   "source": [
    "from Bio.Blast import NCBIXML\n",
    "result_handle = open(DATADIR / \"my_blast.xml\")\n",
    "blast_records = NCBIXML.parse(result_handle)\n",
    "blast_record = next(blast_records)"
   ]
  },
  {
   "cell_type": "markdown",
   "id": "f9da7c15-bf56-46e1-8188-35732056b54b",
   "metadata": {},
   "source": [
    "Here, `my_blast.xml` contains several records (because we used more than one query sequence): thus, we read it using `NCBIXML.parse()` and then iterate over the returned records.\n",
    "\n",
    "You can get the alignments from `blast_record.alignments`:"
   ]
  },
  {
   "cell_type": "code",
   "execution_count": null,
   "id": "226a1052-59b8-48f5-aff6-faa3ceddb1b1",
   "metadata": {},
   "outputs": [],
   "source": [
    "blast_record.alignments[:10]"
   ]
  },
  {
   "cell_type": "code",
   "execution_count": null,
   "id": "f90a0332-a26e-4db6-a8ab-0141b1a35e36",
   "metadata": {},
   "outputs": [],
   "source": [
    "print(\"Alignments for sequence\", blast_record.query)\n",
    "\n",
    "for alignment in blast_record.alignments[:10]:\n",
    "    print(\"Accession number:\", alignment.accession)\n",
    "    print(\"Sequence:\", alignment.title)\n",
    "    print(\"Length:\", alignment.length)\n",
    "    print()"
   ]
  },
  {
   "cell_type": "code",
   "execution_count": null,
   "id": "6230e782-03f6-4184-aa8d-af0186b2b341",
   "metadata": {
    "scrolled": true
   },
   "outputs": [],
   "source": [
    "result_handle = open(DATADIR / \"my_blast.xml\")\n",
    "blast_records = NCBIXML.parse(result_handle)\n",
    "blast_record = next(blast_records)\n",
    "\n",
    "E_VALUE_THRESH = 0.04\n",
    "\n",
    "for alignment in blast_record.alignments:\n",
    "    for hsp in alignment.hsps:\n",
    "        if hsp.expect < E_VALUE_THRESH:\n",
    "            print(\"****Alignment****\")\n",
    "            print(\"sequence:\", alignment.title)\n",
    "            print(\"length:\", alignment.length)\n",
    "            print(\"e value:\", hsp.expect)\n",
    "            print(hsp.query[0:75] + \"...\")\n",
    "            print(hsp.match[0:75] + \"...\")\n",
    "            print(hsp.sbjct[0:75] + \"...\")\n",
    "            print()"
   ]
  },
  {
   "cell_type": "code",
   "execution_count": null,
   "id": "2414132a-b684-46a8-8f4f-2ab778b2742e",
   "metadata": {
    "scrolled": true
   },
   "outputs": [],
   "source": [
    "result_handle = open(DATADIR / \"my_blast.xml\")\n",
    "blast_records = NCBIXML.parse(result_handle)\n",
    "\n",
    "E_VALUE_THRESH = 0.04\n",
    "\n",
    "for blast_record in blast_records:\n",
    "    if blast_record.alignments:\n",
    "        print(f\"QUERY: {blast_record.query[:60]}...\")\n",
    "        for alignment in blast_record.alignments:\n",
    "            for hsp in alignment.hsps:\n",
    "                if hsp.expect < E_VALUE_THRESH:\n",
    "                    print(f\"MATCH: {alignment.title[:60]}...\")\n",
    "                    print(\"e value:\", hsp.expect)\n",
    "                    print()"
   ]
  },
  {
   "cell_type": "markdown",
   "id": "d500da91-3654-4be2-842b-0a579dac4098",
   "metadata": {},
   "source": [
    "---\n",
    "\n",
    "# Credits\n",
    "\n",
    "Partially abridged from a number of sources, including BioPython documentation, Peter Cock (CC-BY-SA 4.0), Kuan Rong Chan."
   ]
  }
 ],
 "metadata": {
  "kernelspec": {
   "display_name": "Python 3 (ipykernel)",
   "language": "python",
   "name": "python3"
  },
  "language_info": {
   "codemirror_mode": {
    "name": "ipython",
    "version": 3
   },
   "file_extension": ".py",
   "mimetype": "text/x-python",
   "name": "python",
   "nbconvert_exporter": "python",
   "pygments_lexer": "ipython3",
   "version": "3.12.7"
  }
 },
 "nbformat": 4,
 "nbformat_minor": 5
}
