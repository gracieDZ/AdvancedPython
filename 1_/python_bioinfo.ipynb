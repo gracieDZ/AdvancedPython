{
 "cells": [
  {
   "cell_type": "markdown",
   "id": "cd9b9d46",
   "metadata": {},
   "source": [
    "# Python & Bioinformatics\n",
    "## Advanced Python for Life Sciences @ Physalia courses (Summer 2025)\n",
    "### Marco Chierici, Fondazione Bruno Kessler"
   ]
  },
  {
   "cell_type": "code",
   "execution_count": null,
   "id": "fddd4acc-1bf2-4ab1-b5ae-0fd9adf11774",
   "metadata": {},
   "outputs": [],
   "source": [
    "# we use the pathlib library to improve file/folder manipulation\n",
    "from pathlib import Path\n",
    "\n",
    "DATADIR = Path(\"data\")\n",
    "OUTDIR = Path(\"out\")"
   ]
  },
  {
   "cell_type": "markdown",
   "id": "a4920afd-2d2a-4688-8367-854f9ef197a4",
   "metadata": {},
   "source": [
    "# Biopython"
   ]
  },
  {
   "cell_type": "markdown",
   "id": "e388ff54-23af-4c42-8e72-4ebd6bd9797f",
   "metadata": {},
   "source": [
    "Biopython is a collections of tools for biological computation. Some of its features include:\n",
    "\n",
    "- A standard sequence class that deals with sequences, ids on sequences, and sequence features.\n",
    "- Tools for performing common operations on sequences, such as translation, transcription and weight calculations.\n",
    "- Code to perform classification of data using k Nearest Neighbors, Naive Bayes or Support Vector Machines.\n",
    "- Code for dealing with alignments, including a standard way to create and deal with substitution matrices.\n",
    "\n",
    "More info and full documentation: https://biopython.org/\n",
    "\n",
    "Install: just copy-paste the following into the empty cell below\n",
    "\n",
    "```\n",
    "!conda install -y -c conda-forge biopython\n",
    "```\n",
    "\n",
    "(Reminder: the `!` at the beginning of a Jupyter code cell allows you to run what follows as a terminal command)"
   ]
  },
  {
   "cell_type": "code",
   "execution_count": null,
   "id": "792ab6c2-8fe4-4cbb-87ef-598a610bd9ea",
   "metadata": {},
   "outputs": [],
   "source": []
  },
  {
   "cell_type": "markdown",
   "id": "078d9cd4-f56b-44bd-9365-27c342a2cd87",
   "metadata": {},
   "source": [
    "## Basics"
   ]
  },
  {
   "cell_type": "code",
   "execution_count": null,
   "id": "d892a602-4244-4545-9895-27e4cf51983c",
   "metadata": {},
   "outputs": [],
   "source": [
    "from Bio.Seq import Seq\n",
    "\n",
    "my_seq = Seq(\"AGTACACTGGT\")\n",
    "my_seq"
   ]
  },
  {
   "cell_type": "markdown",
   "id": "0c8d788c-5f70-485d-b015-126971bc3218",
   "metadata": {},
   "source": [
    "For most aspects, a `Seq` objects acts like a normal Python string: you can compute its `len()` and slice it."
   ]
  },
  {
   "cell_type": "code",
   "execution_count": null,
   "id": "896b60d8-c05b-4768-a3d7-737c42ff2a2e",
   "metadata": {},
   "outputs": [],
   "source": [
    "my_seq = Seq(\"GATCGATGGGCCTATATAGGATCGAAAATCGC\")\n",
    "len(my_seq)"
   ]
  },
  {
   "cell_type": "code",
   "execution_count": null,
   "id": "2dc13a14-6de8-4a86-8731-df787083574b",
   "metadata": {},
   "outputs": [],
   "source": [
    "my_seq_str = str(my_seq)\n",
    "print(my_seq_str)\n",
    "len(my_seq_str)"
   ]
  },
  {
   "cell_type": "code",
   "execution_count": null,
   "id": "11cd299f-cb55-4c09-9987-30d1e0df95d3",
   "metadata": {},
   "outputs": [],
   "source": [
    "print(my_seq[6:9])"
   ]
  },
  {
   "cell_type": "code",
   "execution_count": null,
   "id": "bb47afeb-3574-444e-b5e8-bb349ae30ea0",
   "metadata": {},
   "outputs": [],
   "source": [
    "print(my_seq.count(\"G\"))\n",
    "print(my_seq_str.count(\"G\"))"
   ]
  },
  {
   "cell_type": "markdown",
   "id": "af57ade7-b1cb-4b20-919e-155fb5ae282e",
   "metadata": {},
   "source": [
    "### (Reverse) complement"
   ]
  },
  {
   "cell_type": "code",
   "execution_count": null,
   "id": "f7e583c8-9143-4800-ade7-8344dfe59d17",
   "metadata": {},
   "outputs": [],
   "source": [
    "my_seq.complement()"
   ]
  },
  {
   "cell_type": "code",
   "execution_count": null,
   "id": "91603f2f-dbce-4096-b5ed-0d4126f7aa99",
   "metadata": {},
   "outputs": [],
   "source": [
    "my_seq.reverse_complement()"
   ]
  },
  {
   "cell_type": "markdown",
   "id": "e76e0527-024d-426e-b9c8-96f17d45e78e",
   "metadata": {},
   "source": [
    "### Transcription, back transcription"
   ]
  },
  {
   "cell_type": "markdown",
   "id": "59d518c1-00d6-4ff6-abb5-5304ef6e69a6",
   "metadata": {},
   "source": [
    "Assuming `my_seq` is a DNA sequence, we may want to turn it into RNA.\n",
    "We normally assume the DNA is the coding strand (not the template strand) so this is a simple matter of replacing all the thymines with uracil:"
   ]
  },
  {
   "cell_type": "code",
   "execution_count": null,
   "id": "d670151c-02a6-4b9c-8e6d-f6863509d17b",
   "metadata": {},
   "outputs": [],
   "source": [
    "print(my_seq)\n",
    "print(my_seq.transcribe())"
   ]
  },
  {
   "cell_type": "markdown",
   "id": "22e6ac1f-d399-4996-b507-0081ff1b2204",
   "metadata": {},
   "source": [
    "Given some RNA, you might want the associated DNA - again, a simple U/T substitution:"
   ]
  },
  {
   "cell_type": "code",
   "execution_count": null,
   "id": "bf40a5d3-dafb-446b-9ce9-c6aaed3a399b",
   "metadata": {},
   "outputs": [],
   "source": [
    "my_rna = my_seq.transcribe()\n",
    "my_rna.back_transcribe()"
   ]
  },
  {
   "cell_type": "markdown",
   "id": "4f6d4c15-cf56-49d5-b876-f9a8d177d485",
   "metadata": {},
   "source": [
    "If you actually do want the template strand, you’d have to do a reverse complement on top:"
   ]
  },
  {
   "cell_type": "code",
   "execution_count": null,
   "id": "3724049a-da64-4042-8791-bf79a125c222",
   "metadata": {},
   "outputs": [],
   "source": [
    "my_rna.back_transcribe().reverse_complement()"
   ]
  },
  {
   "cell_type": "markdown",
   "id": "2565654b-eb88-4d20-a1d1-b3c44f0beb4b",
   "metadata": {},
   "source": [
    "### Translation"
   ]
  },
  {
   "cell_type": "markdown",
   "id": "177fd78a-d4d4-4bdf-8577-c8ba8f04d4c0",
   "metadata": {},
   "source": [
    "You can translate RNA:"
   ]
  },
  {
   "cell_type": "code",
   "execution_count": null,
   "id": "275a63cb-4234-4dea-beb6-a2770115e304",
   "metadata": {},
   "outputs": [],
   "source": [
    "mrna = Seq(\"AUGGCCAUUGUAAUGGGCCGCUGAAAGGGUGCCCGAUAG\")\n",
    "mrna.translate()"
   ]
  },
  {
   "cell_type": "markdown",
   "id": "9d17dab8-0fc2-4ecf-b7e2-f2bf80747f43",
   "metadata": {},
   "source": [
    "You can also translate DNA, which is assumed to be the coding strand:"
   ]
  },
  {
   "cell_type": "code",
   "execution_count": null,
   "id": "a6d29634-eb42-4bc9-8f08-6ae113a16313",
   "metadata": {},
   "outputs": [],
   "source": [
    "coding_dna = Seq(\"ATGGCCATTGTAATGGGCCGCTGAAAGGGTGCCCGATAG\")\n",
    "coding_dna.translate()"
   ]
  },
  {
   "cell_type": "markdown",
   "id": "2ad0fc1d-32ea-4905-b84d-18b3de6d552a",
   "metadata": {},
   "source": [
    "We can provide `translate()` with a few options. By default, as you have noticed, translation continues through any stop codons, but this can be modified:"
   ]
  },
  {
   "cell_type": "code",
   "execution_count": null,
   "id": "34dbb8a9-0090-450a-9998-cf57f78f27e6",
   "metadata": {},
   "outputs": [],
   "source": [
    "# prevent translation to continue through stop codons\n",
    "coding_dna.translate(to_stop=True)"
   ]
  },
  {
   "cell_type": "markdown",
   "id": "e22f1fcc-59a4-47f4-8378-4c2a09ed62db",
   "metadata": {},
   "source": [
    "Another option is the translation table, for which you can pass a [NCBI genetic code number](http://www.ncbi.nlm.nih.gov/Taxonomy/Utils/wprintgc.cgi) or name:"
   ]
  },
  {
   "cell_type": "code",
   "execution_count": null,
   "id": "d718fbda-d8f9-418c-bfb1-e1d90a062e15",
   "metadata": {},
   "outputs": [],
   "source": [
    "# specify a translation table (NCBI genetic code number)\n",
    "coding_dna.translate(table=2)"
   ]
  },
  {
   "cell_type": "code",
   "execution_count": null,
   "id": "5bed644c-1e4b-415d-8f85-d7356212d2dc",
   "metadata": {},
   "outputs": [],
   "source": [
    "coding_dna.translate(table=\"Vertebrate Mitochondrial\")"
   ]
  },
  {
   "cell_type": "code",
   "execution_count": null,
   "id": "2b4ab17a-29d9-4898-8b6f-deb1ecbb2dd3",
   "metadata": {},
   "outputs": [],
   "source": [
    "# combining options\n",
    "coding_dna.translate(table=2, to_stop=True)"
   ]
  },
  {
   "cell_type": "markdown",
   "id": "bd0e04c7-749c-4180-9df8-a3a0197704ba",
   "metadata": {},
   "source": [
    "You can also change the symbol for the stop codon with the option `stop_symbol`.\n",
    "\n",
    "Note that ambiguous codons like \"TAN\" or \"NNN\" could be an amino acid\n",
    "or a stop codon: these are translated as \"X\"."
   ]
  },
  {
   "cell_type": "code",
   "execution_count": null,
   "id": "5dce49c8-2c9e-464e-98bd-c7531143d35b",
   "metadata": {},
   "outputs": [],
   "source": [
    "Seq(\"ATGGCCATTGTATAN\").translate()"
   ]
  },
  {
   "cell_type": "markdown",
   "id": "8e76a8a5-a998-4381-b1e5-f8f6a6cfd4f1",
   "metadata": {},
   "source": [
    "In principle, Biopython does not know if a `Seq` object represents DNA, RNA, or a protein. Suppose your sequence contains valid nucleotide *and* amino acid letters and you want to compute the molecular weight calling the method `molecular_weight` on the sequence. If you know what your `Seq` object represents, then you have to tell Biopython:"
   ]
  },
  {
   "cell_type": "code",
   "execution_count": null,
   "id": "187dee06-bd3e-4063-adfe-0ae1c8f2d505",
   "metadata": {},
   "outputs": [],
   "source": [
    "from Bio.SeqUtils import molecular_weight\n",
    "\n",
    "my_seq = Seq(\"AGTACACTGGT\")\n",
    "molecular_weight(my_seq)"
   ]
  },
  {
   "cell_type": "code",
   "execution_count": null,
   "id": "683866d4-bbc9-492a-9b34-ad43288e1f9a",
   "metadata": {},
   "outputs": [],
   "source": [
    "molecular_weight(my_seq, \"protein\")"
   ]
  },
  {
   "cell_type": "markdown",
   "id": "c8c3901b-dcd8-4107-af85-22e11cbd3d48",
   "metadata": {},
   "source": [
    "## SeqRecord"
   ]
  },
  {
   "cell_type": "markdown",
   "id": "5dcb20e6-05eb-439d-b26a-3e137375bc3f",
   "metadata": {},
   "source": [
    "`SeqRecord` objects are very similar to `Seq` objects, but they have also a few additional attributes:\n",
    "\n",
    "- seq: The sequence itself, typically a Seq object.\n",
    "- id: The primary ID used to identify the sequence – a string. In most cases this is something like an accession number.\n",
    "- name: A common name/id for the sequence – a string. In some cases this will be the same as the accession number, but it could also be a clone name. Analagous to the LOCUS id in a GenBank record.\n",
    "- description: A human readable description or expressive name for the sequence – a string."
   ]
  },
  {
   "cell_type": "markdown",
   "id": "fe99c1d0-375a-47d7-a9d5-60d0fb576d8a",
   "metadata": {},
   "source": [
    "`SeqRecord` is the basis of `SeqIO` objects, which handle file I/O in different biological formats."
   ]
  },
  {
   "cell_type": "code",
   "execution_count": null,
   "id": "f88471fa-eb29-4cdd-9160-6097dd4eb2b7",
   "metadata": {},
   "outputs": [],
   "source": [
    "from Bio.SeqRecord import SeqRecord\n",
    "\n",
    "test_seq = Seq(\"GATCAGGATTAGGCC\")\n",
    "test_record = SeqRecord(test_seq, id=\"xyz\")\n",
    "test_record.description = \"I am not a real sequence\"\n",
    "print(test_record)"
   ]
  },
  {
   "cell_type": "code",
   "execution_count": null,
   "id": "c107847f-8d3f-4c22-81f2-746c190b8fbe",
   "metadata": {},
   "outputs": [],
   "source": [
    "print(test_record.description)"
   ]
  },
  {
   "cell_type": "code",
   "execution_count": null,
   "id": "19f3f219-18af-400b-8f16-7cc6f2c67185",
   "metadata": {},
   "outputs": [],
   "source": [
    "print(test_record.seq)"
   ]
  },
  {
   "cell_type": "code",
   "execution_count": null,
   "id": "dba7a50a-ed01-47a4-a783-185684f1ae16",
   "metadata": {},
   "outputs": [],
   "source": []
  },
  {
   "cell_type": "markdown",
   "id": "301ffe36-5d40-4075-81a4-9532aacce1da",
   "metadata": {},
   "source": [
    "## SeqIO"
   ]
  },
  {
   "cell_type": "markdown",
   "id": "c091fbbd-8850-4b11-929a-485dd9a9114e",
   "metadata": {},
   "source": [
    "The `SeqIO` module reads or writes sequences as `SeqRecord` objects. It is like a container for multiple `SeqRecord`s.\n",
    "\n",
    "`SeqIO` handles many different file formats, including FASTA, FASTQ (Sanger, Solexa, Illumina), GenBank, SFF (IonTorrent/IonProton), UniProt/SwissProt, EMBL, Clustal alignments, and more."
   ]
  },
  {
   "cell_type": "code",
   "execution_count": null,
   "id": "cd08a98e-609c-4c97-b360-dd2ab591b0e4",
   "metadata": {},
   "outputs": [],
   "source": [
    "from Bio import SeqIO\n",
    "\n",
    "with open(DATADIR / \"database.fasta\") as handle:\n",
    "    for record in SeqIO.parse(handle, \"fasta\"):\n",
    "        print(record.id)"
   ]
  },
  {
   "cell_type": "markdown",
   "id": "8240f211-c744-4663-8cb1-ac2ed84aa452",
   "metadata": {},
   "source": [
    "Note that `SeqIO.parse()` does not guess the file format by extension or content: you must specify the format explicitly. This is also compliant with the Zen of Python \"Explicit is better than implicit\"."
   ]
  },
  {
   "cell_type": "markdown",
   "id": "56594fc5-d7dc-4fca-87e3-20c2271da5bf",
   "metadata": {},
   "source": [
    "If you had a different file type, for example a GenBank file, you just specify 'genbank' instead of 'fasta' in the parser:"
   ]
  },
  {
   "cell_type": "code",
   "execution_count": null,
   "id": "d05afda9-0151-4279-9bfd-084d8efc07ab",
   "metadata": {},
   "outputs": [],
   "source": [
    "with open(DATADIR / \"cor6_6.gb\") as handle:\n",
    "    for record in SeqIO.parse(handle, \"genbank\"):\n",
    "        print(record.id)"
   ]
  },
  {
   "cell_type": "markdown",
   "id": "13993a05-d337-4b55-abf9-1e0ef394db95",
   "metadata": {},
   "source": [
    "`SeqIO.parse()` is an *iterator* - which is great when you only need the records one by one, in the order found in the file.\n",
    "\n",
    "For some tasks you may need to have random access to the records in any order. In this situation, turn the iterator into a list:"
   ]
  },
  {
   "cell_type": "code",
   "execution_count": null,
   "id": "5d9a691f-e821-4386-b2cf-424cbb22115a",
   "metadata": {},
   "outputs": [],
   "source": [
    "records = list(SeqIO.parse(DATADIR / \"database.fasta\", \"fasta\"))\n",
    "print(records[0].id)  # first record\n",
    "print(records[-1].id)  # last record"
   ]
  },
  {
   "cell_type": "markdown",
   "id": "6833d5bb-cc38-4cef-b08c-e7a1576309b9",
   "metadata": {},
   "source": [
    "If you have a bunch of sequences in a list or `SeqRecord` object, you can write them to a file by using `SeqIO.write()`."
   ]
  },
  {
   "cell_type": "code",
   "execution_count": null,
   "id": "62279a67-f409-4ea2-be89-b8e047d7df69",
   "metadata": {},
   "outputs": [],
   "source": [
    "# create the output dir and don't complain if it already exists\n",
    "OUTDIR.mkdir(exist_ok=True)\n",
    "# just write the first 2 records\n",
    "SeqIO.write(records[:2], OUTDIR / \"db_out.fasta\", \"fasta\")"
   ]
  },
  {
   "cell_type": "code",
   "execution_count": null,
   "id": "38a95910-ff9e-4fd3-b6d3-c0f6787d3828",
   "metadata": {},
   "outputs": [],
   "source": [
    "!cat out/db_out.fasta"
   ]
  },
  {
   "cell_type": "markdown",
   "id": "348f26f7-f35d-454c-9a5c-c3d38d172aca",
   "metadata": {},
   "source": [
    "Another common task is to index your records by some identifier. For small files there's the function `SeqIO.to_dict()` to turn a SeqRecord iterator (or list) into a dictionary (in memory):"
   ]
  },
  {
   "cell_type": "code",
   "execution_count": null,
   "id": "61aaf169-e197-4de7-9025-fe298e259c10",
   "metadata": {},
   "outputs": [],
   "source": [
    "record_dict = SeqIO.to_dict(SeqIO.parse(DATADIR / \"database.fasta\", \"fasta\"))\n",
    "print(record_dict[\"seq3\"])  # use any record ID"
   ]
  },
  {
   "cell_type": "markdown",
   "id": "80e1c716-8d0c-4e7f-9cf4-fe9250f980ba",
   "metadata": {},
   "source": [
    "For larger files, where you can't hold everything in memory, you can use `SeqIO.index()`:"
   ]
  },
  {
   "cell_type": "code",
   "execution_count": null,
   "id": "f98e6beb-88f0-41fe-afc3-3d6fce4700ca",
   "metadata": {},
   "outputs": [],
   "source": [
    "record_dict = SeqIO.index(str(DATADIR / \"database.fasta\"), \"fasta\")\n",
    "print(record_dict[\"seq3\"])  # use any record ID"
   ]
  },
  {
   "cell_type": "markdown",
   "id": "f7d0380c-c511-4141-a24b-1ae0bbf72bab",
   "metadata": {},
   "source": [
    "### I/O: format conversion\n",
    "\n",
    "To convert between file formats (e.g., GenBank -> FASTA), there is the convenient `SeqIO.convert()` function."
   ]
  },
  {
   "cell_type": "code",
   "execution_count": null,
   "id": "37405f38-09db-4b30-9449-c8630bda7850",
   "metadata": {},
   "outputs": [],
   "source": [
    "count = SeqIO.convert(\n",
    "    DATADIR / \"cor6_6.gb\", \"genbank\", OUTDIR / \"cor6_6.fasta\", \"fasta\"\n",
    ")\n",
    "print(f\"Converted {count} records\")"
   ]
  },
  {
   "cell_type": "markdown",
   "id": "890f3725-7ebf-4b46-8431-07e4d80d2ce6",
   "metadata": {},
   "source": [
    "### Sequence features\n",
    "\n",
    "We read now a Genbank file with a whole mitochondrial genome (e.g. the tobacco mitochondrion, *Nicotiana tabacum* mitochondrion NC_006581)."
   ]
  },
  {
   "cell_type": "code",
   "execution_count": null,
   "id": "1107585a-e439-45cf-bb95-a30692d5bb7f",
   "metadata": {},
   "outputs": [],
   "source": [
    "mito_record = SeqIO.read(DATADIR / \"NC_006581.gbk\", \"genbank\")"
   ]
  },
  {
   "cell_type": "code",
   "execution_count": null,
   "id": "6e01ff0b-d361-45f3-8250-0eafd93cb0a3",
   "metadata": {},
   "outputs": [],
   "source": [
    "print(mito_record.id)\n",
    "print(len(mito_record))\n",
    "print(len(mito_record.features))"
   ]
  },
  {
   "cell_type": "markdown",
   "id": "d035ec52-b61b-49f1-a372-a7556da70da8",
   "metadata": {},
   "source": [
    "What is this `mito_record.features` object?\n",
    "\n",
    "It's a Python list, containing a Biopython `SeqFeature` object for each feature in the GenBank file. For instance:"
   ]
  },
  {
   "cell_type": "code",
   "execution_count": null,
   "id": "3d949ac8-b4eb-416d-ad23-1b06e36f5a2c",
   "metadata": {},
   "outputs": [],
   "source": [
    "mito_record.features[3]"
   ]
  },
  {
   "cell_type": "code",
   "execution_count": null,
   "id": "211a0f99-d3b4-403f-a44f-6d68ce39f461",
   "metadata": {},
   "outputs": [],
   "source": [
    "my_gene = mito_record.features[3]\n",
    "print(my_gene)"
   ]
  },
  {
   "cell_type": "markdown",
   "id": "bb011277-d4f3-494b-a4d6-8e22c8014e60",
   "metadata": {},
   "source": [
    "Notice the three key properties:\n",
    "- `.type` which is a string like gene or CDS;\n",
    "- `.location` which describes where on the genome this feature is;\n",
    "- `.qualifiers` which is a Python dictionary with all the annotation for the feature (things like gene identifiers)"
   ]
  },
  {
   "cell_type": "markdown",
   "id": "4475072a-f470-4016-8d23-1a5f07ba6eb9",
   "metadata": {},
   "source": [
    "Here's how this gene looks like in the original GenBank file:\n",
    "\n",
    "```\n",
    "     gene            2387..2803\n",
    "                     /gene=\"orf138a\"\n",
    "                     /locus_tag=\"NitaMp003\"\n",
    "                     /db_xref=\"GeneID:3205235\"\n",
    "```"
   ]
  },
  {
   "cell_type": "code",
   "execution_count": null,
   "id": "6d4326d6-c8c0-4939-b3e3-c8e0a6153090",
   "metadata": {},
   "outputs": [],
   "source": [
    "my_gene.location"
   ]
  },
  {
   "cell_type": "code",
   "execution_count": null,
   "id": "d9c43842-5e7c-4b25-ae3b-f3bb3cad433a",
   "metadata": {},
   "outputs": [],
   "source": [
    "print(my_gene.location.strand)"
   ]
  },
  {
   "cell_type": "code",
   "execution_count": null,
   "id": "625c3a03-bf10-45c7-b729-7aefbc3e9f24",
   "metadata": {},
   "outputs": [],
   "source": [
    "print(my_gene.location.start)"
   ]
  },
  {
   "cell_type": "code",
   "execution_count": null,
   "id": "dbe362e1-1189-45c0-8943-ba4549170596",
   "metadata": {},
   "outputs": [],
   "source": [
    "print(my_gene.location.end)"
   ]
  },
  {
   "cell_type": "markdown",
   "id": "9ccdf3b9-2d0e-4878-98a7-0973d3f0542d",
   "metadata": {},
   "source": [
    "Wait! Wasn't the start location 2387 in the GenBank file?\n",
    "\n",
    "It's OK - The reason for this is to match how Python counting works (zero-based), in particular string slicing. In order to pull out this sequence from the full genome we need to use slice values of 2386 and 2803:"
   ]
  },
  {
   "cell_type": "code",
   "execution_count": null,
   "id": "f21541df-c270-4f9c-aa79-03b7cb34fb93",
   "metadata": {},
   "outputs": [],
   "source": [
    "gene_seq = mito_record.seq[2386:2803]\n",
    "print(len(gene_seq))\n",
    "print(gene_seq)"
   ]
  },
  {
   "cell_type": "markdown",
   "id": "d9de17f6-1c35-4ac5-be65-c029b6842a0d",
   "metadata": {},
   "source": [
    "This was a very simple location on the forward strand, if it had been on the reverse strand you'd need to take the reverse-complement.\n",
    "\n",
    "Also if the location had been a more complicated compound location like a join (used for eukaryotic genes where the CDS is made up of several exons), then the location would have-sub parts to consider."
   ]
  },
  {
   "cell_type": "code",
   "execution_count": null,
   "id": "cf116862-7fde-49dd-8e2b-20da4d7e4610",
   "metadata": {},
   "outputs": [],
   "source": [
    "another_gene = mito_record.features[10]\n",
    "print(another_gene)"
   ]
  },
  {
   "cell_type": "code",
   "execution_count": null,
   "id": "f6a106df-1737-4df7-a49b-647afd6abfe3",
   "metadata": {},
   "outputs": [],
   "source": [
    "another_seq = mito_record.seq[another_gene.location.start : another_gene.location.end]\n",
    "print(len(another_seq))\n",
    "print(another_seq.reverse_complement())"
   ]
  },
  {
   "cell_type": "markdown",
   "id": "387fd29c-8975-4946-8669-41d2fcd09939",
   "metadata": {},
   "source": [
    "All these complications are taken care of for you via the `.extract()` method which takes the full length parent record's sequence as an argument:"
   ]
  },
  {
   "cell_type": "code",
   "execution_count": null,
   "id": "99e9fa6f-ebb8-4463-9fb0-1f557aefb0c0",
   "metadata": {},
   "outputs": [],
   "source": [
    "gene_seq = my_gene.extract(mito_record.seq)\n",
    "print(len(gene_seq))\n",
    "print(gene_seq)"
   ]
  },
  {
   "cell_type": "markdown",
   "id": "c05afe2a-46bd-444b-b231-5d2b944f6757",
   "metadata": {},
   "source": [
    "Remember that, in the example above, `my_gene` is a Biopython `SeqFeature` object of a feature in the GenBank file."
   ]
  },
  {
   "cell_type": "code",
   "execution_count": null,
   "id": "b5bc4fa6-ec80-4a17-a788-39ce0a4bf563",
   "metadata": {},
   "outputs": [],
   "source": [
    "another_seq = another_gene.extract(mito_record.seq)\n",
    "print(len(another_seq))\n",
    "print(another_seq)"
   ]
  },
  {
   "cell_type": "markdown",
   "id": "b120f06e-1a2d-40e5-9186-bc41ba3f0565",
   "metadata": {},
   "source": [
    "### Exercise: Translating CDS features"
   ]
  },
  {
   "cell_type": "markdown",
   "id": "54077f4c-903a-48cb-affa-44f3a7000754",
   "metadata": {},
   "source": [
    "When dealing with GenBank files and trying to get the protein sequence of the genes, you'll need to look at the CDS features (coding sequences) - not the gene features (although for simple cases they'll have the same location).\n",
    "\n",
    "Sometimes, as in the *Nicotiana tabacum* mitochondrion example above, you will find the translation is provided in the qualifiers:"
   ]
  },
  {
   "cell_type": "code",
   "execution_count": null,
   "id": "6977659e-b040-4be5-98b3-b374fabefe0d",
   "metadata": {},
   "outputs": [],
   "source": [
    "record = SeqIO.read(DATADIR / \"NC_006581.gbk\", \"genbank\")\n",
    "my_cds = record.features[2]\n",
    "print(my_cds.qualifiers[\"locus_tag\"])\n",
    "print(my_cds.qualifiers[\"translation\"])"
   ]
  },
  {
   "cell_type": "markdown",
   "id": "12b6011b-9d67-4a8b-93a4-bfed6978979a",
   "metadata": {},
   "source": [
    "However, many times the annotation will not include the amino acid translation - but we can get it by translating the nucleotide sequence. Now, manually translate the nucleotide sequence."
   ]
  },
  {
   "cell_type": "code",
   "execution_count": null,
   "id": "ccf50e6c-1730-4898-96af-295818fe8364",
   "metadata": {},
   "outputs": [],
   "source": []
  },
  {
   "cell_type": "code",
   "execution_count": null,
   "id": "42da5429-fa17-4c0d-88bf-8c35edbc54e2",
   "metadata": {},
   "outputs": [],
   "source": [
    "# extract the CDS from the parent record\n",
    "cds_seq = my_cds.extract(record.seq)\n",
    "# translate\n",
    "protein_seq = cds_seq.translate()\n",
    "# print the translated sequence with its length\n",
    "print(len(protein_seq))\n",
    "print(protein_seq)"
   ]
  },
  {
   "cell_type": "markdown",
   "id": "6541e6b5-3419-4981-bfca-694d59fd167b",
   "metadata": {},
   "source": [
    "---\n",
    "\n",
    "## Online databases"
   ]
  },
  {
   "cell_type": "markdown",
   "id": "d5bf0cb7-4383-4d4d-849a-93cabf75a524",
   "metadata": {},
   "source": [
    "### Entrez"
   ]
  },
  {
   "cell_type": "code",
   "execution_count": null,
   "id": "dbbb4a3c-5552-494d-a94c-f4c3a2dfe782",
   "metadata": {},
   "outputs": [],
   "source": [
    "from Bio import Entrez\n",
    "\n",
    "Entrez.email = \"chierici@fbk.eu\"  # use your email :)"
   ]
  },
  {
   "cell_type": "markdown",
   "id": "6bb7f20e-3ada-48e9-a88a-110f60d7f2b4",
   "metadata": {},
   "source": [
    "To search any of the Entrez databases (\"nucleotide\", \"protein\", \"pubmed\"), we can use the `Bio.Entrez.esearch()` module with the following syntax:\n",
    "\n",
    "```\n",
    "handle = Entrez.esearch(db=\"value\", term=\"keywords\", retmax=100)\n",
    "```"
   ]
  },
  {
   "cell_type": "code",
   "execution_count": null,
   "id": "0991e0c3-f098-4afb-9279-ee16cc6a37e1",
   "metadata": {},
   "outputs": [],
   "source": [
    "handle = Entrez.esearch(db=\"nucleotide\", term=\"hemoglobin AND alpha\", retmax=10)\n",
    "records = Entrez.read(handle)\n",
    "records"
   ]
  },
  {
   "cell_type": "code",
   "execution_count": null,
   "id": "55e1bd01-4fd3-4353-a2cc-3679aa1c29a6",
   "metadata": {},
   "outputs": [],
   "source": [
    "identifiers = records[\"IdList\"]\n",
    "identifiers"
   ]
  },
  {
   "cell_type": "markdown",
   "id": "548633fb-6d80-4074-bbe8-50dffb8e9b87",
   "metadata": {},
   "source": [
    "We can retrieve entries for a number of identifiers using `Bio.Entrez.efetch()`, which allows us to specify the return type (e.g. FASTA, GenBank).\n",
    "\n",
    "```\n",
    "handle = Entrex.efetch(db, id, rettype, retmode, retmax)\n",
    "```\n",
    "\n",
    "(for an explanation of the parameters, please see http://www.ncbi.nlm.nih.gov/books/NBK25499/#chapter4.EFetch)"
   ]
  },
  {
   "cell_type": "code",
   "execution_count": null,
   "id": "4ffe77c7-b947-45ba-94d8-bb82ddc3c2b2",
   "metadata": {},
   "outputs": [],
   "source": [
    "id = identifiers[3]\n",
    "handle = Entrez.efetch(db=\"nucleotide\", id=id,\n",
    "                       rettype=\"fasta\", retmode=\"text\")\n",
    "record = SeqIO.read(handle, \"fasta\")\n",
    "print(record)"
   ]
  },
  {
   "cell_type": "markdown",
   "id": "7847bf54-bb95-4ada-843d-5b9d6c668571",
   "metadata": {},
   "source": [
    "To search for papers on PubMed:"
   ]
  },
  {
   "cell_type": "code",
   "execution_count": null,
   "id": "ea42c6ae-a5d8-4211-a41a-500f950dcb74",
   "metadata": {},
   "outputs": [],
   "source": [
    "handle = Entrez.esearch(db=\"pubmed\", term=\"thermophilic,packing\", rettype=\"uilist\", retmax=10)\n",
    "records = Entrez.read(handle)\n",
    "records"
   ]
  },
  {
   "cell_type": "markdown",
   "id": "9b9a9bc5-a31e-4c7b-a9ae-19958f4471fc",
   "metadata": {},
   "source": [
    "To retrieve a publication record in Medline format:"
   ]
  },
  {
   "cell_type": "code",
   "execution_count": null,
   "id": "30fa3f54-2781-416b-9223-c5f30954b062",
   "metadata": {},
   "outputs": [],
   "source": [
    "from Bio import Medline\n",
    "handle = Entrez.efetch(db=\"pubmed\", id=\"37837765,37833340\",\n",
    "                       rettype=\"medline\", retmode=\"text\")\n",
    "records = Medline.parse(handle)\n",
    "for record in records:\n",
    "    print(f\"{record['TI']} ({record['DP']})\")\n"
   ]
  },
  {
   "cell_type": "markdown",
   "id": "c7af4535-625d-4029-b9fe-0a2b51abf95a",
   "metadata": {},
   "source": [
    "To search for protein database entries by keyword:"
   ]
  },
  {
   "cell_type": "code",
   "execution_count": null,
   "id": "d4657423-76c6-4020-aa64-b15abdceff40",
   "metadata": {},
   "outputs": [],
   "source": [
    "handle = Entrez.esearch(db=\"protein\", term=\"cancer AND human\")\n",
    "records = Entrez.read(handle)\n",
    "records"
   ]
  },
  {
   "cell_type": "markdown",
   "id": "a3b23791-a7ec-40b7-bb88-6cec9566c308",
   "metadata": {},
   "source": [
    "To retrieve protein database entries in FASTA format:"
   ]
  },
  {
   "cell_type": "code",
   "execution_count": null,
   "id": "6235a5b6-eddb-4131-9f10-ad0d495ccfc9",
   "metadata": {},
   "outputs": [],
   "source": [
    "handle = Entrez.efetch(db=\"protein\", id=\"2619400481\",\n",
    "                       rettype=\"fasta\", retmode=\"text\")\n",
    "record = SeqIO.read(handle, \"fasta\")\n",
    "print(record)"
   ]
  },
  {
   "cell_type": "markdown",
   "id": "8cf058c7-80ed-495e-8511-2e3056bf6c95",
   "metadata": {},
   "source": [
    "To retrieve protein database entries in Genbank format:"
   ]
  },
  {
   "cell_type": "code",
   "execution_count": null,
   "id": "59dfcb7d-74df-412b-a55e-f423605d7789",
   "metadata": {},
   "outputs": [],
   "source": [
    "handle = Entrez.efetch(db=\"protein\", id=\"2619400481\",\n",
    "                       rettype=\"gb\", retmode=\"text\")\n",
    "record = SeqIO.read(handle, \"genbank\")\n",
    "print(record)"
   ]
  },
  {
   "cell_type": "markdown",
   "id": "7a8d4d03-e274-4120-a0f5-bfdf4776e646",
   "metadata": {},
   "source": [
    "### BLAST"
   ]
  },
  {
   "cell_type": "code",
   "execution_count": null,
   "id": "adedcbd5-1a67-49fd-a0ca-9e7cb9e35931",
   "metadata": {},
   "outputs": [],
   "source": [
    "from Bio.Blast import NCBIWWW\n",
    "\n",
    "NCBIWWW.email = \"chierici@fbk.eu\"  # insert your email here :)"
   ]
  },
  {
   "cell_type": "markdown",
   "id": "ffd91ddb-8520-4f26-bf03-a10e9334d8d0",
   "metadata": {},
   "source": [
    "We can perform a BLAST search online using the `NCBIWWW.qblast()` function:\n",
    "\n",
    "```\n",
    "output = NCBIWWW.qblast(program, database, sequence)\n",
    "```\n",
    "\n",
    "`program`: the BLAST program to use for the search; blastn, blastp, blastx, tblastn, tblastx\n",
    "`database`: the BLAST database to search against (e.g. 'nt', 'nr')\n",
    "`sequence`: a FASTA file, a SeqIO record, or a Genbank accession number.\n",
    "\n",
    "In the following example, we'll use the GI accession number 8332116: this is a DNA sequence so we choose blastn. If you would like to use a protein sequence, use blastp."
   ]
  },
  {
   "cell_type": "code",
   "execution_count": null,
   "id": "78ee0912-a0f4-451b-bb24-09b5cebcccb6",
   "metadata": {},
   "outputs": [],
   "source": [
    "# not run:\n",
    "# result_handle = NCBIWWW.qblast(\"blastn\", \"nt\", \"8332116\")\n",
    "# with open(DATADIR / \"my_blast.xml\", \"w\") as out_handle:\n",
    "#     out_handle.write(result_handle.read())\n",
    "# result_handle.close()"
   ]
  },
  {
   "cell_type": "code",
   "execution_count": null,
   "id": "22f96200-bd06-4872-907f-d9598e1040a4",
   "metadata": {},
   "outputs": [],
   "source": [
    "# other possibilities:\n",
    "# 1. from FASTA\n",
    "# sequence_data = open(DATADIR / \"m_cold.fasta\").read()\n",
    "# result_handle = NCBIWWW.qblast(\"blastn\", \"nt\", sequence_data)\n",
    "# ...\n",
    "# 2. from FASTA as SeqRecord\n",
    "# record = SeqIO.read(\"m_cold.fasta\", format=\"fasta\")\n",
    "# result_handle = NCBIWWW.qblast(\"blastn\", \"nt\", record.seq)"
   ]
  },
  {
   "cell_type": "code",
   "execution_count": null,
   "id": "e71fd9d1-0422-478d-bcc0-b61f5834c7db",
   "metadata": {},
   "outputs": [],
   "source": [
    "from Bio.Blast import NCBIXML\n",
    "result_handle = open(DATADIR / \"my_blast.xml\")\n",
    "blast_records = NCBIXML.parse(result_handle)\n",
    "blast_record = next(blast_records)"
   ]
  },
  {
   "cell_type": "markdown",
   "id": "bc34890f-afc7-4b62-8e40-51f864681830",
   "metadata": {},
   "source": [
    "Here, `my_blast.xml` contains several records (because we used more than one query sequence): thus, we read it using `NCBIXML.parse()` and then iterate over the returned records.\n",
    "\n",
    "You can get the alignments from `blast_record.alignments`:"
   ]
  },
  {
   "cell_type": "code",
   "execution_count": null,
   "id": "98ab23a1-8301-44e7-ad07-054ca9cb63df",
   "metadata": {},
   "outputs": [],
   "source": [
    "blast_record.alignments[:10]"
   ]
  },
  {
   "cell_type": "code",
   "execution_count": null,
   "id": "89f5d82f-c26e-41d0-9251-0700cb489e02",
   "metadata": {},
   "outputs": [],
   "source": [
    "print(\"Alignments for sequence\", blast_record.query)\n",
    "\n",
    "for alignment in blast_record.alignments[:10]:\n",
    "    print(\"Accession number:\", alignment.accession)\n",
    "    print(\"Sequence:\", alignment.title)\n",
    "    print(\"Length:\", alignment.length)\n",
    "    print()"
   ]
  },
  {
   "cell_type": "code",
   "execution_count": null,
   "id": "052b57d0-4427-485c-89e3-2e756b2a6022",
   "metadata": {
    "scrolled": true
   },
   "outputs": [],
   "source": [
    "result_handle = open(DATADIR / \"my_blast.xml\")\n",
    "blast_records = NCBIXML.parse(result_handle)\n",
    "blast_record = next(blast_records)\n",
    "\n",
    "E_VALUE_THRESH = 0.04\n",
    "\n",
    "for alignment in blast_record.alignments:\n",
    "    for hsp in alignment.hsps:\n",
    "        if hsp.expect < E_VALUE_THRESH:\n",
    "            print(\"****Alignment****\")\n",
    "            print(\"sequence:\", alignment.title)\n",
    "            print(\"length:\", alignment.length)\n",
    "            print(\"e value:\", hsp.expect)\n",
    "            print(hsp.query[0:75] + \"...\")\n",
    "            print(hsp.match[0:75] + \"...\")\n",
    "            print(hsp.sbjct[0:75] + \"...\")\n",
    "            print()"
   ]
  },
  {
   "cell_type": "code",
   "execution_count": null,
   "id": "e267c647-9c98-448e-a796-f84a126d8a38",
   "metadata": {
    "scrolled": true
   },
   "outputs": [],
   "source": [
    "result_handle = open(DATADIR / \"my_blast.xml\")\n",
    "blast_records = NCBIXML.parse(result_handle)\n",
    "\n",
    "E_VALUE_THRESH = 0.04\n",
    "\n",
    "for blast_record in blast_records:\n",
    "    if blast_record.alignments:\n",
    "        print(f\"QUERY: {blast_record.query[:60]}...\")\n",
    "        for alignment in blast_record.alignments:\n",
    "            for hsp in alignment.hsps:\n",
    "                if hsp.expect < E_VALUE_THRESH:\n",
    "                    print(f\"MATCH: {alignment.title[:60]}...\")\n",
    "                    print(\"e value:\", hsp.expect)\n",
    "                    print()"
   ]
  },
  {
   "cell_type": "markdown",
   "id": "d500da91-3654-4be2-842b-0a579dac4098",
   "metadata": {},
   "source": [
    "---\n",
    "\n",
    "# Credits\n",
    "\n",
    "Partially abridged from a number of sources, including BioPython documentation, Peter Cock (CC-BY-SA 4.0)."
   ]
  }
 ],
 "metadata": {
  "kernelspec": {
   "display_name": "Python 3 (ipykernel)",
   "language": "python",
   "name": "python3"
  },
  "language_info": {
   "codemirror_mode": {
    "name": "ipython",
    "version": 3
   },
   "file_extension": ".py",
   "mimetype": "text/x-python",
   "name": "python",
   "nbconvert_exporter": "python",
   "pygments_lexer": "ipython3",
   "version": "3.12.5"
  }
 },
 "nbformat": 4,
 "nbformat_minor": 5
}
