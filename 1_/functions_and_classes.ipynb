{
 "cells": [
  {
   "cell_type": "markdown",
   "id": "b23bd9ca",
   "metadata": {},
   "source": [
    "# Functions and Classes\n",
    "## Intermediate Python for Life Sciences @ Physalia courses (Summer 2025)\n",
    "### Marco Chierici, Fondazione Bruno Kessler"
   ]
  },
  {
   "cell_type": "markdown",
   "id": "226c785c-4625-42b9-9bf6-7172e8a4d89a",
   "metadata": {},
   "source": [
    "# Functions"
   ]
  },
  {
   "cell_type": "markdown",
   "id": "04f7b322-c5dd-45ed-9224-2f0749956972",
   "metadata": {},
   "source": [
    "## Positional Arguments\n",
    "\n",
    "Much of what you will have to learn about using functions involves how to pass values from your calling statement to the function itself.\n",
    "\n",
    "Let's make a simple function that takes in **three arguments**."
   ]
  },
  {
   "cell_type": "code",
   "execution_count": null,
   "id": "f19510e6-05fe-41a4-95d2-322bf673c315",
   "metadata": {},
   "outputs": [],
   "source": [
    "def print_date(year, month, day):\n",
    "    joined = str(year) + '/' + str(month) + '/' + str(day)\n",
    "    print(joined)\n",
    "\n",
    "print_date(1685, 3, 21)"
   ]
  },
  {
   "cell_type": "markdown",
   "id": "f521f321-4149-4bee-8a28-b00c4ce75e37",
   "metadata": {},
   "source": [
    "## Keyword arguments\n",
    "\n",
    "This is pretty straightforward, but it means we have to make sure to get the arguments in the right order. To disambiguate, we can use *keyword arguments*, i.e., name the arguments when we call the function:"
   ]
  },
  {
   "cell_type": "code",
   "execution_count": null,
   "id": "cba1b39e-3e31-4055-9b39-3110b1ee2efb",
   "metadata": {},
   "outputs": [],
   "source": [
    "print_date(day=21, month=3, year=1685)"
   ]
  },
  {
   "cell_type": "markdown",
   "id": "0fc84edd-e63a-449d-ac3f-6a4cd39fbdf8",
   "metadata": {},
   "source": [
    "This works, because Python does not have to match values to arguments by position. This syntax involves a little more typing, but it makes for very readable code and less error-prone."
   ]
  },
  {
   "cell_type": "markdown",
   "id": "a33a2a72-ae96-4b35-a0a1-426c99b1c902",
   "metadata": {},
   "source": [
    "Mixing positional and keyword arguments\n",
    "---\n",
    "It can make good sense sometimes to mix positional and keyword arguments. In our previous example, we can expect this function to always take in a year, month, and day. Before we start mixing positional and keyword arguments, let's add another piece of information, such as the name of an event related to that date."
   ]
  },
  {
   "cell_type": "code",
   "execution_count": null,
   "id": "e6bdf36f-a44a-4589-8f9b-9cdf2e064d51",
   "metadata": {},
   "outputs": [],
   "source": [
    "def print_date(year, month, day, event):\n",
    "    joined = str(year) + '/' + str(month) + '/' + str(day)\n",
    "    print(f\"Date: {joined}\")\n",
    "    print(f\"Event: {event}\")\n",
    "    print()\n",
    "\n",
    "print_date(1685, 3, 21, \"Bach's birthday\")"
   ]
  },
  {
   "cell_type": "markdown",
   "id": "3cca4f6d-595c-4684-ad39-61b8932fcd4b",
   "metadata": {},
   "source": [
    "We can expect anyone who uses this function to supply a full date and an event, in that order. But some event information might not apply to every date. We can address this by keeping positional arguments for the date, making them mandatory, and expect keyword arguments with default values for everything else."
   ]
  },
  {
   "cell_type": "code",
   "execution_count": null,
   "id": "82d2b4c6-a899-412b-92e7-eecd46d356e2",
   "metadata": {},
   "outputs": [],
   "source": [
    "def print_date(year, month, day, event=None):\n",
    "    joined = str(year) + '/' + str(month) + '/' + str(day)\n",
    "    print(f\"Date: {joined}\")\n",
    "    if event:\n",
    "        print(f\"Event: {event}\")\n",
    "    print()\n",
    "\n",
    "print_date(1685, 3, 21, \"Bach's birthday\")\n",
    "print_date(2024, 3, 14, \"Pi Day\")\n",
    "print_date(2024, 5, 4, \"Star Wars Day\")\n",
    "print_date(2024, 9, 9)"
   ]
  },
  {
   "cell_type": "markdown",
   "id": "f8df5d47-5d37-475d-9af4-82566c502a56",
   "metadata": {},
   "source": [
    "## Arbitrary number of arguments\n",
    "\n",
    "Let's consider a function that takes two numbers in, and prints out the sum of the two numbers:"
   ]
  },
  {
   "cell_type": "code",
   "execution_count": null,
   "id": "febf88d7-08e6-476e-9fb0-756bf96a9631",
   "metadata": {},
   "outputs": [],
   "source": [
    "def adder(num_1, num_2):\n",
    "    # This function adds two numbers together, and prints the sum.\n",
    "    sum = num_1 + num_2\n",
    "    print(\"The sum of your numbers is %d.\" % sum)\n",
    "    \n",
    "# Let's add some numbers.\n",
    "adder(1, 2)\n",
    "adder(-1, 2)\n",
    "adder(1, -2)"
   ]
  },
  {
   "cell_type": "markdown",
   "id": "9ec44cee-b005-4ecf-be07-df862abac1cb",
   "metadata": {},
   "source": [
    "This function appears to work well. But what if we pass it three numbers, which is a perfectly reasonable thing to do mathematically?"
   ]
  },
  {
   "cell_type": "code",
   "execution_count": null,
   "id": "d35f8f14-a8ee-4a4d-891f-b07a00a7a489",
   "metadata": {},
   "outputs": [],
   "source": [
    "# Let's add some more numbers.\n",
    "adder(1, 2, 3)"
   ]
  },
  {
   "cell_type": "markdown",
   "id": "6ec26a3d-590f-4963-881d-7b54f13025f7",
   "metadata": {},
   "source": [
    "Python gives us a syntax for letting a function accept an arbitrary number of arguments. If we place an argument at the end of the list of arguments, with an asterisk in front of it, that argument will collect any remaining values from the calling statement into a tuple. "
   ]
  },
  {
   "cell_type": "code",
   "execution_count": null,
   "id": "bad01342-6368-455c-8c5d-88f94c052f8f",
   "metadata": {},
   "outputs": [],
   "source": [
    "def example_function(arg_1, arg_2, *arg_3):\n",
    "    # Let's look at the argument values.\n",
    "    print()\n",
    "    print(\"arg_1:\", arg_1)\n",
    "    print(\"arg_2:\", arg_2)\n",
    "    print(\"arg_3:\", arg_3)\n",
    "\n",
    "\n",
    "example_function(1, 2)\n",
    "example_function(1, 2, 3)\n",
    "example_function(1, 2, 3, 4)\n",
    "example_function(1, 2, 3, 4, 5)"
   ]
  },
  {
   "attachments": {},
   "cell_type": "markdown",
   "id": "33ea356e-0907-48f4-95bf-f7cd0d31f415",
   "metadata": {},
   "source": [
    "You can use a for loop to process (\"unpack\") these other arguments."
   ]
  },
  {
   "cell_type": "markdown",
   "id": "b05c1bdf-30d8-4e8d-9c05-a952c9ee2683",
   "metadata": {},
   "source": [
    "As a simple application, we now rewrite the `adder()` function above to accept two or more arguments, and print the sum of those numbers with a message.\n",
    "\n",
    "Example calls and outputs:\n",
    "\n",
    "```\n",
    "adder(1, 2)\n",
    "The sum of your numbers is 3.\n",
    "\n",
    "adder(1, 2, 3)\n",
    "The sum of your numbers is 6.\n",
    "\n",
    "adder(1, 2, 3, 4)\n",
    "The sum of your numbers is 10.\n",
    "\n",
    "adder(1, 2, 3, 4, 5)\n",
    "The sum of your numbers is 15.\n",
    "```"
   ]
  },
  {
   "cell_type": "code",
   "execution_count": null,
   "id": "00cbecee-c58c-4727-96c3-9f9f098ecf10",
   "metadata": {},
   "outputs": [],
   "source": []
  },
  {
   "cell_type": "code",
   "execution_count": null,
   "id": "5eff674e-061c-477e-9c8e-376e34e7be21",
   "metadata": {},
   "outputs": [],
   "source": [
    "def adder(num_1, num_2, *nums):\n",
    "    # This function adds the given numbers together,\n",
    "    # and prints the sum.\n",
    "\n",
    "    # Start by adding the first two numbers, which\n",
    "    # will always be present.\n",
    "    sum = num_1 + num_2\n",
    "\n",
    "    # Then add any other numbers that were sent.\n",
    "    for num in nums:\n",
    "        sum = sum + num\n",
    "\n",
    "    # Print the results.\n",
    "    print(\"The sum of your numbers is %d.\" % sum)"
   ]
  },
  {
   "cell_type": "code",
   "execution_count": null,
   "id": "e6e10c26-1fa1-4222-b629-c137121f776d",
   "metadata": {},
   "outputs": [],
   "source": [
    "# Let's add some numbers.\n",
    "adder(1, 2)\n",
    "adder(1, 2, 3)\n",
    "adder(1, 2, 3, 4)\n",
    "adder(1, 2, 3, 4, 5)"
   ]
  },
  {
   "cell_type": "markdown",
   "id": "516a2dea-d38e-47d6-a9d5-9e67178b7c0f",
   "metadata": {},
   "source": [
    "In this new version, Python does the following:\n",
    "\n",
    "- stores the first value in the calling statement in the argument `num_1`;\n",
    "- stores the second value in the calling statement in the argument `num_2`;\n",
    "- stores all other values in the calling statement as a tuple in the argument `nums`.\n",
    "\n",
    "We can then \"unpack\" these values, using a for loop. We can demonstrate how flexible this function is by calling it a number of times, with a different number of arguments each time."
   ]
  },
  {
   "cell_type": "markdown",
   "id": "d337924c-b0ae-4f70-9e7b-dbce9e50a8cb",
   "metadata": {},
   "source": [
    "**Hint.** there is a more concise syntax for `sum = sum + num`: it is `sum += num`."
   ]
  },
  {
   "cell_type": "markdown",
   "id": "c5f043db-238e-49e7-a737-30e356854112",
   "metadata": {},
   "source": [
    "## Accepting an arbitrary number of keyword arguments\n",
    "\n",
    "Python also provides a syntax for accepting an arbitrary number of keyword arguments."
   ]
  },
  {
   "cell_type": "code",
   "execution_count": null,
   "id": "4103adc5-2d39-4464-9d66-de1631387239",
   "metadata": {},
   "outputs": [],
   "source": [
    "def example_function(arg_1, arg_2, **kwargs):\n",
    "    # Let's look at the argument values.\n",
    "    print()\n",
    "    print(\"arg_1:\", arg_1)\n",
    "    print(\"arg_2:\", arg_2)\n",
    "    print(\"arg_3:\", kwargs)\n",
    "\n",
    "\n",
    "example_function(\"a\", \"b\")\n",
    "example_function(\"a\", \"b\", value_3=\"c\")\n",
    "example_function(\"a\", \"b\", value_3=\"c\", value_4=\"d\")\n",
    "example_function(\"a\", \"b\", value_3=\"c\", value_4=\"d\", value_5=\"e\")"
   ]
  },
  {
   "cell_type": "markdown",
   "id": "2e3f8a69-2782-44f1-875c-4e7db3b3e789",
   "metadata": {},
   "source": [
    "The third argument has two asterisks in front of it, which tells Python to collect all remaining key-value arguments in the calling statement. This argument is commonly named `kwargs`.\n",
    "\n",
    "We see in the output that these key-values are stored in a dictionary. We can loop through this dictionary to work with all of the values that are passed into the function."
   ]
  },
  {
   "cell_type": "markdown",
   "id": "b8425e8b-f975-4ae0-bece-5cf1533f703e",
   "metadata": {},
   "source": [
    "---"
   ]
  },
  {
   "cell_type": "markdown",
   "id": "30400563-b6f2-4482-894d-c950dcce2811",
   "metadata": {},
   "source": [
    "# Classes"
   ]
  },
  {
   "attachments": {},
   "cell_type": "markdown",
   "id": "f9f9f47e-4bb1-453a-8c4b-7c98fb1d2f3d",
   "metadata": {},
   "source": [
    "## What is a class?\n",
    "\n",
    "Classes are a way of combining information and behavior. For example, let's consider what you'd need to do if you were creating a rocket ship in a game, or in a physics simulation. One of the first things you'd want to track are the x and y coordinates of the rocket. Here is what a simple rocket ship class looks like in code:"
   ]
  },
  {
   "cell_type": "code",
   "execution_count": null,
   "id": "c47d4e8f-dff3-43a9-b7d5-9b6791e95faf",
   "metadata": {
    "collapsed": false,
    "jupyter": {
     "outputs_hidden": false
    }
   },
   "outputs": [],
   "source": [
    "class Rocket:\n",
    "    # Rocket simulates a rocket ship for a game,\n",
    "    #  or a physics simulation.\n",
    "\n",
    "    def __init__(self):\n",
    "        # Each rocket has an (x,y) position.\n",
    "        self.x = 0\n",
    "        self.y = 0"
   ]
  },
  {
   "cell_type": "markdown",
   "id": "1c667976-e7db-4c16-a86d-0d58779c9df6",
   "metadata": {},
   "source": [
    "The **`__init()__`** method sets the values for any parameters that need to be defined when an object is first created. The *self* part is a syntax that allows you to access a variable from anywhere else in the class.\n",
    "\n",
    "The Rocket class stores two pieces of information so far, but it can't do anything. The first behavior to define is a core behavior of a rocket: moving up. Here is what that might look like in code:"
   ]
  },
  {
   "cell_type": "code",
   "execution_count": null,
   "id": "ba1df7b2-de3a-4302-b3ab-ae178f22b2a8",
   "metadata": {},
   "outputs": [],
   "source": [
    "class Rocket:\n",
    "    # Rocket simulates a rocket ship for a game,\n",
    "    #  or a physics simulation.\n",
    "\n",
    "    def __init__(self):\n",
    "        # Each rocket has an (x,y) position.\n",
    "        self.x = 0\n",
    "        self.y = 0\n",
    "\n",
    "    def move_up(self):\n",
    "        # Increment the y-position of the rocket.\n",
    "        self.y += 1"
   ]
  },
  {
   "cell_type": "markdown",
   "id": "1a2d861b-bcf2-432a-afbd-de328ff10e3d",
   "metadata": {},
   "source": [
    "The Rocket class can now store some information, and it can do something. But this code has not actually created a rocket yet. Here is how you actually make a rocket:"
   ]
  },
  {
   "cell_type": "code",
   "execution_count": null,
   "id": "b1e90ee5-7845-45ed-912c-fdc81bd3d73a",
   "metadata": {
    "collapsed": false,
    "jupyter": {
     "outputs_hidden": false
    }
   },
   "outputs": [],
   "source": [
    "my_rocket = Rocket()\n",
    "print(my_rocket)"
   ]
  },
  {
   "cell_type": "markdown",
   "id": "486b0c78-e689-4103-80e5-75015084fa10",
   "metadata": {},
   "source": [
    "To actually use a class, you create a variable such as *my\\_rocket*. Then you set that equal to the name of the class, with an empty set of parentheses. Python creates an **object** from the class. An object is a single instance of the Rocket class; it has a copy of each of the class' variables, and it can do any action that is defined for the class. In this case, you can see that the variable `my_rocket` is a Rocket object from the `__main__` program file, which is stored at a particular location in memory.\n",
    "\n",
    "Once you have a class, you can define an object and use its methods. Here is how you might define a rocket and have it start to move up:"
   ]
  },
  {
   "cell_type": "code",
   "execution_count": null,
   "id": "b97eaff3-d174-41e7-b03f-e6ecb52c51a9",
   "metadata": {
    "collapsed": false,
    "jupyter": {
     "outputs_hidden": false
    }
   },
   "outputs": [],
   "source": [
    "# Create a Rocket object, and have it start to move up.\n",
    "my_rocket = Rocket()\n",
    "print(\"Rocket altitude:\", my_rocket.y)\n",
    "\n",
    "my_rocket.move_up()\n",
    "print(\"Rocket altitude:\", my_rocket.y)\n",
    "\n",
    "my_rocket.move_up()\n",
    "print(\"Rocket altitude:\", my_rocket.y)"
   ]
  },
  {
   "cell_type": "markdown",
   "id": "5b2b001b-aa08-4f63-a659-fe35614ce881",
   "metadata": {},
   "source": [
    "Once you have a class defined, you can create as many objects from that class as you want. Each object is its own instance of that class, with its own separate variables. All of the objects are capable of the same behavior, but each object's particular actions do not affect any of the other objects."
   ]
  },
  {
   "cell_type": "markdown",
   "id": "db732bed-156a-44fe-b240-f282390ae384",
   "metadata": {},
   "source": [
    "## Exercise\n",
    "\n",
    "1. Create two distinct `Rocket` objects. Print each of them to show that they are separate objects.\n",
    "2. Move the second rocket up.\n",
    "3. Print the `y` attribute of each rocket to show that only the second one has moved."
   ]
  },
  {
   "cell_type": "code",
   "execution_count": null,
   "id": "292c99be-ea9c-4a1c-86e0-19c8dc70b687",
   "metadata": {},
   "outputs": [],
   "source": []
  },
  {
   "cell_type": "code",
   "execution_count": null,
   "id": "aa1d16bc-db52-4538-b774-c1e9b372ba81",
   "metadata": {},
   "outputs": [],
   "source": [
    "r1 = Rocket()\n",
    "r2 = Rocket()\n",
    "\n",
    "print(r1)\n",
    "print(r2)\n",
    "\n",
    "# move the second rocket up\n",
    "r2.move_up()\n",
    "\n",
    "my_rockets = [r1, r2]\n",
    "# show that only the first rocket has moved.\n",
    "for rocket in my_rockets:\n",
    "    print(\"Rocket altitude:\", rocket.y)"
   ]
  },
  {
   "cell_type": "markdown",
   "id": "c041ca93-3988-4a66-b445-868097cd0433",
   "metadata": {},
   "source": [
    "## Accepting parameters for the `__init__()` method"
   ]
  },
  {
   "cell_type": "code",
   "execution_count": null,
   "id": "2f0c0e22-9b82-4b40-8ccd-160afccf96c6",
   "metadata": {
    "collapsed": false,
    "jupyter": {
     "outputs_hidden": false
    }
   },
   "outputs": [],
   "source": [
    "class Rocket:\n",
    "    # Rocket simulates a rocket ship for a game,\n",
    "    #  or a physics simulation.\n",
    "\n",
    "    def __init__(self, x=0, y=0):\n",
    "        # Each rocket has an (x,y) position.\n",
    "        self.x = x\n",
    "        self.y = y\n",
    "\n",
    "    def move_up(self):\n",
    "        # Increment the y-position of the rocket.\n",
    "        self.y += 1"
   ]
  },
  {
   "cell_type": "code",
   "execution_count": null,
   "id": "34094cd9-a4ac-4bfe-9a10-36352c2ab37f",
   "metadata": {},
   "outputs": [],
   "source": [
    "# Make a series of rockets at different starting places.\n",
    "rockets = []\n",
    "rockets.append(Rocket())\n",
    "rockets.append(Rocket(0, 10))\n",
    "rockets.append(Rocket(100, 0))\n",
    "\n",
    "# Show where each rocket is.\n",
    "for index, rocket in enumerate(rockets):\n",
    "    print(f\"Rocket {index} is at ({rocket.x}, {rocket.y}).\")"
   ]
  },
  {
   "attachments": {},
   "cell_type": "markdown",
   "id": "d15b37da-9e11-48e3-ba97-839ee65b85ae",
   "metadata": {},
   "source": [
    "## Exercise: Accepting parameters in a class method\n",
    "\n",
    "Just like `__init__()`, any method in a class can accept parameters of any kind. With this in mind, the `move_up()` method can be made much more flexible. \n",
    "\n",
    "Rewrite `move_up()` as a more general `move_rocket()` method accepting two keywork arguments `x_increment` and `y_increment`. This new method should allow the rocket to be moved any amount, in any direction. \n",
    "\n",
    "Set the default values of this new method so that the default behaviour mimicks that of the old `move_up()` method.\n",
    "\n",
    "Then, create three rocket objects and move each of them a different amout, using your new method. Show where each rocket is by printing its `x` and `y` attributes."
   ]
  },
  {
   "cell_type": "code",
   "execution_count": null,
   "id": "17150f65-0078-49ca-ba35-23ee6f8161b5",
   "metadata": {},
   "outputs": [],
   "source": []
  },
  {
   "cell_type": "code",
   "execution_count": null,
   "id": "eb6429fa-419e-4690-b4a4-c54d4f338a29",
   "metadata": {},
   "outputs": [],
   "source": [
    "class Rocket:\n",
    "    def __init__(self, x=0, y=0):\n",
    "        # Each rocket has an (x,y) position.\n",
    "        self.x = x\n",
    "        self.y = y\n",
    "\n",
    "    def move_rocket(self, x_increment=0, y_increment=1):\n",
    "        # Move the rocket according to the parameters given.\n",
    "        # Default behavior is to move the rocket up one unit.\n",
    "        self.x += x_increment\n",
    "        self.y += y_increment\n",
    "\n",
    "\n",
    "# Create three rockets.\n",
    "rockets = [Rocket() for x in range(0, 3)]\n",
    "\n",
    "# Move each rocket a different amount.\n",
    "rockets[0].move_rocket()\n",
    "rockets[1].move_rocket(10, 10)\n",
    "rockets[2].move_rocket(-10, 0)\n",
    "\n",
    "# Show where each rocket is.\n",
    "for index, rocket in enumerate(rockets):\n",
    "    print(f\"Rocket {index} is at ({rocket.x}, {rocket.y}).\")"
   ]
  },
  {
   "cell_type": "markdown",
   "id": "2518c349-38ab-4f01-873e-8f81a7745a35",
   "metadata": {},
   "source": [
    "## Adding methods"
   ]
  },
  {
   "cell_type": "markdown",
   "id": "27616f76-c0ae-4a9e-940d-651f3f61a1a4",
   "metadata": {},
   "source": [
    "Let's add a method that will report the distance from one rocket to any other rocket.\n",
    "\n",
    "If you are not familiar with distance calculations, there is a fairly simple formula to tell the distance between two points if you know the x and y values of each point. This new method performs that calculation, and then returns the resulting distance."
   ]
  },
  {
   "cell_type": "code",
   "execution_count": null,
   "id": "50a4c978-3c19-4dfe-96ac-593f6e15a6ce",
   "metadata": {
    "collapsed": false,
    "jupyter": {
     "outputs_hidden": false
    }
   },
   "outputs": [],
   "source": [
    "from math import sqrt\n",
    "\n",
    "\n",
    "class Rocket:\n",
    "    def __init__(self, x=0, y=0):\n",
    "        self.x = x\n",
    "        self.y = y\n",
    "\n",
    "    def get_distance(self, other_rocket):\n",
    "        # Calculates the distance from this rocket to another rocket,\n",
    "        # and returns that value.\n",
    "        distance = sqrt((self.x - other_rocket.x) ** 2 + (self.y - other_rocket.y) ** 2)\n",
    "        return distance\n",
    "\n",
    "\n",
    "# Make two rockets, at different places.\n",
    "rocket_0 = Rocket()\n",
    "rocket_1 = Rocket(10, 5)\n",
    "\n",
    "# Show the distance between them.\n",
    "distance = rocket_0.get_distance(rocket_1)\n",
    "print(f\"The rockets are {distance:.5f} units apart.\")"
   ]
  },
  {
   "cell_type": "markdown",
   "id": "4ebf15cc-c4aa-4e3d-b989-faf28adc7337",
   "metadata": {},
   "source": [
    "## The `__str__()` method\n",
    "\n",
    "You know that if you print an instance of `Rocket` you get its address in memory:"
   ]
  },
  {
   "cell_type": "code",
   "execution_count": null,
   "id": "399dabfe-83d0-4f2a-89e1-78bca11cb155",
   "metadata": {},
   "outputs": [],
   "source": [
    "print(rocket_0)"
   ]
  },
  {
   "cell_type": "markdown",
   "id": "f425874e-5ea5-4b69-8435-496400940003",
   "metadata": {},
   "source": [
    "If you want `print()` to display a more informative output, such as basic info about the attributes, you should add the special `__str__()` method:"
   ]
  },
  {
   "cell_type": "code",
   "execution_count": null,
   "id": "52b7ece8-ebdc-44a2-a429-e7d771525f6d",
   "metadata": {},
   "outputs": [],
   "source": [
    "class Rocket:\n",
    "\n",
    "    def __init__(self, x=0, y=0):\n",
    "        self.x = x\n",
    "        self.y = y\n",
    "\n",
    "    def __str__(self):\n",
    "        return f\"Rocket(x={self.x}, y={self.y})\"\n",
    "\n",
    "\n",
    "r = Rocket(10, 10)\n",
    "print(r)"
   ]
  },
  {
   "cell_type": "markdown",
   "id": "ff17ee37-43ef-4500-acf3-5267ca89cce6",
   "metadata": {},
   "source": [
    "## The `__dict__` attribute\n",
    "\n",
    "It is a dictionary containing all attributes of your object. You can use it to inspect complicated objects of classes with a lot of attribtues."
   ]
  },
  {
   "cell_type": "code",
   "execution_count": null,
   "id": "e0c8075e-0422-44ba-a3bc-5e95716294dd",
   "metadata": {},
   "outputs": [],
   "source": [
    "print(r.__dict__)"
   ]
  },
  {
   "cell_type": "markdown",
   "id": "183a9e8e-1888-423c-abb0-d897c58d5b6a",
   "metadata": {},
   "source": [
    "## A simple Gene class"
   ]
  },
  {
   "cell_type": "code",
   "execution_count": null,
   "id": "3a97ff89-ab48-4c85-825a-18f597d17b71",
   "metadata": {},
   "outputs": [],
   "source": [
    "class Gene:\n",
    "    def __init__(self, id, seq):\n",
    "        print(\"Hi! I am a Gene object\")\n",
    "        print(f\"Initializing my id to {id}...\")\n",
    "        self.id = id\n",
    "        print(f\"Initializing my sequence to {seq}\")\n",
    "        self.sequence = seq\n",
    "\n",
    "    def get_id(self):\n",
    "        return self.id\n",
    "\n",
    "    def get_sequence(self):\n",
    "        return self.sequence\n",
    "\n",
    "    def get_len(self):\n",
    "        return len(self.sequence)"
   ]
  },
  {
   "cell_type": "code",
   "execution_count": null,
   "id": "6fc74f76-d690-4333-b84c-81a6cd9e84bb",
   "metadata": {},
   "outputs": [],
   "source": [
    "gene = Gene(\"AY342\", \"CATTGAC\")"
   ]
  },
  {
   "cell_type": "code",
   "execution_count": null,
   "id": "ca9a8e8f-6fa5-4c77-aa0a-7a5894ad2d88",
   "metadata": {},
   "outputs": [],
   "source": [
    "gene.get_sequence()"
   ]
  },
  {
   "cell_type": "code",
   "execution_count": null,
   "id": "3b1a5a26-a6a8-42f0-bca5-17ae33f92c8b",
   "metadata": {},
   "outputs": [],
   "source": [
    "class Gene:\n",
    "    def __init__(self, id, seq):\n",
    "        print(\"Hi! I am a Gene object\")\n",
    "        print(f\"Initializing my id to {id}...\")\n",
    "        self.id = id\n",
    "        print(f\"Initializing my sequence to {seq}\")\n",
    "        self.sequence = seq\n",
    "\n",
    "    def get_id(self):\n",
    "        return self.id\n",
    "\n",
    "    def get_sequence(self):\n",
    "        return self.sequence\n",
    "\n",
    "    def get_len(self):\n",
    "        return len(self.sequence)\n",
    "\n",
    "    def base_composition(self, base):\n",
    "        return self.sequence.count(base)\n",
    "\n",
    "    def gc_content(self):\n",
    "        g_count = self.base_composition(\"G\")\n",
    "        c_count = self.base_composition(\"C\")\n",
    "        return (g_count + c_count) / len(self.sequence)\n"
   ]
  },
  {
   "cell_type": "code",
   "execution_count": null,
   "id": "ac17b25e-e93f-46d5-b078-6828e312a6c7",
   "metadata": {},
   "outputs": [],
   "source": [
    "gene = Gene(\"ABCD\", \"CGGCTAG\")"
   ]
  },
  {
   "cell_type": "code",
   "execution_count": null,
   "id": "4ce17769-ee17-44db-9c74-c104bb936a3c",
   "metadata": {},
   "outputs": [],
   "source": [
    "gene.base_composition(\"C\")"
   ]
  },
  {
   "cell_type": "code",
   "execution_count": null,
   "id": "f18dbf74-80d2-4af6-87f6-0941647dbac5",
   "metadata": {},
   "outputs": [],
   "source": [
    "gene.gc_content()"
   ]
  },
  {
   "cell_type": "code",
   "execution_count": null,
   "id": "f0768dad-cda2-4fd6-8284-5c3da79867e9",
   "metadata": {},
   "outputs": [],
   "source": [
    "class Gene:\n",
    "    def __init__(self, id, seq):\n",
    "        print(\"Hi! I am a Gene object\")\n",
    "        print(f\"Initializing my id to {id}...\")\n",
    "        self.id = id\n",
    "        print(f\"Initializing my sequence to {seq}\")\n",
    "        self.sequence = seq\n",
    "\n",
    "    def get_id(self):\n",
    "        return self.id\n",
    "\n",
    "    def get_sequence(self):\n",
    "        return self.sequence\n",
    "\n",
    "    def get_len(self):\n",
    "        return len(self.sequence)\n",
    "\n",
    "    def base_composition(self, base):\n",
    "        return self.sequence.count(base)\n",
    "\n",
    "    def gc_content(self):\n",
    "        g_count = self.base_composition(\"G\")\n",
    "        c_count = self.base_composition(\"C\")\n",
    "        return (g_count + c_count) / len(self.sequence)\n",
    "\n",
    "    def set_sequence(self, seq_new):\n",
    "        self.sequence = seq_new\n"
   ]
  },
  {
   "cell_type": "code",
   "execution_count": null,
   "id": "6a13c355-547f-44e1-a90e-3906a7978d18",
   "metadata": {},
   "outputs": [],
   "source": [
    "gene = Gene(\"NCBI\", \"CGGCTAG\")\n",
    "gene.get_sequence()"
   ]
  },
  {
   "cell_type": "code",
   "execution_count": null,
   "id": "510fdddc-952c-4f0f-ae98-a24c32e33a93",
   "metadata": {},
   "outputs": [],
   "source": [
    "gene.set_sequence(\"AAACGTA\")\n",
    "gene.get_sequence()"
   ]
  },
  {
   "cell_type": "markdown",
   "id": "f56ead41-8a7b-47d5-9c2f-7e95e9b7e5bf",
   "metadata": {},
   "source": [
    "## A simple Sequence class"
   ]
  },
  {
   "cell_type": "code",
   "execution_count": null,
   "id": "a45aef4f-d05e-46a9-b2ef-6b82984206da",
   "metadata": {},
   "outputs": [],
   "source": [
    "class Sequence:\n",
    "\n",
    "    transcription_table = {\"A\": \"U\", \"T\": \"A\", \"C\": \"G\", \"G\": \"C\"}\n",
    "\n",
    "    def __init__(self, seqstring):\n",
    "        self.seqstring = seqstring.upper()\n",
    "\n",
    "    def transcription(self):\n",
    "        tt = \"\"\n",
    "        for letter in self.seqstring:\n",
    "            if letter in \"ATCG\":\n",
    "                tt += self.transcription_table[letter]\n",
    "        return tt"
   ]
  },
  {
   "cell_type": "code",
   "execution_count": null,
   "id": "d4d18967-3123-48a8-8755-07adc8354e87",
   "metadata": {},
   "outputs": [],
   "source": [
    "dangerous_virus = Sequence(\"atggagagccttgttcttggtgtcaa\")\n",
    "dangerous_virus.seqstring"
   ]
  },
  {
   "cell_type": "code",
   "execution_count": null,
   "id": "588dda1c-b320-4d7a-98f2-fe37aef9b5e3",
   "metadata": {},
   "outputs": [],
   "source": [
    "harmless_virus = Sequence(\"aatgctactactattagtagaattgatgcca\")\n",
    "harmless_virus.seqstring"
   ]
  },
  {
   "cell_type": "code",
   "execution_count": null,
   "id": "37312e7b-f245-4e40-b4e2-2a9032044618",
   "metadata": {},
   "outputs": [],
   "source": [
    "dangerous_virus.transcription()"
   ]
  },
  {
   "cell_type": "markdown",
   "id": "09d44ece-71c8-4f39-b469-e0de7d366006",
   "metadata": {},
   "source": [
    "We now add the `restriction` method to the class, which outputs the number of restriction sites of a sequence given an enzyme. Restriction sites are the positions where the sequence will be cut if you incubate it with the corresponding restriction enzyme. The enzyme is therefore the *parameter* of this new method."
   ]
  },
  {
   "cell_type": "code",
   "execution_count": null,
   "id": "5d0294c2-546c-41a3-b3d3-4957bb8cd22d",
   "metadata": {},
   "outputs": [],
   "source": [
    "class Sequence:\n",
    "\n",
    "    transcription_table = {\"A\": \"U\", \"T\": \"A\", \"C\": \"G\", \"G\": \"C\"}\n",
    "    enz_dict = {\"EcoRI\": \"GAATTC\", \"EcoRV\": \"GATATC\"}\n",
    "\n",
    "    def __init__(self, seqstring):\n",
    "        self.seqstring = seqstring.upper()\n",
    "\n",
    "    def restriction(self, enz):\n",
    "        if enz in Sequence.enz_dict.keys():\n",
    "            enz_target = Sequence.enz_dict[enz]\n",
    "            return self.seqstring.count(enz_target)\n",
    "        else:\n",
    "            return 0\n",
    "\n",
    "    def transcription(self):\n",
    "        tt = \"\"\n",
    "        for letter in self.seqstring:\n",
    "            if letter in \"ATCG\":\n",
    "                tt += self.transcription_table[letter]\n",
    "        return tt"
   ]
  },
  {
   "cell_type": "code",
   "execution_count": null,
   "id": "8a159920-50fe-408e-8805-fdbe0b9ef9ec",
   "metadata": {},
   "outputs": [],
   "source": [
    "other_virus = Sequence(\"atgatatcggagaggatatcggtgtcaa\")\n",
    "other_virus.restriction(\"EcoRV\")"
   ]
  },
  {
   "cell_type": "markdown",
   "id": "e0e3a926-8722-48a5-8dca-051a0664a2d3",
   "metadata": {},
   "source": [
    "## Class inheritance\n",
    "\n",
    "A plasmid is a type of DNA sequence: we can create a class called `Plasmid` based on the `Sequence` class - i.e., it *inherits* methods and properties from `Sequence`."
   ]
  },
  {
   "cell_type": "code",
   "execution_count": null,
   "id": "71e70aba-0e62-44c5-b360-e0e28fba66c4",
   "metadata": {},
   "outputs": [],
   "source": [
    "class Plasmid(Sequence):\n",
    "\n",
    "    # antibiotic resistance genes included in the plasmid\n",
    "    ab_res_dict = {\"Tet\": \"ctagcat\", \"Amp\": \"CACTACTG\"}\n",
    "\n",
    "    def __init__(self, seqstring):\n",
    "        super().__init__(seqstring)\n",
    "\n",
    "    def ab_res(self, ab):\n",
    "        if self.ab_res_dict[ab] in self.seqstring:\n",
    "            return True\n",
    "        return False"
   ]
  },
  {
   "cell_type": "markdown",
   "id": "1d6d5aa2-5eb9-489f-ab38-d8f708678c38",
   "metadata": {},
   "source": [
    "In the above code, `super()` refers to the parent class. Therefore, `super().__init__()` is like actually using `Sequence.__init()`."
   ]
  },
  {
   "cell_type": "code",
   "execution_count": null,
   "id": "af6454bc-92cf-48c7-8e65-7477e81f62e9",
   "metadata": {},
   "outputs": [],
   "source": [
    "plasmid = Plasmid(\"atgatatcggaCACTACTGtgtcaa\")"
   ]
  },
  {
   "cell_type": "code",
   "execution_count": null,
   "id": "43bdbfcf-6309-4f0f-a73f-8bc42c0b2c89",
   "metadata": {},
   "outputs": [],
   "source": [
    "print(plasmid.seqstring)"
   ]
  },
  {
   "cell_type": "code",
   "execution_count": null,
   "id": "32d155aa-a3fa-4ac5-b188-72b923ad5404",
   "metadata": {},
   "outputs": [],
   "source": [
    "plasmid.ab_res(\"Amp\")"
   ]
  },
  {
   "cell_type": "markdown",
   "id": "200deabc-d147-49c6-8672-885f8f1a217e",
   "metadata": {},
   "source": [
    "## Recap Exercise\n",
    "\n",
    "Task: Create a Python class to represent a DNA sequence. The class should include methods to compute various properties of the sequence.\n",
    "\n",
    "1. Define a class named `DNASequence` with a constructor that takes as input a string representing a DNA sequence\n",
    "1. Write a method `count_nucleotides` that counts the occurrences of each nucleotide A, T, C, G and returns these counts as a dictionary\n",
    "2. Write a method `complement` that returns the complement of the DNA sequence\n",
    "3. Test the class.\n",
    "\n",
    "Example usage:\n",
    "\n",
    "```\n",
    "seq = DNASequence(\"ACTGTCGCCCGTTGAC\")\n",
    "seq.complement()\n",
    "  'TGACAGCGGGCAACTG'\n",
    "seq.count_nucleotides()\n",
    "  {'A': 2, 'T': 4, 'C': 6, 'G': 4}\n",
    "```"
   ]
  },
  {
   "cell_type": "code",
   "execution_count": null,
   "id": "1abcaa24-30e4-40fa-9456-7331cab34a5f",
   "metadata": {},
   "outputs": [],
   "source": []
  },
  {
   "cell_type": "code",
   "execution_count": null,
   "id": "d83c60ac-511e-45c1-b607-22d77b833b92",
   "metadata": {},
   "outputs": [],
   "source": [
    "class DNASequence:\n",
    "    def __init__(self, sequence):\n",
    "        self.sequence = sequence.upper()\n",
    "\n",
    "    def count_nucleotides(self):\n",
    "        nucleotide_count = {'A': 0, 'T': 0, 'C': 0, 'G': 0}\n",
    "        for nucleotide in self.sequence:\n",
    "            if nucleotide in nucleotide_count:\n",
    "                nucleotide_count[nucleotide] += 1\n",
    "        return nucleotide_count\n",
    "\n",
    "    def complement(self):\n",
    "        complement_map = {'A': 'T', 'T': 'A', 'C': 'G', 'G': 'C'}\n",
    "        return ''.join([complement_map[nucleotide] for nucleotide in self.sequence])\n"
   ]
  },
  {
   "cell_type": "code",
   "execution_count": null,
   "id": "ea892280-d776-4f31-af54-efafdbcb5bc1",
   "metadata": {},
   "outputs": [],
   "source": [
    "seq = DNASequence(\"ACTGTCGCCCGTTGAC\")\n",
    "seq.complement()"
   ]
  },
  {
   "cell_type": "code",
   "execution_count": null,
   "id": "f6f992c5-ead6-486b-a3c4-d66eb21aa205",
   "metadata": {},
   "outputs": [],
   "source": [
    "seq.count_nucleotides()"
   ]
  },
  {
   "cell_type": "markdown",
   "id": "885111ba-0f39-44a8-a3cf-7ff13b1bfdaf",
   "metadata": {},
   "source": [
    "## Bonus Exercise\n",
    "\n",
    "Task: Write a simple Python class to simulate a cell, including its basic properties and functions such as replication and mutation.\n",
    "\n",
    "1. Define a class named `Cell`\n",
    "2. The class should include attributes like `DNA_sequence` (string), `cell_type` (string), and `mutation_rate` (float)\n",
    "3. Write an `__init__` method to initialize such attributes\n",
    "4. Implement a method `replicate` that simulates the replication of the cell, including a chance of mutation based on `mutation_rate`.\n",
    "5. (bonus) Implement a method `mutate` that randomly mutates the DNA sequence (e.g., changes a random nucleotide in the DNA sequence).\n",
    "6. Try a few examples, also changing the mutation rate.\n",
    "\n",
    "Hints:\n",
    "- For randomness, you can use the built-in `random` module (`import random`), which has the functions `random()` to generate random numbers in (0, 1), `randint(0, N)` to generate random integers in (0, N), and `choice(seq)` to choose a random element from a non-empty sequence."
   ]
  },
  {
   "cell_type": "code",
   "execution_count": null,
   "id": "1b05cefe-b464-43b8-9fac-785c4d160bbf",
   "metadata": {},
   "outputs": [],
   "source": []
  },
  {
   "cell_type": "markdown",
   "id": "00ebf3ee-09d2-49bb-ad32-d17308cdc237",
   "metadata": {},
   "source": [
    "---\n",
    "\n",
    "# Credits\n",
    "\n",
    "Partially abridged from work by Eric Matthes (MIT license), Sebastian Bassi (MIT license)."
   ]
  }
 ],
 "metadata": {
  "kernelspec": {
   "display_name": "Python 3 (ipykernel)",
   "language": "python",
   "name": "python3"
  },
  "language_info": {
   "codemirror_mode": {
    "name": "ipython",
    "version": 3
   },
   "file_extension": ".py",
   "mimetype": "text/x-python",
   "name": "python",
   "nbconvert_exporter": "python",
   "pygments_lexer": "ipython3",
   "version": "3.12.5"
  }
 },
 "nbformat": 4,
 "nbformat_minor": 5
}
